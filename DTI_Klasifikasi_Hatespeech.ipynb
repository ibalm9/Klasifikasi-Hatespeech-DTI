{
  "nbformat": 4,
  "nbformat_minor": 0,
  "metadata": {
    "colab": {
      "name": "DTI Klasifikasi Hatespeech.ipynb",
      "provenance": [],
      "collapsed_sections": []
    },
    "kernelspec": {
      "name": "python3",
      "display_name": "Python 3"
    }
  },
  "cells": [
    {
      "cell_type": "markdown",
      "metadata": {
        "id": "7xCBqLb-tctx"
      },
      "source": [
        "IQBAL MAULANA \\\n"
      ]
    },
    {
      "cell_type": "code",
      "metadata": {
        "id": "ttDzpyxALXLg"
      },
      "source": [
        "import os\n",
        "import re\n",
        "import json\n",
        "import datetime\n",
        "import math\n",
        "import seaborn as sns\n",
        "import pandas as pd\n",
        "import numpy as np\n",
        "from tqdm import tqdm\n",
        "import matplotlib.pyplot as plt\n",
        "\n",
        "from sklearn.metrics import classification_report\n",
        "from sklearn.feature_extraction.text import CountVectorizer, TfidfTransformer, TfidfVectorizer\n",
        "from sklearn.svm import SVC\n",
        "from sklearn.model_selection import train_test_split\n",
        "from sklearn.metrics import make_scorer, accuracy_score, f1_score\n",
        "from sklearn.metrics import confusion_matrix, roc_auc_score, recall_score, precision_score"
      ],
      "execution_count": 2,
      "outputs": []
    },
    {
      "cell_type": "code",
      "metadata": {
        "colab": {
          "base_uri": "https://localhost:8080/"
        },
        "id": "pOzFWMhQK_ga",
        "outputId": "ac1b28c7-bf1e-400e-cb0b-b1461954aa95"
      },
      "source": [
        "from google.colab import drive\n",
        "drive.mount('/content/drive')"
      ],
      "execution_count": 3,
      "outputs": [
        {
          "output_type": "stream",
          "text": [
            "Mounted at /content/drive\n"
          ],
          "name": "stdout"
        }
      ]
    },
    {
      "cell_type": "code",
      "metadata": {
        "colab": {
          "base_uri": "https://localhost:8080/"
        },
        "id": "Zo_-tVhOLaWy",
        "outputId": "d60d31c4-f904-40a7-f822-2fa2e74f2524"
      },
      "source": [
        "import os\n",
        "import pandas as pd\n",
        "\n",
        "PATH_BASE = 'drive/My Drive/DTI/'\n",
        "\n",
        "DATASET_FOLDER = 'DATASET'\n",
        "DATASET_FILE = 'IDHSD_RIO_unbalanced_713_2017.txt'\n",
        "DATASET_PATH = os.path.join(PATH_BASE, DATASET_FOLDER, DATASET_FILE)\n",
        "print(DATASET_PATH)"
      ],
      "execution_count": 4,
      "outputs": [
        {
          "output_type": "stream",
          "text": [
            "drive/My Drive/DTI/DATASET/IDHSD_RIO_unbalanced_713_2017.txt\n"
          ],
          "name": "stdout"
        }
      ]
    },
    {
      "cell_type": "code",
      "metadata": {
        "colab": {
          "base_uri": "https://localhost:8080/",
          "height": 204
        },
        "id": "AE27uZ9MMzne",
        "outputId": "a76fd45f-5b46-4739-f68a-30e1d7608eb6"
      },
      "source": [
        "df = pd.read_csv(DATASET_PATH, sep='\\t', encoding = \"ISO-8859-1\")\n",
        "df.head()"
      ],
      "execution_count": 9,
      "outputs": [
        {
          "output_type": "execute_result",
          "data": {
            "text/html": [
              "<div>\n",
              "<style scoped>\n",
              "    .dataframe tbody tr th:only-of-type {\n",
              "        vertical-align: middle;\n",
              "    }\n",
              "\n",
              "    .dataframe tbody tr th {\n",
              "        vertical-align: top;\n",
              "    }\n",
              "\n",
              "    .dataframe thead th {\n",
              "        text-align: right;\n",
              "    }\n",
              "</style>\n",
              "<table border=\"1\" class=\"dataframe\">\n",
              "  <thead>\n",
              "    <tr style=\"text-align: right;\">\n",
              "      <th></th>\n",
              "      <th>Label</th>\n",
              "      <th>Tweet</th>\n",
              "    </tr>\n",
              "  </thead>\n",
              "  <tbody>\n",
              "    <tr>\n",
              "      <th>0</th>\n",
              "      <td>Non_HS</td>\n",
              "      <td>RT @spardaxyz: Fadli Zon Minta Mendagri Segera...</td>\n",
              "    </tr>\n",
              "    <tr>\n",
              "      <th>1</th>\n",
              "      <td>Non_HS</td>\n",
              "      <td>RT @baguscondromowo: Mereka terus melukai aksi...</td>\n",
              "    </tr>\n",
              "    <tr>\n",
              "      <th>2</th>\n",
              "      <td>Non_HS</td>\n",
              "      <td>Sylvi: bagaimana gurbernur melakukan kekerasan...</td>\n",
              "    </tr>\n",
              "    <tr>\n",
              "      <th>3</th>\n",
              "      <td>Non_HS</td>\n",
              "      <td>Ahmad Dhani Tak Puas Debat Pilkada, Masalah Ja...</td>\n",
              "    </tr>\n",
              "    <tr>\n",
              "      <th>4</th>\n",
              "      <td>Non_HS</td>\n",
              "      <td>RT @lisdaulay28: Waspada KTP palsu.....kawal P...</td>\n",
              "    </tr>\n",
              "  </tbody>\n",
              "</table>\n",
              "</div>"
            ],
            "text/plain": [
              "    Label                                              Tweet\n",
              "0  Non_HS  RT @spardaxyz: Fadli Zon Minta Mendagri Segera...\n",
              "1  Non_HS  RT @baguscondromowo: Mereka terus melukai aksi...\n",
              "2  Non_HS  Sylvi: bagaimana gurbernur melakukan kekerasan...\n",
              "3  Non_HS  Ahmad Dhani Tak Puas Debat Pilkada, Masalah Ja...\n",
              "4  Non_HS  RT @lisdaulay28: Waspada KTP palsu.....kawal P..."
            ]
          },
          "metadata": {
            "tags": []
          },
          "execution_count": 9
        }
      ]
    },
    {
      "cell_type": "code",
      "metadata": {
        "colab": {
          "base_uri": "https://localhost:8080/",
          "height": 367
        },
        "id": "zq8GySH6Nw8q",
        "outputId": "ba959c87-8e17-4d4e-f1f8-f407932b2f10"
      },
      "source": [
        "sns.countplot(df.Label)\n",
        "plt.xlabel('Hatespeech')\n",
        "plt.title('Count')"
      ],
      "execution_count": 14,
      "outputs": [
        {
          "output_type": "stream",
          "text": [
            "/usr/local/lib/python3.6/dist-packages/seaborn/_decorators.py:43: FutureWarning: Pass the following variable as a keyword arg: x. From version 0.12, the only valid positional argument will be `data`, and passing other arguments without an explicit keyword will result in an error or misinterpretation.\n",
            "  FutureWarning\n"
          ],
          "name": "stderr"
        },
        {
          "output_type": "execute_result",
          "data": {
            "text/plain": [
              "Text(0.5, 1.0, 'Count')"
            ]
          },
          "metadata": {
            "tags": []
          },
          "execution_count": 14
        },
        {
          "output_type": "display_data",
          "data": {
            "image/png": "[encoded data removed]",
            "text/plain": [
              "<Figure size 432x288 with 1 Axes>"
            ]
          },
          "metadata": {
            "tags": [],
            "needs_background": "light"
          }
        }
      ]
    },
    {
      "cell_type": "code",
      "metadata": {
        "colab": {
          "base_uri": "https://localhost:8080/",
          "height": 82
        },
        "id": "X9kgzh7jkV6Q",
        "outputId": "521b697c-c20b-4ad2-cc50-41c553a3845d"
      },
      "source": [
        "temp = df.groupby('Label').count()['Tweet'].reset_index().sort_values(by='Tweet',ascending=False)\n",
        "temp.style.background_gradient(cmap='Purples')"
      ],
      "execution_count": 16,
      "outputs": [
        {
          "output_type": "execute_result",
          "data": {
            "text/html": [
              "<style  type=\"text/css\" >\n",
              "#T_1bc02fcc_2fa2_11eb_bd86_0242ac1c0002row0_col1{\n",
              "            background-color:  #3f007d;\n",
              "            color:  #f1f1f1;\n",
              "        }#T_1bc02fcc_2fa2_11eb_bd86_0242ac1c0002row1_col1{\n",
              "            background-color:  #fcfbfd;\n",
              "            color:  #000000;\n",
              "        }</style><table id=\"T_1bc02fcc_2fa2_11eb_bd86_0242ac1c0002\" ><thead>    <tr>        <th class=\"blank level0\" ></th>        <th class=\"col_heading level0 col0\" >Label</th>        <th class=\"col_heading level0 col1\" >Tweet</th>    </tr></thead><tbody>\n",
              "                <tr>\n",
              "                        <th id=\"T_1bc02fcc_2fa2_11eb_bd86_0242ac1c0002level0_row0\" class=\"row_heading level0 row0\" >1</th>\n",
              "                        <td id=\"T_1bc02fcc_2fa2_11eb_bd86_0242ac1c0002row0_col0\" class=\"data row0 col0\" >Non_HS</td>\n",
              "                        <td id=\"T_1bc02fcc_2fa2_11eb_bd86_0242ac1c0002row0_col1\" class=\"data row0 col1\" >453</td>\n",
              "            </tr>\n",
              "            <tr>\n",
              "                        <th id=\"T_1bc02fcc_2fa2_11eb_bd86_0242ac1c0002level0_row1\" class=\"row_heading level0 row1\" >0</th>\n",
              "                        <td id=\"T_1bc02fcc_2fa2_11eb_bd86_0242ac1c0002row1_col0\" class=\"data row1 col0\" >HS</td>\n",
              "                        <td id=\"T_1bc02fcc_2fa2_11eb_bd86_0242ac1c0002row1_col1\" class=\"data row1 col1\" >260</td>\n",
              "            </tr>\n",
              "    </tbody></table>"
            ],
            "text/plain": [
              "<pandas.io.formats.style.Styler at 0x7f52f7e8bac8>"
            ]
          },
          "metadata": {
            "tags": []
          },
          "execution_count": 16
        }
      ]
    },
    {
      "cell_type": "code",
      "metadata": {
        "colab": {
          "base_uri": "https://localhost:8080/",
          "height": 542
        },
        "id": "VRnoCRCDjxys",
        "outputId": "77509bd9-0d31-406a-b694-d217ef04e25d"
      },
      "source": [
        "from plotly import graph_objs as go\n",
        "fig = go.Figure(go.Funnelarea(\n",
        "    text =temp.Label,\n",
        "    values = temp.Tweet,\n",
        "    title = {\"position\": \"top center\", \"text\": \"Funnel-Chart of Hatespeech Distribution\"}\n",
        "    ))\n",
        "fig.show()"
      ],
      "execution_count": 19,
      "outputs": [
        {
          "output_type": "display_data",
          "data": {
            "text/html": [
              "<html>\n",
              "<head><meta charset=\"utf-8\" /></head>\n",
              "<body>\n",
              "    <div>\n",
              "            <script src=\"https://cdnjs.cloudflare.com/ajax/libs/mathjax/2.7.5/MathJax.js?config=TeX-AMS-MML_SVG\"></script><script type=\"text/javascript\">if (window.MathJax) {MathJax.Hub.Config({SVG: {font: \"STIX-Web\"}});}</script>\n",
              "                <script type=\"text/javascript\">window.PlotlyConfig = {MathJaxConfig: 'local'};</script>\n",
              "        <script src=\"https://cdn.plot.ly/plotly-latest.min.js\"></script>    \n",
              "            <div id=\"1294b298-5836-4017-92a2-e2f20ad1e965\" class=\"plotly-graph-div\" style=\"height:525px; width:100%;\"></div>\n",
              "            <script type=\"text/javascript\">\n",
              "                \n",
              "                    window.PLOTLYENV=window.PLOTLYENV || {};\n",
              "                    \n",
              "                if (document.getElementById(\"1294b298-5836-4017-92a2-e2f20ad1e965\")) {\n",
              "                    Plotly.newPlot(\n",
              "                        '1294b298-5836-4017-92a2-e2f20ad1e965',\n",
              "                        [{\"text\": [\"Non_HS\", \"HS\"], \"title\": {\"position\": \"top center\", \"text\": \"Funnel-Chart of Hatespeech Distribution\"}, \"type\": \"funnelarea\", \"values\": [453, 260]}],\n",
              "                        {\"template\": {\"data\": {\"bar\": [{\"error_x\": {\"color\": \"#2a3f5f\"}, \"error_y\": {\"color\": \"#2a3f5f\"}, \"marker\": {\"line\": {\"color\": \"#E5ECF6\", \"width\": 0.5}}, \"type\": \"bar\"}], \"barpolar\": [{\"marker\": {\"line\": {\"color\": \"#E5ECF6\", \"width\": 0.5}}, \"type\": \"barpolar\"}], \"carpet\": [{\"aaxis\": {\"endlinecolor\": \"#2a3f5f\", \"gridcolor\": \"white\", \"linecolor\": \"white\", \"minorgridcolor\": \"white\", \"startlinecolor\": \"#2a3f5f\"}, \"baxis\": {\"endlinecolor\": \"#2a3f5f\", \"gridcolor\": \"white\", \"linecolor\": \"white\", \"minorgridcolor\": \"white\", \"startlinecolor\": \"#2a3f5f\"}, \"type\": \"carpet\"}], \"choropleth\": [{\"colorbar\": {\"outlinewidth\": 0, \"ticks\": \"\"}, \"type\": \"choropleth\"}], \"contour\": [{\"colorbar\": {\"outlinewidth\": 0, \"ticks\": \"\"}, \"colorscale\": [[0.0, \"#0d0887\"], [0.1111111111111111, \"#46039f\"], [0.2222222222222222, \"#7201a8\"], [0.3333333333333333, \"#9c179e\"], [0.4444444444444444, \"#bd3786\"], [0.5555555555555556, \"#d8576b\"], [0.6666666666666666, \"#ed7953\"], [0.7777777777777778, \"#fb9f3a\"], [0.8888888888888888, \"#fdca26\"], [1.0, \"#f0f921\"]], \"type\": \"contour\"}], \"contourcarpet\": [{\"colorbar\": {\"outlinewidth\": 0, \"ticks\": \"\"}, \"type\": \"contourcarpet\"}], \"heatmap\": [{\"colorbar\": {\"outlinewidth\": 0, \"ticks\": \"\"}, \"colorscale\": [[0.0, \"#0d0887\"], [0.1111111111111111, \"#46039f\"], [0.2222222222222222, \"#7201a8\"], [0.3333333333333333, \"#9c179e\"], [0.4444444444444444, \"#bd3786\"], [0.5555555555555556, \"#d8576b\"], [0.6666666666666666, \"#ed7953\"], [0.7777777777777778, \"#fb9f3a\"], [0.8888888888888888, \"#fdca26\"], [1.0, \"#f0f921\"]], \"type\": \"heatmap\"}], \"heatmapgl\": [{\"colorbar\": {\"outlinewidth\": 0, \"ticks\": \"\"}, \"colorscale\": [[0.0, \"#0d0887\"], [0.1111111111111111, \"#46039f\"], [0.2222222222222222, \"#7201a8\"], [0.3333333333333333, \"#9c179e\"], [0.4444444444444444, \"#bd3786\"], [0.5555555555555556, \"#d8576b\"], [0.6666666666666666, \"#ed7953\"], [0.7777777777777778, \"#fb9f3a\"], [0.8888888888888888, \"#fdca26\"], [1.0, \"#f0f921\"]], \"type\": \"heatmapgl\"}], \"histogram\": [{\"marker\": {\"colorbar\": {\"outlinewidth\": 0, \"ticks\": \"\"}}, \"type\": \"histogram\"}], \"histogram2d\": [{\"colorbar\": {\"outlinewidth\": 0, \"ticks\": \"\"}, \"colorscale\": [[0.0, \"#0d0887\"], [0.1111111111111111, \"#46039f\"], [0.2222222222222222, \"#7201a8\"], [0.3333333333333333, \"#9c179e\"], [0.4444444444444444, \"#bd3786\"], [0.5555555555555556, \"#d8576b\"], [0.6666666666666666, \"#ed7953\"], [0.7777777777777778, \"#fb9f3a\"], [0.8888888888888888, \"#fdca26\"], [1.0, \"#f0f921\"]], \"type\": \"histogram2d\"}], \"histogram2dcontour\": [{\"colorbar\": {\"outlinewidth\": 0, \"ticks\": \"\"}, \"colorscale\": [[0.0, \"#0d0887\"], [0.1111111111111111, \"#46039f\"], [0.2222222222222222, \"#7201a8\"], [0.3333333333333333, \"#9c179e\"], [0.4444444444444444, \"#bd3786\"], [0.5555555555555556, \"#d8576b\"], [0.6666666666666666, \"#ed7953\"], [0.7777777777777778, \"#fb9f3a\"], [0.8888888888888888, \"#fdca26\"], [1.0, \"#f0f921\"]], \"type\": \"histogram2dcontour\"}], \"mesh3d\": [{\"colorbar\": {\"outlinewidth\": 0, \"ticks\": \"\"}, \"type\": \"mesh3d\"}], \"parcoords\": [{\"line\": {\"colorbar\": {\"outlinewidth\": 0, \"ticks\": \"\"}}, \"type\": \"parcoords\"}], \"pie\": [{\"automargin\": true, \"type\": \"pie\"}], \"scatter\": [{\"marker\": {\"colorbar\": {\"outlinewidth\": 0, \"ticks\": \"\"}}, \"type\": \"scatter\"}], \"scatter3d\": [{\"line\": {\"colorbar\": {\"outlinewidth\": 0, \"ticks\": \"\"}}, \"marker\": {\"colorbar\": {\"outlinewidth\": 0, \"ticks\": \"\"}}, \"type\": \"scatter3d\"}], \"scattercarpet\": [{\"marker\": {\"colorbar\": {\"outlinewidth\": 0, \"ticks\": \"\"}}, \"type\": \"scattercarpet\"}], \"scattergeo\": [{\"marker\": {\"colorbar\": {\"outlinewidth\": 0, \"ticks\": \"\"}}, \"type\": \"scattergeo\"}], \"scattergl\": [{\"marker\": {\"colorbar\": {\"outlinewidth\": 0, \"ticks\": \"\"}}, \"type\": \"scattergl\"}], \"scattermapbox\": [{\"marker\": {\"colorbar\": {\"outlinewidth\": 0, \"ticks\": \"\"}}, \"type\": \"scattermapbox\"}], \"scatterpolar\": [{\"marker\": {\"colorbar\": {\"outlinewidth\": 0, \"ticks\": \"\"}}, \"type\": \"scatterpolar\"}], \"scatterpolargl\": [{\"marker\": {\"colorbar\": {\"outlinewidth\": 0, \"ticks\": \"\"}}, \"type\": \"scatterpolargl\"}], \"scatterternary\": [{\"marker\": {\"colorbar\": {\"outlinewidth\": 0, \"ticks\": \"\"}}, \"type\": \"scatterternary\"}], \"surface\": [{\"colorbar\": {\"outlinewidth\": 0, \"ticks\": \"\"}, \"colorscale\": [[0.0, \"#0d0887\"], [0.1111111111111111, \"#46039f\"], [0.2222222222222222, \"#7201a8\"], [0.3333333333333333, \"#9c179e\"], [0.4444444444444444, \"#bd3786\"], [0.5555555555555556, \"#d8576b\"], [0.6666666666666666, \"#ed7953\"], [0.7777777777777778, \"#fb9f3a\"], [0.8888888888888888, \"#fdca26\"], [1.0, \"#f0f921\"]], \"type\": \"surface\"}], \"table\": [{\"cells\": {\"fill\": {\"color\": \"#EBF0F8\"}, \"line\": {\"color\": \"white\"}}, \"header\": {\"fill\": {\"color\": \"#C8D4E3\"}, \"line\": {\"color\": \"white\"}}, \"type\": \"table\"}]}, \"layout\": {\"annotationdefaults\": {\"arrowcolor\": \"#2a3f5f\", \"arrowhead\": 0, \"arrowwidth\": 1}, \"coloraxis\": {\"colorbar\": {\"outlinewidth\": 0, \"ticks\": \"\"}}, \"colorscale\": {\"diverging\": [[0, \"#8e0152\"], [0.1, \"#c51b7d\"], [0.2, \"#de77ae\"], [0.3, \"#f1b6da\"], [0.4, \"#fde0ef\"], [0.5, \"#f7f7f7\"], [0.6, \"#e6f5d0\"], [0.7, \"#b8e186\"], [0.8, \"#7fbc41\"], [0.9, \"#4d9221\"], [1, \"#276419\"]], \"sequential\": [[0.0, \"#0d0887\"], [0.1111111111111111, \"#46039f\"], [0.2222222222222222, \"#7201a8\"], [0.3333333333333333, \"#9c179e\"], [0.4444444444444444, \"#bd3786\"], [0.5555555555555556, \"#d8576b\"], [0.6666666666666666, \"#ed7953\"], [0.7777777777777778, \"#fb9f3a\"], [0.8888888888888888, \"#fdca26\"], [1.0, \"#f0f921\"]], \"sequentialminus\": [[0.0, \"#0d0887\"], [0.1111111111111111, \"#46039f\"], [0.2222222222222222, \"#7201a8\"], [0.3333333333333333, \"#9c179e\"], [0.4444444444444444, \"#bd3786\"], [0.5555555555555556, \"#d8576b\"], [0.6666666666666666, \"#ed7953\"], [0.7777777777777778, \"#fb9f3a\"], [0.8888888888888888, \"#fdca26\"], [1.0, \"#f0f921\"]]}, \"colorway\": [\"#636efa\", \"#EF553B\", \"#00cc96\", \"#ab63fa\", \"#FFA15A\", \"#19d3f3\", \"#FF6692\", \"#B6E880\", \"#FF97FF\", \"#FECB52\"], \"font\": {\"color\": \"#2a3f5f\"}, \"geo\": {\"bgcolor\": \"white\", \"lakecolor\": \"white\", \"landcolor\": \"#E5ECF6\", \"showlakes\": true, \"showland\": true, \"subunitcolor\": \"white\"}, \"hoverlabel\": {\"align\": \"left\"}, \"hovermode\": \"closest\", \"mapbox\": {\"style\": \"light\"}, \"paper_bgcolor\": \"white\", \"plot_bgcolor\": \"#E5ECF6\", \"polar\": {\"angularaxis\": {\"gridcolor\": \"white\", \"linecolor\": \"white\", \"ticks\": \"\"}, \"bgcolor\": \"#E5ECF6\", \"radialaxis\": {\"gridcolor\": \"white\", \"linecolor\": \"white\", \"ticks\": \"\"}}, \"scene\": {\"xaxis\": {\"backgroundcolor\": \"#E5ECF6\", \"gridcolor\": \"white\", \"gridwidth\": 2, \"linecolor\": \"white\", \"showbackground\": true, \"ticks\": \"\", \"zerolinecolor\": \"white\"}, \"yaxis\": {\"backgroundcolor\": \"#E5ECF6\", \"gridcolor\": \"white\", \"gridwidth\": 2, \"linecolor\": \"white\", \"showbackground\": true, \"ticks\": \"\", \"zerolinecolor\": \"white\"}, \"zaxis\": {\"backgroundcolor\": \"#E5ECF6\", \"gridcolor\": \"white\", \"gridwidth\": 2, \"linecolor\": \"white\", \"showbackground\": true, \"ticks\": \"\", \"zerolinecolor\": \"white\"}}, \"shapedefaults\": {\"line\": {\"color\": \"#2a3f5f\"}}, \"ternary\": {\"aaxis\": {\"gridcolor\": \"white\", \"linecolor\": \"white\", \"ticks\": \"\"}, \"baxis\": {\"gridcolor\": \"white\", \"linecolor\": \"white\", \"ticks\": \"\"}, \"bgcolor\": \"#E5ECF6\", \"caxis\": {\"gridcolor\": \"white\", \"linecolor\": \"white\", \"ticks\": \"\"}}, \"title\": {\"x\": 0.05}, \"xaxis\": {\"automargin\": true, \"gridcolor\": \"white\", \"linecolor\": \"white\", \"ticks\": \"\", \"title\": {\"standoff\": 15}, \"zerolinecolor\": \"white\", \"zerolinewidth\": 2}, \"yaxis\": {\"automargin\": true, \"gridcolor\": \"white\", \"linecolor\": \"white\", \"ticks\": \"\", \"title\": {\"standoff\": 15}, \"zerolinecolor\": \"white\", \"zerolinewidth\": 2}}}},\n",
              "                        {\"responsive\": true}\n",
              "                    ).then(function(){\n",
              "                            \n",
              "var gd = document.getElementById('1294b298-5836-4017-92a2-e2f20ad1e965');\n",
              "var x = new MutationObserver(function (mutations, observer) {{\n",
              "        var display = window.getComputedStyle(gd).display;\n",
              "        if (!display || display === 'none') {{\n",
              "            console.log([gd, 'removed!']);\n",
              "            Plotly.purge(gd);\n",
              "            observer.disconnect();\n",
              "        }}\n",
              "}});\n",
              "\n",
              "// Listen for the removal of the full notebook cells\n",
              "var notebookContainer = gd.closest('#notebook-container');\n",
              "if (notebookContainer) {{\n",
              "    x.observe(notebookContainer, {childList: true});\n",
              "}}\n",
              "\n",
              "// Listen for the clearing of the current output cell\n",
              "var outputEl = gd.closest('.output');\n",
              "if (outputEl) {{\n",
              "    x.observe(outputEl, {childList: true});\n",
              "}}\n",
              "\n",
              "                        })\n",
              "                };\n",
              "                \n",
              "            </script>\n",
              "        </div>\n",
              "</body>\n",
              "</html>"
            ]
          },
          "metadata": {
            "tags": []
          }
        }
      ]
    },
    {
      "cell_type": "code",
      "metadata": {
        "colab": {
          "base_uri": "https://localhost:8080/",
          "height": 204
        },
        "id": "nUScPTI-4Lrx",
        "outputId": "b9c4ba1e-bcda-48ca-e126-572a21715a67"
      },
      "source": [
        "df['Label'] = df['Label'].map({\n",
        "    \"Non_HS\" : 0,\n",
        "    \"HS\" : 1\n",
        "})\n",
        "df.head()"
      ],
      "execution_count": 20,
      "outputs": [
        {
          "output_type": "execute_result",
          "data": {
            "text/html": [
              "<div>\n",
              "<style scoped>\n",
              "    .dataframe tbody tr th:only-of-type {\n",
              "        vertical-align: middle;\n",
              "    }\n",
              "\n",
              "    .dataframe tbody tr th {\n",
              "        vertical-align: top;\n",
              "    }\n",
              "\n",
              "    .dataframe thead th {\n",
              "        text-align: right;\n",
              "    }\n",
              "</style>\n",
              "<table border=\"1\" class=\"dataframe\">\n",
              "  <thead>\n",
              "    <tr style=\"text-align: right;\">\n",
              "      <th></th>\n",
              "      <th>Label</th>\n",
              "      <th>Tweet</th>\n",
              "    </tr>\n",
              "  </thead>\n",
              "  <tbody>\n",
              "    <tr>\n",
              "      <th>0</th>\n",
              "      <td>0</td>\n",
              "      <td>RT @spardaxyz: Fadli Zon Minta Mendagri Segera...</td>\n",
              "    </tr>\n",
              "    <tr>\n",
              "      <th>1</th>\n",
              "      <td>0</td>\n",
              "      <td>RT @baguscondromowo: Mereka terus melukai aksi...</td>\n",
              "    </tr>\n",
              "    <tr>\n",
              "      <th>2</th>\n",
              "      <td>0</td>\n",
              "      <td>Sylvi: bagaimana gurbernur melakukan kekerasan...</td>\n",
              "    </tr>\n",
              "    <tr>\n",
              "      <th>3</th>\n",
              "      <td>0</td>\n",
              "      <td>Ahmad Dhani Tak Puas Debat Pilkada, Masalah Ja...</td>\n",
              "    </tr>\n",
              "    <tr>\n",
              "      <th>4</th>\n",
              "      <td>0</td>\n",
              "      <td>RT @lisdaulay28: Waspada KTP palsu.....kawal P...</td>\n",
              "    </tr>\n",
              "  </tbody>\n",
              "</table>\n",
              "</div>"
            ],
            "text/plain": [
              "   Label                                              Tweet\n",
              "0      0  RT @spardaxyz: Fadli Zon Minta Mendagri Segera...\n",
              "1      0  RT @baguscondromowo: Mereka terus melukai aksi...\n",
              "2      0  Sylvi: bagaimana gurbernur melakukan kekerasan...\n",
              "3      0  Ahmad Dhani Tak Puas Debat Pilkada, Masalah Ja...\n",
              "4      0  RT @lisdaulay28: Waspada KTP palsu.....kawal P..."
            ]
          },
          "metadata": {
            "tags": []
          },
          "execution_count": 20
        }
      ]
    },
    {
      "cell_type": "markdown",
      "metadata": {
        "id": "ZhqDDyiE3r3M"
      },
      "source": [
        "Oversampling"
      ]
    },
    {
      "cell_type": "code",
      "metadata": {
        "id": "n1uugTjy3-en"
      },
      "source": [
        "# Class count\n",
        "count_class_0, count_class_1 = df.Label.value_counts()\n",
        "\n",
        "# Divide by class\n",
        "df_class_0 = df[df['Label'] == 0]\n",
        "df_class_1 = df[df['Label'] == 1]"
      ],
      "execution_count": 21,
      "outputs": []
    },
    {
      "cell_type": "code",
      "metadata": {
        "colab": {
          "base_uri": "https://localhost:8080/",
          "height": 346
        },
        "id": "4XKWHn6z3rX5",
        "outputId": "90f16152-e9b5-479f-8c33-33557dbf6d19"
      },
      "source": [
        "df_class_1_over = df_class_1.sample(count_class_0, replace=True)\n",
        "df_test_over = pd.concat([df_class_0, df_class_1_over], axis=0)\n",
        "\n",
        "print('Random over-sampling:')\n",
        "print(df_test_over.Label.value_counts())\n",
        "\n",
        "df_test_over.Label.value_counts().plot(kind='bar', title='Count (Label)');"
      ],
      "execution_count": 23,
      "outputs": [
        {
          "output_type": "stream",
          "text": [
            "Random over-sampling:\n",
            "1    453\n",
            "0    453\n",
            "Name: Label, dtype: int64\n"
          ],
          "name": "stdout"
        },
        {
          "output_type": "display_data",
          "data": {
            "image/png": "[encoded data removed]",
            "text/plain": [
              "<Figure size 432x288 with 1 Axes>"
            ]
          },
          "metadata": {
            "tags": [],
            "needs_background": "light"
          }
        }
      ]
    },
    {
      "cell_type": "code",
      "metadata": {
        "colab": {
          "base_uri": "https://localhost:8080/",
          "height": 419
        },
        "id": "QsYacolH4nF3",
        "outputId": "7ec01969-d567-4be0-8e39-0ec338659391"
      },
      "source": [
        "df_test_over"
      ],
      "execution_count": 25,
      "outputs": [
        {
          "output_type": "execute_result",
          "data": {
            "text/html": [
              "<div>\n",
              "<style scoped>\n",
              "    .dataframe tbody tr th:only-of-type {\n",
              "        vertical-align: middle;\n",
              "    }\n",
              "\n",
              "    .dataframe tbody tr th {\n",
              "        vertical-align: top;\n",
              "    }\n",
              "\n",
              "    .dataframe thead th {\n",
              "        text-align: right;\n",
              "    }\n",
              "</style>\n",
              "<table border=\"1\" class=\"dataframe\">\n",
              "  <thead>\n",
              "    <tr style=\"text-align: right;\">\n",
              "      <th></th>\n",
              "      <th>Label</th>\n",
              "      <th>Tweet</th>\n",
              "    </tr>\n",
              "  </thead>\n",
              "  <tbody>\n",
              "    <tr>\n",
              "      <th>0</th>\n",
              "      <td>0</td>\n",
              "      <td>RT @spardaxyz: Fadli Zon Minta Mendagri Segera...</td>\n",
              "    </tr>\n",
              "    <tr>\n",
              "      <th>1</th>\n",
              "      <td>0</td>\n",
              "      <td>RT @baguscondromowo: Mereka terus melukai aksi...</td>\n",
              "    </tr>\n",
              "    <tr>\n",
              "      <th>2</th>\n",
              "      <td>0</td>\n",
              "      <td>Sylvi: bagaimana gurbernur melakukan kekerasan...</td>\n",
              "    </tr>\n",
              "    <tr>\n",
              "      <th>3</th>\n",
              "      <td>0</td>\n",
              "      <td>Ahmad Dhani Tak Puas Debat Pilkada, Masalah Ja...</td>\n",
              "    </tr>\n",
              "    <tr>\n",
              "      <th>4</th>\n",
              "      <td>0</td>\n",
              "      <td>RT @lisdaulay28: Waspada KTP palsu.....kawal P...</td>\n",
              "    </tr>\n",
              "    <tr>\n",
              "      <th>...</th>\n",
              "      <td>...</td>\n",
              "      <td>...</td>\n",
              "    </tr>\n",
              "    <tr>\n",
              "      <th>590</th>\n",
              "      <td>1</td>\n",
              "      <td>ahmad dhani itu borok, sampah, babi, anjing. S...</td>\n",
              "    </tr>\n",
              "    <tr>\n",
              "      <th>701</th>\n",
              "      <td>1</td>\n",
              "      <td>Maksudnya terbukti KORUPSI dan PENISTAAN agama...</td>\n",
              "    </tr>\n",
              "    <tr>\n",
              "      <th>621</th>\n",
              "      <td>1</td>\n",
              "      <td>RT @korban_gusur: @RakyatBiasa1945 Ada CEBONG ...</td>\n",
              "    </tr>\n",
              "    <tr>\n",
              "      <th>591</th>\n",
              "      <td>1</td>\n",
              "      <td>Lah emang sdh jelas2 si ahok terdakwa penista ...</td>\n",
              "    </tr>\n",
              "    <tr>\n",
              "      <th>579</th>\n",
              "      <td>1</td>\n",
              "      <td>@roninpribumi @dewanpers yg salah itu mereka m...</td>\n",
              "    </tr>\n",
              "  </tbody>\n",
              "</table>\n",
              "<p>906 rows × 2 columns</p>\n",
              "</div>"
            ],
            "text/plain": [
              "     Label                                              Tweet\n",
              "0        0  RT @spardaxyz: Fadli Zon Minta Mendagri Segera...\n",
              "1        0  RT @baguscondromowo: Mereka terus melukai aksi...\n",
              "2        0  Sylvi: bagaimana gurbernur melakukan kekerasan...\n",
              "3        0  Ahmad Dhani Tak Puas Debat Pilkada, Masalah Ja...\n",
              "4        0  RT @lisdaulay28: Waspada KTP palsu.....kawal P...\n",
              "..     ...                                                ...\n",
              "590      1  ahmad dhani itu borok, sampah, babi, anjing. S...\n",
              "701      1  Maksudnya terbukti KORUPSI dan PENISTAAN agama...\n",
              "621      1  RT @korban_gusur: @RakyatBiasa1945 Ada CEBONG ...\n",
              "591      1  Lah emang sdh jelas2 si ahok terdakwa penista ...\n",
              "579      1  @roninpribumi @dewanpers yg salah itu mereka m...\n",
              "\n",
              "[906 rows x 2 columns]"
            ]
          },
          "metadata": {
            "tags": []
          },
          "execution_count": 25
        }
      ]
    },
    {
      "cell_type": "markdown",
      "metadata": {
        "id": "2MyVAkrxtiKm"
      },
      "source": [
        "#Praproses"
      ]
    },
    {
      "cell_type": "code",
      "metadata": {
        "colab": {
          "base_uri": "https://localhost:8080/"
        },
        "id": "6egtESugMHWu",
        "outputId": "a2097d7a-6be0-49ca-8fd8-644fb56af055"
      },
      "source": [
        "PATH_BASE = 'drive/My Drive/NLP/'\n",
        "DATASET_FOLDER = 'data'\n",
        "\n",
        "singkatan_path = os.path.join(PATH_BASE, DATASET_FOLDER, 'singkatan.csv')\n",
        "df_singkatan = pd.read_csv(singkatan_path, header=None)\n",
        "df_singkatan.columns = ['singkatan', 'kata baku', 'example sms text']\n",
        "df_singkatan['kata baku'] = df_singkatan['kata baku'].replace('.', np.nan)\n",
        "\n",
        "df_singkatan.dropna(inplace=True)\n",
        "dict_singkatan = dict(zip(df_singkatan.singkatan, df_singkatan['kata baku']))\n",
        "dict_singkatan['jl'] = \"jalan\"\n",
        "dict_singkatan['dr'] = \"dari\"\n",
        "\n",
        "slang_path = os.path.join(PATH_BASE, DATASET_FOLDER, 'slang.json')\n",
        "with open(slang_path) as json_slang:\n",
        "  dict_slang = json.load(json_slang)\n",
        "\n",
        "dict_slang['alig'] = \"gila\"\n",
        "dict_clean = {**dict_singkatan, **dict_slang}\n",
        "print(dict_clean)\n",
        "\n",
        "stopwords_path = os.path.join(PATH_BASE, DATASET_FOLDER, 'stopword.xlsx')\n",
        "df_stopwords = pd.read_excel(stopwords_path, header=None)\n",
        "list_stopwords = list(df_stopwords[0])\n",
        "print(list_stopwords)"
      ],
      "execution_count": 12,
      "outputs": [
        {
          "output_type": "stream",
          "text": [
            "{'knp': 'kenapa', 'udh': 'udah', 'gmn': 'bagaimana', 'kluar': 'keluar', 'tnya': 'tanya', 'skrng': 'sekarang ', 'trims': 'terima kasih', 'krna': 'karena', 'promil': 'promil', 'infonya': 'infonnya', 'tespek': 'test pack', 'kmrn': 'kemarin', 'mksh': 'terima kasih', 'stlh': 'setelah', 'mnggu': 'minggu', 'knpa': 'kenapa', 'gmna': 'bagaimana', 'hmil': 'hamil', 'smpe': 'sampai', 'mggu': 'minggu', 'mhon': 'mohon', 'sprti': 'seperti', 'kmren': 'kemaren', 'khamilan': 'kehamilan ', 'pdhl': 'padahal ', 'tny': 'tanya', 'sdah': 'sudah ', 'hrus': 'harus', 'sblm': 'sebelum', 'trmksh': 'terima kasih', 'mnum': 'minum ', 'dtg': 'datang', 'knapa': 'kenapa', 'priksa': 'periksa', 'jdi': 'jadi', 'slma': 'selama', 'sblmnya': 'sebelumnya', 'skali': 'sekali', 'bumil': 'ibu hamil', 'trakhir': 'terakhir', 'obt': 'obat ', 'prnh': 'pernah', 'kmrin': 'kemaren', 'bgmn': 'bagaimana', 'tespack': 'test pack', 'slmt': 'selamat ', 'brapa': 'berapa', 'kmudian': 'kemudian', 'pnya': 'punya ', 'pdhal': 'padahal ', 'kedokter': 'dokter', 'debay': 'bayi', 'byk': 'banyak', 'kdang': 'kadang ', 'mhn': 'mohon', 'tespeck': 'test pack', 'tlg': 'tolong', 'haidnya': 'haid', 'kndungan': 'kandungan', 'sring': 'sering', 'mksih': 'trima kasih', 'apkh': 'apakah', 'stlah': 'setelah', 'apkah': 'apakah', 'bnyk': 'banyak', 'buln': 'bulan', 'hmpir': 'hampir', 'lgsg': 'langsung', 'khmilan': 'hamil', 'bdan': 'badan', 'amankah': 'aman ', 'trasa': 'terasa ', 'kdg': 'kadang ', 'mkan': 'makan ', 'sempet': 'sempat', 'msuk': 'masuk', 'tnda': 'tanda', 'nnya': 'tanya', 'dikuret': 'kuret', 'ksih': 'kasih', 'dkter': 'dokter', 'mkasih': 'trima kasih', 'mnikah': 'nikah', 'klw': 'kalau', 'gmana': 'bagaimana', 'dokk': 'dokter ', 'pdahal': 'padahal ', 'tlat': 'telat', 'lbih': 'lebih', 'trnyata': 'ternyata', 'makasi': 'trima kasih', 'kyk': 'seperti', 'sllu': 'selalu', 'ngeflek': 'flek', 'tnyakan': 'tanya ', 'tlong': 'tolong ', 'kmaren': 'kemaren', 'brpa': 'berapa', 'kmarin': 'kemarin', 'bgaimana': 'bagimana', 'prtma': 'pertama ', 'nnti': 'nanti ', 'drah': 'darah ', 'tratur': 'teratur', 'doktr': 'dokter', 'sdkit': 'sedikit', 'prnah': 'pernah ', 'sdng': 'sedang', 'dtng': 'datang ', 'mslh': 'masalah', 'tkut': 'takut', 'tdur': 'tidur ', 'tggl': 'tanggal', 'bwah': 'bawah ', 'sdikit': 'sedikit ', 'kdng': 'kadang ', 'bgtu': 'begitu', 'slmat': 'selamat ', 'sblumnya': 'sebelumnya', 'dikasi': 'dikasih', 'babyku': 'bayi', 'ktnya': 'tanya', 'bngt': 'banget', 'prtama': 'pertama ', 'hsilnya': 'hasilnya', 'dtang': 'datang', 'kebidan': 'bidan', 'kecapean': 'capek', 'jwb': 'jawab', 'gumoh': 'gumoh ', 'hbis': 'habis', 'ngeden': 'ngeden', 'mngalami': 'mengalami', 'trma': 'trima kasih', 'sblum': 'sebelum', 'bgus': 'bagus', 'cpet': 'cepat', 'hsil': 'hasil', 'hasilx': 'hasil', 'gimna': 'bagaimana', 'skli': 'sekali', 'sprt': 'seperti', 'ngerasa': 'merasa ', 'kmbli': 'kembali', 'pernh': 'pernah ', 'batuknya': 'batuk', 'soalx': 'soal', 'kputihan': 'keputihan ', 'kmbali': 'kembali', 'bgmna': 'bagimana', 'miom': 'miom ', 'kyak': 'kayak', 'wrna': 'warna', 'sktr': 'sekarang ', 'pny': 'punya ', 'mlh': 'malah ', 'mnurut': 'menurut ', 'gnti': 'ganti ', 'dngn': 'dengan', 'bagaimna': 'bagaimana', 'tanyak': 'tanya ', 'diksh': 'dikasih', 'mlam': 'malam', 'bgaimna': 'bagaimana', 'tnggl': 'tanggal', 'sbelah': 'sebelah', 'jwbn': 'jawab', 'kcil': 'kecil', 'pngen': 'pengin', 'kliatan': 'keliatan', 'nsaya': 'saya', 'kpan': 'kapan', 'brtanya': 'bertannya', 'mnta': 'minta ', 'brumur': 'umur', 'bnget': 'banget', 'bngung': 'bingung', 'khmln': 'hamil', 'sminggu': 'minggu', 'ktanya': 'katanya', 'lngsung': 'langsung ', 'mgkin': 'mungkin', 'trlalu': 'terlalu', 'nyusu': 'menyusu', 'trlihat': 'terlihat', 'jwbnnya': 'jawab', 'dktr': 'dokter', 'dksh': 'dikasih', 'tlng': 'tolong', 'plek': 'flek', 'mlah': 'malah', 'kiret': 'kuret', 'trimaksh': 'trima kasih', 'spya': 'supaya', 'byi': 'bayi', 'sbur': 'subur', 'mgg': 'minggu', 'biasax': 'biasanya', 'trsa': 'terasa ', 'jwbannya': 'jawab', 'ngrasain': 'ngerasain', 'smbuh': 'sembuh', 'infox': 'infonnya', 'trnyta': 'ternyata', 'trjadi': 'terjadi', 'mrasakan': 'merasakan', 'mrasa': 'merasa', 'mlakukan': 'melakukan', 'trimksih': 'trima kasih', 'komsumsi': 'konsumsi', 'kenpa': 'kenapa', 'prksa': 'periksa', 'klwr': 'keluar ', 'soalny': 'soalnya', 'trmksih': 'trima kasih', 'sblmny': 'sebelumnya', 'biasany': 'biasanya', 'terakhr': 'terakhir', 'dokt': 'dokter', 'haii': 'hai', 'sufornya': 'sufor', 'nyerinya': 'nyeri', 'sekli': 'sekali', 'ingn': 'ingin', 'bidannya': 'bidan', 'prtnyaan': 'pertannyaan', 'tntang': 'tentang', 'msalah': 'masalah ', 'trimksh': 'trima kasih', 'slsai': 'selesai', 'kluarnya': 'keluar', 'mnyusui': 'menyusui', 'sbelum': 'sebelum', 'truz': 'terus', 'bhkan': 'bahkan', 'krena': 'karena', 'sdkt': 'sedikit', 'asslm': 'assalamualaikum', 'ambeyen': 'ambeien', 'berhub': 'berhubungan', 'kdokter': 'dokter ', 'kpala': 'kepala', 'sdgkn': 'sedangkan', 'bedrest': 'bed rest', 'bertnya': 'bertannya', 'brhnti': 'berenti', 'smlm': 'malam', 'berpa': 'berapa', 'kndungn': 'kandungan', 'jwbnya': 'jawab', 'ntar': 'nanti', 'bhya': 'bahaya', 'skrg': 'sekarang ', 'kemrin': 'kemaren', 'jwban': 'jawab', 'trkhr': 'terakhir', 'pkai': 'pakai', 'bntu': 'bantu', 'aslm': 'assalamualaikum', 'tnpa': 'tanpa', 'kmdian': 'kemudian', 'cman': 'cuman', 'psti': 'pasti', 'emng': 'memang', 'merasakn': 'merasakan', 'kguguran': 'keguguran', 'smpat': 'sempat', 'hasilny': 'hasilnya', 'hmpr': 'hampir', 'ngflek': 'flek', 'solusiny': 'solusinya', 'kog': 'kok', 'bnar': 'benar ', 'mnrut': 'menurut ', 'nyampe': 'sampai', 'trkhir': 'terakhir', 'kpla': 'kepala', 'diusg': 'usg', 'ttap': 'tetap', 'sayaa': 'saya', 'sekrng': 'sekarang ', 'cranya': 'caranya', 'blng': 'bilang', 'tmpt': 'tempat', 'cpat': 'cepat', 'brarti': 'berarti', 'bleh': 'boleh', 'katax': 'kata', 'mkanan': 'makanan', 'klr': 'keluar', 'mnrt': 'menurut ', 'pnyebab': 'penyebab', 'lncar': 'lancar', 'solusix': 'solusi', 'qta': 'kita', 'brtnya': 'bertanya', 'terimah': 'trima kasih', 'bhkn': 'bahkan', 'dgan': 'dengan', 'nmun': 'namun', 'debaynya': 'debay', 'bngun': 'bangun', 'tespect': 'test pack', 'maem': 'makan', 'yaaa': 'iya', 'busui': 'menyusui', 'esensis': 'susu esensis', 'prlu': 'perlu', 'btuk': 'batuk', 'smpet': 'sempat', 'pyudara': 'payudara', 'smenjak': 'semenjak', 'pupnya': 'pup', 'ttpi': 'tetapi', 'binggung': 'bingung', 'scra': 'secara', 'kandungn': 'kandungan', 'sblmx': 'sebelumnya', 'dkasih': 'dikasih', 'brusia': 'berusia', 'mualnya': 'mual', 'anakq': 'anak', 'trjdi': 'terjadi', 'lgs': 'langsung ', 'folafit': 'folavit', 'nenen': 'nenen', 'sbln': 'sebulan', 'pngaruh': 'pengaruh', 'fleknya': 'flek', 'sekrg': 'sekarang ', 'lngsng': 'langsung ', 'ssya': 'saya', 'bner': 'benar ', 'tipsnya': 'tips', 'maksih': 'trima kasih', 'smnjak': 'semenjak', 'bapil': 'bapil ', 'lgsung': 'langsung ', 'mampet': 'mampet', 'jawabanx': 'jawab', 'hamilan': 'hamil', 'ngtif': 'negatif', 'sanmol': 'sanmol', 'bgmana': 'bagimana', 'usiax': 'usia', 'mksi': 'trima kasih', 'dkuret': 'kuret', 'ttng': 'tentang', 'brhenti': 'berenti', 'makash': 'trima kasih', 'brwarna': 'berwarna', 'sush': 'susah', 'lkukan': 'lakukan', 'sbulan': 'sebulan', 'sngt': 'sangat', 'trllu': 'terlalu', 'eneg': 'enak', 'bget': 'banget', 'pgen': 'pengin', 'nterima': 'trima kasih', 'minngu': 'minggu', 'oiya': 'iya', 'pnyakit': 'penyakit', 'smnggu': 'seminggu', 'jlan': 'jalan', 'slesai': 'selesai', 'mlhirkan': 'melahirkan ', 'doktet': 'dokter ', 'usiany': 'usia', 'pagii': 'pagi', 'haloo': 'halo', 'wajarkah': 'wajar', 'spti': 'seperti ', 'gatalnya': 'gatal', 'asix': 'asi', 'mgkn': 'mungkin', 'smggu': 'seminggu', 'ktika': 'ketika', 'sdgkan': 'sedangkan', 'septmber': 'september', 'tggu': 'tunggu', 'bbrapa': 'berapa', 'ataw': 'atau', 'ddlm': 'kedalam', 'dkit': 'sedikit', 'yha': 'yah', 'yahh': 'yah', 'bebelove': 'susu bebelac', 'nggk': 'nggak ', 'bubid': 'bidan', 'menz': 'mens', 'dikiret': 'kuret', 'nihh': 'nih', 'infony': 'info', 'nolak': 'nolak', 'krja': 'kerja', 'tnykan': 'tanya', 'tmbh': 'tambah', 'hbungan': 'hubungan', 'tanyakn': 'tanya', 'sndri': 'sendiri', 'lncr': 'lancar', 'haidx': 'haid', 'djwb': 'dijawab', 'bgitu': 'begitu', 'progmil': 'promil', 'batpil': 'bapil ', 'siank': 'siang', 'bkin': 'bikin', 'jwab': 'jawab', 'sngat': 'sangat', 'haidku': 'haid', 'nnt': 'nanti', 'sebaikny': 'sebaiknya', 'bagamana': 'bagimana', 'pngn': 'pengin', 'trutama': 'terutama', 'kndgn': 'kandungan', 'kluarga': 'keluarga', 'sdngkan': 'sedangkan', 'krj': 'kerja', 'ktny': 'katanya', 'kurg': 'kurang ', 'tyap': 'setiap', 'jwbnny': 'jawab', 'mersakan': 'merasakan', 'pakek': 'pake', 'trmasuk': 'termasuk', 'blnan': 'bulanan', 'ktuban': 'ketuban', 'hawatir': 'kuwatir', 'cmpur': 'campur', 'mncul': 'muncul', 'trkadang': 'terkadang', 'nyerii': 'nyeri', 'pkek': 'pakai', 'napakah': 'kenapa', 'seorg': 'seorang', 'mnkh': 'menikah', 'asiku': 'asi', 'mknnya': 'makan ', 'dahaknya': 'dahak', 'sbntar': 'sebentar', 'bln': 'bulan', 'mensnya': 'mens', 'mrsakan': 'merasa', 'sdngkn': 'sedangkan', 'mknn': 'makan ', 'kehamiln': 'kehamilan', 'ktany': 'katanya', 'tnyakn': 'tanyakan', 'lhir': 'lahir', 'sndr': 'sendiri', 'crta': 'cerita', 'tany': 'tanya', 'lpas': 'lepas', 'sedangkn': 'sedangkan', 'knal': 'kenal', 'sht': 'sehat', 'bgni': 'begini', 'dokterx': 'dokter', 'pranakan': 'peranakan', 'mngatasi': 'mengatasi', 'ngrok': 'ngorok', 'belm': 'belum', 'didlm': 'didalam', 'pnykit': 'penyakit', 'skalian': 'sekalian', 'telatnya': 'telat', 'gjla': 'gejala', 'mmasuki': 'memasuki', 'khwatir': 'khawatir', 'susux': 'susu', 'bbnya': 'berat badan', 'sblah': 'sebelah', 'ditgl': 'tanggal', 'bsok': 'besok', 'mmbuat': 'membuat', 'sjak': 'sejak', 'brbahaya': 'berbahaya', 'mngkn': 'mungkin', 'dpet': 'dapat', 'setlh': 'setelah', 'pndrhan': 'pendarahan', 'doct': 'dokter ', 'mkch': 'trima kasih', 'ckup': 'cukup', 'sndiri': 'sendiri', 'ditespek': 'test pack', 'ketauan': 'ketahuan', 'dirahim': 'dirahim', 'adlh': 'adalah', 'tanyaa': 'tanya', 'seblmnya': 'sebelumnya', 'katany': 'katanya', 'rsakan': 'rasakan', 'nyemil': 'ngemil', 'rasakn': 'rasakan', 'tespec': 'test pack', 'susui': 'susu', 'tapii': 'tapi', 'selmt': 'selamat', 'lagii': 'lagi', 'filek': 'pilek', 'mlai': 'mulai', 'jwaban': 'jawaban', 'tensinya': 'tensi', 'sedng': 'sedang', 'smntra': 'sementara', 'nfsu': 'nafsu', 'dtunggu': 'ditunggu', 'badanx': 'badan', 'ngatif': 'negatif', 'jwbnx': 'jawaban', 'mncoba': 'mencoba', 'hslny': 'hasilnya', 'sgra': 'segera', 'hubungn': 'hubungan', 'khmiln': 'kehamilan', 'mmpunyai': 'mempunyai', 'tetpi': 'tetapi', 'bilng': 'bilang ', 'brobat': 'berobat', 'soaly': 'soal', 'terjdi': 'terjadi', 'trmaksh': 'trima kasih', 'tmen': 'teman', 'smpek': 'sampai', 'maksh': 'trima kasih', 'jrang': 'jarang', 'hsilx': 'hasil', 'dsuruh': 'disuruh', 'dkasi': 'dikasih', 'mensx': 'mens', 'giginy': 'gigi', 'ngalami': 'mengalami', 'jwbanya': 'jawab', 'dperut': 'perut', 'smkin': 'semakin ', 'gusinya': 'gusi', 'makasiih': 'trima kasih', 'mkasi': 'trima kasih', 'dsruh': 'disuruh', 'kpda': 'kepada', 'mkin': 'semakin ', 'mngkin': 'mungkin', 'ttapi': 'tetapi', 'trmkasih': 'trima kasih', 'sbnrny': 'sebenarnya', 'agst': 'agustus', 'bratx': 'berat', 'jrak': 'jarak', 'ngeplek': 'ngeflek', 'hrsnya': 'harusnya', 'pakaikan': 'pakai', 'septmbr': 'september', 'laper': 'lapar', 'khamiln': 'kehamilan', 'mlahirkn': 'melahirkan ', 'emut': 'mengemut', 'byak': 'banyak', 'dbln': 'bulan', 'mlkukan': 'melakukan', 'clna': 'celana', 'seharus': 'seharusnya', 'dduk': 'duduk', 'smbil': 'sambil', 'brkurang': 'berkurang', 'mengedan': 'mengejan', 'saleb': 'salep', 'hpth': 'hptl', 'kbetulan': 'kebetulan', 'sirklus': 'siklus', 'wjar': 'wajar', 'bdnnya': 'badan', 'akhirx': 'akhirnya', 'brubah': 'berubah', 'ntah': 'entah', 'jdwal': 'jadwal', 'bdanya': 'badan', 'jnis': 'jenis', 'dtgl': 'tanggal', 'prkiraan': 'perkiraan', 'aqu': 'aku', 'jdwl': 'jadwal', 'ternyta': 'ternyata', 'rasax': 'rasanya', 'semalem': 'semalam', 'denger': 'dengar ', 'xsehari': 'sehari', 'tmpat': 'tempat', 'beratx': 'berat', 'vlek': 'flek ', 'cklat': 'coklat', 'smar': 'samar', 'hrinya': 'hari', 'jlas': 'jelas ', 'pileknya': 'pilek', 'pengn': 'ingin', 'ceasar': 'caesar', 'bertny': 'bertanya', 'mslah': 'masalah ', 'kdua': 'kedua ', 'brwrna': 'bewarna', 'dibidan': 'bidan', 'kirain': 'kirain', 'jrwat': 'jerawat', 'dok': 'dokter', 'memng': 'memang', 'sbntr': 'sebentar', 'mngu': 'minggu', 'ngecek': 'check', 'tnykn': 'tanya', 'smnjk': 'semenjak', 'priod': 'priode', 'brenti': 'berenti', 'trakhr': 'terakhir', 'uumur': 'umur', 'mnikh': 'menikah', 'trjd': 'terjadi', 'nkh': 'nikah', 'jwbny': 'jawab', 'tetakhir': 'terakhir', 'nmbh': 'nambah', 'ksuburan': 'kesuburan ', 'ibuk': 'ibu ', 'kdktr': 'dokter', 'aktf': 'aktif', 'thnks': 'trima kasih', 'trakir': 'terakhir', 'gjala': 'kejala', 'buburnya': 'bubur', 'stengah': 'setengah', 'aplgi': 'apalagi', 'gituu': 'gitu', 'bantuanx': 'bantuanya', 'anyangan': 'anyang', 'darh': 'darah', 'darahny': 'darah', 'dksi': 'dikasih', 'drmh': 'dirumah', 'biasay': 'biasanya', 'belun': 'belum', 'tolng': 'tolong ', 'badanny': 'badan', 'nrmal': 'normal', 'dijwb': 'dijawab', 'srng': 'sering ', 'dekt': 'dekat', 'malh': 'malah', 'hslnya': 'hasinya', 'trtur': 'teratur', 'asalam': 'assalamu’alaimum', 'thks': 'trima kasih', 'bulann': 'bulan', 'umurx': 'umur', 'tax': 'tanya ', 'babny': 'baby', 'carany': 'caranya', 'sayapun': 'saya', 'doter': 'dokter', 'kluhan': 'keluhan', 'leherx': 'leher', 'sgtu': 'segitu', 'tsb': 'tersebut', 'pkir': 'pikir', 'awalny': 'awal', 'jdinya': 'jadi', 'kehmilan': 'kehamilan', 'trlambat': 'terlambat', 'uda': 'udah', 'rasany': 'rasa', 'brencana': 'berencana', 'dtnggu': 'ditunggu', 'asslkm': 'assalamu’alaimum', 'wrnanya': 'warna', 'sunsang': 'sungsang', 'rsanya': 'rasanya', 'kntraksi': 'kontraksi', 'diksih': 'dikasih', 'ptama': 'pertama', 'lwat': 'lewat', 'kyknya': 'kayanya', 'suburku': 'subur', 'trkdg': 'terkadang', 'smntara': 'sementara', 'asslmkm': 'assalamu’alaimum', 'tmbah': 'tambah', 'kncang': 'kencang', 'sntik': 'suntik', 'bdanx': 'badan', 'sayakan': 'saya', 'smentara': 'sementara', 'pydara': 'payudara', 'asiny': 'asin', 'padahl': 'padahal', 'mksdnya': 'maksudnya', 'diobatin': 'diobatin', 'bnjolan': 'benjolan ', 'trmks': 'trima kasih', 'crnya': 'cranya', 'trahir': 'terakhir', 'drumah': 'dirumah', 'bsknya': 'besok', 'mnjalani': 'menjalani', 'olesi': 'oles', 'selamt': 'selamat', 'apalg': 'apalagi', 'katnya': 'katanya', 'brbeda': 'berbeda', 'bgaimn': 'bagaimana', 'maap': 'maaf', 'sbnrnya': 'sebenarnya', 'apalgi': 'apalagi', 'menikh': 'menikah', 'bntuan': 'bantuan', 'terusin': 'terusin', 'mnit': 'menit', 'berjln': 'berjalan ', 'mlhirkn': 'melahirkan ', 'umurny': 'umur', 'kurng': 'kurang', 'skng': 'sekarang ', 'pux': 'pup', 'hilng': 'hilang', 'kontrksi': 'kontraksi', 'tgl ': 'tanggal', 'kndngan': 'kandungan', 'trhadap': 'terhadap', 'dtangx': 'datang', 'saranx': 'saran', 'brhbungn': 'berhubungan', 'benjoln': 'benjolan ', 'nmohon': 'mohon', 'bangat': 'bangat', 'dbulan': 'bulan', 'curet': 'curet', 'kosumsi': 'konsumsi', 'trimks': 'trima kasih', 'klihatan': 'kelihatan', 'prog': 'promil', 'bsoknya': 'besok', 'keringet': 'keringat', 'tp': 'tapi', 'trsbt': 'tersebut', 'rumh': 'rumah', 'pndrahan': 'pendaran', 'kandunga': 'kandungan', 'apaka': 'apakah', 'seblm': 'sebelum', 'kadng': 'kadang', 'tespck': 'test pack', 'tngal': 'tanggal', 'oktb': 'oktober', 'rnsaya': 'rasa', 'mslhnya': 'masalah ', 'dook': 'dokter', 'prenan': 'prenagen', 'lairan': 'lahiran', 'haod': 'Haid', 'hammil': 'hamil', 'resepkan': 'resep', 'brgerak': 'bergerak', 'wjah': 'wajah', 'enggk': 'tidak', 'ngmut': 'ngemut', 'implanon': 'implant', 'ithu': 'itu', 'idung': 'hidung ', 'fleks': 'flek ', 'kenapah': 'kenapa', 'merskan': 'merasakan', 'pakein': 'pakai', 'nbunda': 'bunda', 'blnnya': 'bulan', 'dibrikan': 'diberikan', 'shrusnya': 'seharunya', 'cekok': 'cekok', 'dibedong': 'bedong ', 'mngtasi': 'mengatasi', 'pulng': 'pulang', 'hslx': 'hasil', 'alhmdllh': 'alhamdulilah', 'mntah': 'muntah', 'alhmdlh': 'alhamdulilah', 'perutny': 'perut', 'nsya': 'saya', 'bolehkh': 'boleh', 'ansk': 'anak', 'berakhr': 'berakhir', 'spaya': 'supaya', 'tman': 'teman', 'mnangani': 'menangani', 'lanjutin': 'lanjut', 'bag': 'bagian', 'cwo': 'cowo', 'mret': 'maret', 'dibwh': 'dibawah ', 'lemaz': 'lemas', 'mlkukn': 'melakukan ', 'pdahl': 'padahal', 'lmes': 'lemas', 'lahirin': 'lahiran', 'abz': 'habis', 'thdp': 'terhadap', 'siy': 'sih', 'lher': 'leher ', 'krng': 'sekarang ', 'mnginjak': 'menginjak', 'kndung': 'kandung', 'wrnnya': 'warna', 'trhdp': 'terhadap', 'mimggu': 'minggu', 'kjadian': 'kejadian', 'bwat': 'buat', 'sputar': 'seputar', 'mlhrkn': 'melahirkan ', 'dsaat': 'disaat', 'krberapa': 'berapa', 'mksudnya': 'maksudnya', 'pijet': 'pijat', 'diberikn': 'diberikan', 'djwab': 'dijawab', 'dkatakan': 'dikatakan', 'kntung': 'kantong', 'rmbut': 'rambut', 'sdh': 'sudah', 'thankz': 'terima kasih', 'lhrn': 'lahiran', 'bahkn': 'bahkan', 'sdg': 'sedang', 'mskipun': 'meskipun', 'aslkm': 'assalamu’alaimum', 'akhirny': 'akhirnya ', 'karnakan': 'karena', 'brusaha': 'berusaha', 'baikny': 'baik', 'smuanya': 'semuanya', 'makasihh': 'trima kasih', 'crny': 'caranya', 'fitamin': 'vitamin', 'faud': 'paud', 'knph': 'kenapa', 'sblomnya': 'sebelum', 'tetp': 'tetap', 'minumkan': 'minum', 'jnin': 'janin', 'kdpan': 'kedepan', 'mngalmi': 'mengalami', 'hsily': 'hasilnya', 'suburny': 'subur', 'pnyubur': 'penyubur', 'luluran': 'lulur', 'notif': 'notifikasi ', 'bkrja': 'bekerja', 'istrhat': 'isirahat', 'budok': 'dokter', 'brbhaya': 'berbahaya', 'hsilny': 'hasilnya', 'menst': 'mens', 'gedenya': 'gede', 'nkah': 'nikah ', 'klopun': 'kalau', 'prasaan': 'perasaan', 'mimum': 'minum', 'kdkter': 'dokter', 'jrng': 'jarang ', 'brrti': 'berarti', 'gatelnya': 'gatel', 'yg': 'yang', 'sayya': 'saya', 'dbwah': 'dibawah ', 'brdoa': 'berdoa', 'taspack': 'test pack', 'sekarg': 'sekarang ', 'hamik': 'hamil', 'ucapkn': 'ucapkan', 'mngg': 'minggu', 'tnyata': 'ternyata', 'tetima': 'trima kasih', 'knan': 'kanan', 'mendpt': 'mendapat', 'kehmlan': 'kehamilan', 'brsih': 'bersih', 'mnumnya': 'minum', 'mulesnya': 'mules', 'lakukn': 'lakukan', 'mmliki': 'memiliki', 'hubngan': 'hubungan', 'brjln': 'berjalan ', 'mjd': 'menjadi', 'smoga': 'semoga', 'menyusi': 'menyusui', 'agstus': 'agustus', 'mrangkak': 'merangkak', 'atopun': 'ataupun', 'oktber': 'oktober ', 'nympe': 'sampai', 'kmbl': 'kembali', 'msti': 'mesti', 'istrht': 'isirahat', 'berhnti': 'berenti', 'plng': 'pulang', 'kandugan': 'kandungan', 'janinx': 'janin', 'brhbngan': 'berhubungan', 'hrusnya': 'harus', 'oktbr': 'oktober', 'brnti': 'berenti', 'subr': 'subur', 'mnerus': 'menerus', 'sbentar': 'sebentar', 'nyeriny': 'nyeri', 'perur': 'perut', 'trhdap': 'terhadap', 'diapotek': 'apotek', 'kbtulan': 'kebetulan', 'trmsuk': 'termasuk', 'trkna': 'terkena', 'hulan': 'bulan ', 'brikn': 'berikan ', 'hitungn': 'hitungan', 'dirs': 'rumah sakit', 'pydra': 'payudara', 'mndekati': 'mendekati', 'norml': 'normal', 'dksih': 'dikasih', 'obatin': 'obat', 'iitu': 'itu', 'dbri': 'diberi', 'kbnyakan': 'kebanyakan', 'kmdn': 'kemudian', 'brtambah': 'bertambah', 'pnjang': 'panjang ', 'susuny': 'susu', 'kemrn': 'kemaren', 'mohin': 'mohon', 'hyy': 'hay', 'brcampur': 'bercampur', 'khmlan': 'kehamilan', 'hlang': 'hilang', 'selese': 'selesai', 'jwbanx': 'jawab', 'gthu': 'gatahu', 'jtuh': 'jatuh', 'lnjut': 'lanjut', 'mksd': 'maksud', 'dikatakn': 'dikatakan', 'teruz': 'terus', 'rnmohon': 'mohon', 'pipisnx': 'pipis', 'sedkit': 'sedikit', 'sbnarnya': 'sebenarnya', 'bidanya': 'bidan', 'nyutan': 'nyut’’an', 'dbawah': 'dibawah ', 'trkdang': 'terkadang', 'tdnya': 'tadinya', 'mtor': 'motor', 'mngguan': 'mingguan', 'ktrunan': 'keturanan', 'mmkai': 'memakai', 'tmksh': 'trima kasih', 'mmbrikan': 'memberikan', 'bntr': 'sebentar', 'keluwar': 'keluar', 'wlaupun': 'wlaupun', 'bilg': 'bilang', 'sbnyk': 'sebanyak', 'grak': 'gerak', 'hasinya': 'hasil', 'ngefleg': 'ngeflek', 'sampay': 'sampai', 'trimasih': 'trima kasih', 'natau': 'gatahu', 'nikh': 'nikah ', 'rncna': 'rencana', 'mengatsi': 'mengatasi', 'dimnum': 'minum', 'gmuk': 'gemuk', 'mersakn': 'merasakan', 'pnjg': 'panjang ', 'trlat': 'terlambat', 'rsax': 'rasanya', 'prcya': 'percaya', 'nkira': 'kira2', 'harii': 'hari', 'hasily': 'hasil', 'terkhr': 'terakhir', 'thn': 'tahun', 'tggal': 'tanggal', 'bbur': 'bubur', 'gtal': 'gatal', 'blik': 'balik', 'apaa': 'apa', 'tnggu': 'tunggu', 'brhub': 'berhubungan', 'diwajah': 'wajah', 'kringat': 'keringat', 'khwtir': 'kwatir', 'kbnya': 'kb', 'bljr': 'belajar ', 'bertmbah': 'bertambah', 'sklus': 'siklus', 'rsakn': 'rasa', 'ngatasi': 'ngatasi', 'tanyain': 'tanya', 'trmh': 'trima kasih', 'febuary': 'febuari', 'haiii': 'hai', 'netek': 'nete', 'mlem': 'malam', 'hasilna': 'hasinya', 'dedeknya': 'bayi', 'melahir': 'melahirkan ', 'mengalmi': 'mengalami', 'aplg': 'apalagi', 'trmhksh': 'trima kasih', 'dminum': 'diminum', 'munth': 'muntah', 'bayix': 'bayi', 'brjalan': 'berjalan ', 'mw': 'now watching', 'jnuari': 'januari', 'mlkkn': 'melakukan ', 'slsy': 'selesai', 'lhiran': 'lahiran ', 'hplnya': 'hpl', 'kluarx': 'keluar', 'disore': 'sore', 'kasihh': 'kasih', 'sianh': 'siang', 'xnya': 'kayanya', 'wasslm': 'waalaikumsalam', 'peyakit': 'penyakit', 'mksihh': 'trima kasih', 'terimksh': 'trima kasih', 'hbngan': 'hubungan', 'sblom': 'sebelum', 'blkangan': 'belakang', 'stngah': 'setengah', 'ktakan': 'katakan', 'bundaa': 'bunda', 'ngrsain': 'ngerasain', 'negarif': 'negatif', 'blakang': 'belakang', 'rndok': 'dokter', 'trss': 'terus', 'doker': 'dokter', 'sakitt': 'sakit', 'berp': 'berapa', 'awalx': 'awal', 'kurates': 'kuret', 'mnglami': 'mengalami', 'mninggal': 'meninggal', 'lmbat': 'lambat', 'dikurek': 'dikuret', 'lewt': 'lewat', 'brsa': 'berasa', 'sgitu': 'segitu', 'janinya': 'janin', 'bebhaya': 'berbahaya', 'ituu': 'itu', 'badanq': 'badan', 'creamnya': 'cream', 'gejalah': 'kejala', 'kbidan': 'bidan', 'bgtt': 'bangat', 'brasa': 'berasa', 'bblr': 'belajar ', 'dlem': 'dalam', 'fndusnya': 'fundus', 'semlm': 'semalam', 'bisulan': 'bisul', 'trimah': 'trima kasih', 'cairanya': 'cairan', 'dluar': 'diluar', 'negatf': 'negatif', 'sruh': 'suruh', 'nusia': 'usia', 'payudra': 'payudara', 'melkukn': 'melakukan ', 'tdk': 'tidak', 'pnybb': 'penyebab', 'memank': 'memang', 'naaah': 'nah', 'yerima': 'trima kasih', 'mrsakn': 'merasakan', 'ssah': 'susah', 'aksn': 'akan', 'dbwa': 'dibawa', 'tmbahan': 'tambahan', 'thnx': 'trima kasih', 'dngr': 'dengar', 'mndptkan': 'mendapatkan', 'wlpun': 'wloupun', 'kerj': 'kerja', 'mohom': 'mohon', 'kturunan': 'keturunan', 'bnda': 'bunda', 'bza': 'bisa', 'tpii': 'tapi', 'mmang': 'memang', 'soree': 'sore', 'wnita': 'wanita', 'blajar': 'belajar ', 'pantaty': 'pantat', 'sdangkn': 'sedangkan', 'ngatasin': 'ngatasin', 'mskh': 'trima kasih', 'smjak': 'semenjak', 'ykin': 'yakin', 'dbawa': 'dibawa', 'gapapa': 'gapapa', 'blehkah': 'bolehkah', 'teralhir': 'terakhir', 'dktakan': 'dikatakan', 'kcwa': 'kecewa', 'asii': 'asi', 'hikz': 'hiks', 'bwaan': 'bawaan', 'bljar': 'belajar ', 'tmnnya': 'teman', 'trkdng': 'terkadang', 'puny': 'punya', 'berjerwt': 'berjerawat', 'tngan': 'tangan', 'bngkak': 'bengkak', 'brhasil': 'berhasil', 'sembh': 'sembuh', 'bdannya': 'badanya', 'ambeiyen': 'ambieyen', 'nsetiap': 'setiap', 'stelh': 'setelah', 'berbahya': 'berbahaya', 'kebaby': 'baby', 'masiih': 'masih', 'knjung': 'kunjung', 'skarng': 'sekarang', 'babx': 'baby', 'mllm': 'malam', 'pcah': 'pecah', 'trimz': 'trima kasih', 'tespact': 'test pack', 'tglnya': 'tanggal', 'pilekx': 'pilek', 'bulanny': 'bulan', 'mmberi': 'memberi', 'disusu': 'disusu', 'sgera': 'segera', 'setenga': 'setengah', 'sebaiky': 'sebaiknya', 'maksihh': 'trima kasih', 'suburx': 'subur', 'bngn': 'bangun', 'rasay': 'rasa', 'kcuali': 'kecuali', 'btul': 'betul', 'kndala': 'kendala', 'lancr': 'lancar', 'darahx': 'darah', 'lakukuan': 'lakukan', 'dpaksa': 'dipaksa', 'paktor': 'faktor', 'makasie': 'trima kasih', 'serig': 'sering', 'kmaluan': 'kemaluan', 'sihh': 'sih', 'nmbah': 'nambah', 'hormonx': 'hormon', 'krang': 'sekarang', 'pgel': 'pegel', 'janinq': 'janin', 'batukny': 'batuk', 'sebelumy': 'sebelum', 'dimkn': 'dimakan', 'ngambil': 'mengambil', 'bhwa': 'bahwa', 'gtuh': 'begituh', 'smw': 'semua', 'kgiatan': 'kegiatan', 'jwbanny': 'jawab', 'keputiha': 'keputihan', 'knsumsi': 'konsumsi', 'babyq': 'baby', 'sbaiknya': 'sebaiknya', 'mlas': 'malas', 'batul': 'batuk', 'sebener': 'sebenarnya', 'sprma': 'sperma', 'klilit': 'kelilit', 'slamt': 'selamat', 'kegguran': 'keguguran', 'curret': 'kuret', 'lkuin': 'lakukan', 'efekny': 'efeknya', 'smothing': 'smoothing', 'mncapai': 'mencapai', 'vesesnya': 'feses', 'sofur': 'sufor', 'brkmbng': 'berkembang', 'mngecek': 'mengecek', 'ktauan': 'ketahuan', 'kadih': 'sedih', 'kbrpa': 'berapa', 'prubahan': 'perubahan', 'membsar': 'membesar', 'eklamsi': 'Preeklampsia\\xa0', 'ngruh': 'ngaruh', 'siklusny': 'siklus', 'boleeh': 'boleh', 'pakaii': 'pakai', 'kmbung': 'kembung', 'sbgai': 'sebagai', 'mlakukn': 'melakukan ', 'semnggu': 'prenagen', 'dbanding': 'dibanding', 'bgimna': 'bagimana', 'dibgian': 'dibagian', 'trlmbat': 'terlambat', 'dhr': 'dihari', 'enesis': 'prenagen emesis', 'tdrnya': 'tidur', 'hlg': 'hilang', 'mndpt': 'mendapat', 'hasl': 'hasil', 'anmum': 'susu anmum', 'dijwab': 'dijawab', 'jth': 'jatuh', 'nipas': 'nifas', 'ngrsa': 'ngerasa', 'drahnya': 'darah', 'obtnya': 'obat', 'ngmng': 'bicara', 'pnggul': 'panggul', 'jngan': 'jangan', 'bercmpur': 'bercampur', 'dsni': 'disini', 'mmakai': 'memakai', 'skarg': 'sekarang', 'sedik': 'sedih', 'bkas': 'bekas', 'mnjd': 'menjadi', 'enakan': 'enak', 'mulesny': 'mules', 'saua': 'saya', 'padhl': 'padahal', 'kelpa': 'kelapa', 'rncn': 'rencana', 'janinku': 'janin', 'brikutny': 'berikutnya', 'usiaku': 'usia', 'bukn': 'bukan', 'trpaksa': 'terpaksa', 'kirra': 'kira', 'niy': 'nih', 'dpakai': 'pakai', 'pagiii': 'pagi', 'trsbut': 'tersebut', 'dbantu': 'dibantu', 'posisiny': 'posisi', 'sumil': 'susu hamil', 'pisik': 'fisik', 'fktor': 'faktor', 'ngedan': 'ngejan', 'tetus': 'terus', 'aplagi': 'apalagi', 'blhkah': 'boleh', 'mandikan': 'mandi', 'teratut': 'teratur', 'tggi': 'tinggi', 'mingg': 'minggu', 'dbwh': 'dibawah', 'swktu': 'sewaktu', 'prjlnan': 'perjalanan', 'bratnya': 'beratnya', 'brgkali': 'barangkali', 'babynya': 'baby', 'lasih': 'kasih', 'mggunkan': 'mengunakan', 'ikutin': 'ikut', 'panasny': 'panas', 'sebenarx': 'sebenarnya', 'ngilunya': 'ngilu', 'mrskan': 'merasakan', 'niiih': 'nih', 'skitr': 'sekitar', 'empengan': 'empeng', 'negati': 'negatif', 'dluan': 'duluan', 'setaun': 'setahun', 'brumah': 'berumatangga', 'ankku': 'anak', 'jawabnny': 'jawaban', 'masbur': 'Masa subur', 'herankan': 'heran', 'tngn': 'tangan', 'jugak': 'juga', 'tngga': 'tangga', 'mengalai': 'mengalami', 'toling': 'tolong', 'bkerja': 'bekerja', 'sekaramg': 'sekarang', 'akibatny': 'akibat', 'skedar': 'sekedar', 'beratny': 'berat', 'bdany': 'badan', 'hngat': 'hangat', 'mglmi': 'mengalami', 'tntg': 'tentang ', 'klainan': 'kelainan', 'maslh': 'masalah', 'skarag': 'sekarang', 'ssudh': 'sesusah', 'mrasakn': 'merasakan', 'maksudny': 'maksudnya', 'krmn': 'kemaren', 'dibwah': 'dibawah', 'kbtln': 'kebetulan', 'pmbukaan': 'pembukaan', 'dtmbh': 'ditambah', 'hidungny': 'hidung', 'pgal': 'pegal', 'alergix': 'alergi', 'harusny': 'harusnya', 'kshtn': 'kesehatan', 'tkutnya': 'takutnya', 'pnjlsn': 'penjelasan', 'dilab': 'di leb', 'blny': 'bulan', 'nentu': 'tentu', 'lakuka': 'lakukan', 'haud': 'haid', 'ngtf': 'negatif', 'hilabg': 'hilang', 'pertm': 'pertama ', 'mlhrkan': 'melahirkan', 'pupp': 'pup', 'maux': 'mau', 'hra': 'harus', 'berhubgn': 'berhubungan', 'gtw': 'tidak tahu', 'ngangkat': 'mengangkat', 'krluar': 'keluar', 'tetlihat': 'terlihat', 'mrrah': 'marah', 'trbangun': 'terbangun', 'suply': 'supply', 'sebsar': 'sebesar ', 'sypun': 'saya', 'kndngn': 'kandungan', 'mknya': 'mangkanya', 'nadakah': 'adakah', 'minumin': 'minum', 'sblumx': 'sebelumnya', 'resepkn': 'resep', 'lgii': 'lagi', 'diiket': 'di ikat', 'pyudra': 'payudara', 'brbagai': 'berbagai', 'trmsk': 'termasuk', 'mimiknya': 'mimi', 'solutio': 'solusio', 'mnjelang': 'menjelang', 'dpan': 'depan', 'mauu': 'mau', 'coklt': 'coklat', 'kndsi': 'kondisi', 'klahiran': 'kelahiran', 'berkb': 'kb', 'rnterima': 'trima kasih', 'dsember': 'desember', 'hbat': 'hebat', 'bning': 'bening', 'tmbuh': 'tumbuh', 'tgkurap': 'tengkurap', 'kmbuh': 'kambuh', 'sebln': '1 bulan', 'nnterima': 'terima', 'lihatnya': 'lihat', 'mikirnya': 'mikir', 'emank': 'emang', 'kmrhan': 'kemerahan', 'hbngn': 'hubungan ', 'trua': 'terus', 'kelahirn': 'kelahiran', 'blkngan': 'belakangan', 'mnkah': 'mungkin', 'cekukan': 'cegukan', 'shrsnya': 'seharusnya', 'ditggu': 'ditunggu', 'ngeluh': 'mengeluh', 'tnyaa': 'tanya', 'makasii': 'trima kasih', 'konsl': 'konsultasi', 'tidurpun': 'tidur', 'mlalui': 'melalui', 'febroari': 'febuari', 'btuh': 'butuh', 'mknny': 'makan', 'mjdi': 'menjadi', 'empong': 'ngempeng', 'shrsny': 'seharusnya', 'triak': 'triak', 'tlihat': 'terlihat', 'tlalu': 'terlalu', 'berbhya': 'berbahaya', 'bertaun': 'bertahun', 'hbiz': 'habis', 'pusarx': 'pusar', 'mksudny': 'maksudnya', 'jntung': 'jantung', 'prtanda': 'bertanda', 'gngguan': 'gangguan', 'procal': 'procal gold', 'ciklat': 'coklat', 'pnambah': 'penambah', 'bosen': 'bosen', 'maksut': 'maksudnya', 'berika': 'berikan', 'nsoalnya': 'soalnya', 'ktax': 'datang', 'testpck': 'test pack', 'ukrn': 'ukuran', 'sebutkn': 'sebutkan', 'makanx': 'makan', 'terkdg': 'terkadang', 'brgkt': 'berangkat', 'meneteki': 'menyusui', 'rhim': 'rahim', 'mnonjol': 'menonjol', 'niih': 'nih', 'mncium': 'mencium', 'srta': 'serta', 'motnya': 'tanya', 'dipipi': 'dipipi', 'lmyan': 'lumayan', 'tspk': 'test pack', 'ditest': 'di tes', 'cumn': 'cuman', 'apakaah': 'apakah', 'fositip': 'positif', 'soale': 'soal', 'maaih': 'masih', 'berhebti': 'berenti', 'momongn': 'momongan', 'kputihn': 'keputian', 'hait': 'haid', 'ksihan': 'kasian', 'psca': 'paska', 'exklusif': 'eksklusif', 'dsarankn': 'disarankan', 'tnx': 'trima kasih', 'myusui': 'menyusui', 'kondsi': 'kondisi', 'takud': 'takut', 'knsul': 'konsultasi', 'nnormal': 'normal', 'esense': 'prenagen esensis', 'gigix': 'gigi', 'anakx': 'anak', 'trlwtkn': 'terlewatkan', 'makax': 'makan ', 'ccok': 'cocok', 'dusg': 'usg', 'bangt': 'bangat', 'mndadak': 'mendadak', 'hamilkah': 'hamil', 'iyaa': 'iya', 'semnjak': 'semenjak', 'thunan': 'tahun', 'sebabkn': 'sebabkan', 'sebelh': 'sebelah', 'lnsung': 'langsung', 'smbh': 'sembuh', 'thxs': 'trima kasih', 'pleknya': 'pilek', 'rntrims': 'trima kasih', 'tdurnya': 'tidur ', 'mnunggu': 'menunggu', 'bntuk': 'batuk', 'bedaknya': 'bedak', 'menjd': 'mejadi', 'smping': 'samping', 'janinny': 'janin', 'tidurn': 'tidur ', 'srasa': 'serasa', 'essensis': 'susu assensis', 'rtil': 'profertil', 'sluruh': 'seluruh', 'melakukn': 'melakukan', 'knpya': 'kenapa', 'klhatan': 'kelihatan', 'yll': 'lalu', 'berobt': 'berobat', 'heheh': 'hehe', 'lgsng': 'langsung', 'tespk': 'test pack', 'sempt': 'sempat', 'tertur': 'teratur', 'brtmbh': 'bertambah ', 'mmbentuk': 'membentuk', 'bayiq': 'bayi', 'sebela': 'sebelah', 'ehh': 'eh', 'nyetir': 'nyetir', 'dotnya': 'dot', 'sharian': 'seharian', 'sekaali': 'sekali', 'sgar': 'segar', 'mnggnggu': 'menganggu', 'agsts': 'agustus', 'brtambh': 'bertambah ', 'terkdng': 'terkadang', 'jwabanx': 'jawaban', 'mes': 'mens', 'blnx': 'bulan', 'lnsg': 'langsung', 'kayag': 'kaya', 'siangx': 'siang', 'sumtik': 'suntik ', 'bhw': 'bahwa', 'diarenya': 'diare', 'mncuci': 'mencuci', 'fositif': 'positif', 'normalx': 'normal', 'ddnya': 'dede', 'pusingx': 'pusing', 'demm': 'demam', 'maanfaat': 'manfaat', 'dbagian': 'dibagian', 'askum': 'assalamualaikum', 'kelihtn': 'kelihatan', 'jngn': 'jangan ', 'crax': 'cara', 'ktiak': 'ketiak', 'ceklat': 'coklat', 'bangeet': 'banget', 'alaykum': 'assalamualaikum', 'byasanya': 'biasanya', 'meninggl': 'minggal', 'bagaimn': 'bagian', 'caessar': 'caesar', 'telad': 'telat', 'pelncar': 'pelancar', 'bantuany': 'bantuan', 'prutnya': 'perut', 'rntrmksh': 'trima kasih', 'supleman': 'suplemen', 'kncing': 'kencing', 'sktar': 'sekitar', 'kapn': 'kapan', 'dbilang': 'dibilang', 'trkena': 'terkena', 'padhal': 'padahal', 'dokkk': 'dokter', 'hptp': 'hpht', 'susang': 'sungsang ', 'missv': 'mis v', 'ktam': 'keram', 'terlmbt': 'terlambat', 'mikum': 'assalamualaikum', 'kptihan': 'keputian', 'exluton': 'kb exluton', 'lmyn': 'lumayan', 'cekup': 'cek’up', 'klamut': 'kelamut', 'agusts': 'agustus', 'pegangi': 'pegangin', 'rnsampai': 'sampai', 'rntapi': 'tapi', 'rnkalau': 'kalau', 'ceck': 'chack', 'gituh': 'gitu', 'palanya': 'kepala', 'nanyak': 'nanya', 'lptn': 'lipatan', 'wktunya': 'waktu', 'cabenya': 'cabe', 'mabruroh': 'Al Mabruroh', 'baikkah': 'baik', 'bakaln': 'bakalan', 'cumen': 'cuman', 'blsnya': 'balas', 'sedidkit': 'sedikit', 'tidaj': 'tidak', 'trlht': 'terlihat', 'sbersih': 'bersih', 'sy': 'saya', 'rekomen': 'rekomendasi', 'nlalu': 'lalu', 'tnggi': 'tinggi', 'wekk': 'week', 'lainx': 'lain', 'trhitung': 'terhitung', 'mentz': 'mens', 'lmbung': 'lambung', 'daby': 'da', 'squa': 'baby', 'nyatu': 'menyatu', 'ampir': 'hampir', 'sehatt': 'sehat', 'brtanx': 'bertanya', 'nanahnya': 'nanah', 'mglami': 'mengalami', 'wktnya': 'waktu', 'blnya': 'bulan', 'nwaktu': 'waktu', 'kehamil': 'kehamilan', 'jlskan': 'jelaskan', 'divagina': 'vagina', 'atasinya': 'mengatasinya', 'mmbelah': 'membelah', 'seandai': 'seandainya', 'namax': 'nama', 'salap': 'salep', 'dnk': 'dong', 'dmna': 'dimana', 'tnyk': 'tanya', 'bgsnya': 'bagus', 'ssaya': 'saya', 'sepeerti': 'seperti', 'youc': 'you c', 'istir': 'istri', 'ngerem': 'ngerem', 'prh': 'pernah', 'folatnya': 'asam folat', 'brjauhan': 'berjauhan', 'aslmkm': 'assalamualaikum', 'sblumny': 'sebelumnya', 'tapsiran': 'tapsiran', 'mbaknya': 'mbak', 'lipetan': 'lipatan', 'hrian': 'harian', 'itung': 'hitung', 'mmbaca': 'membaca', 'kemren': 'kemaren', 'tdinya': 'tadinya', 'prtm': 'pertama ', 'hlng': 'hilang', 'sisah': 'sisa', 'tagl': 'tanggal', 'suforx': 'sufor', 'bntuanya': 'bantuan', 'kcewa': 'kecewa', 'tanx': 'tanya', 'telt': 'telat', 'berapah': 'berapa', 'bagamna': 'bagaimana', 'kemailan': 'kehamilan', 'munum': 'minum', 'nanyk': 'nanya', 'hmln': 'kehamilan', 'ingusnya': 'ingus', 'jdnya': 'jadinya', 'seharusx': 'seharusnya', 'sxali': 'sekali', 'duluh': 'dulu', 'nnyak': 'tanya', 'mgrib': 'magrib', 'kedut': 'kedutan', 'trmkzh': 'trima kasih', 'prodak': 'produk', 'bangettt': 'bangat', 'inisis': 'susu lactamil inisis', 'haids': 'haid', 'oknam': 'okname', 'tnyt': 'tanya', 'nntinya': 'nantinya', 'dsbelah': 'sebelah', 'transv': 'transvagina', 'bulab': 'bulan', 'tabya': 'tanya', 'bprgian': 'bepergian', 'dokterku': 'dokter', 'ngmbil': 'ngambil', 'trdengar': 'terdengar', 'ntpi': 'tapi', 'trrlihat': 'terlihat', 'brkmbang': 'berkembang', 'gariis': 'garis', 'trgnggu': 'terganggu', 'dcek': 'dicheck', 'lagy': 'lagi', 'bundaaa': 'bunda', 'longkap': 'lengkap', 'sakitny': 'sakit', 'berikn': 'berikan', 'crtakan': 'ceritakan', 'kjdian': 'kejadian', 'prgrakan': 'pergerakan', 'tnang': 'tenang', 'mngtakan': 'mengatakan', 'nytakan': 'nyatakan', 'vitamain': 'vitamin', 'kinking': 'kinking tuba', 'nny': 'nanya', 'tvgnal': 'usg tranvaginal', 'psang': 'pasang', 'jl': 'jalan', 'dr': 'dari', '@': 'di', 'abis': 'habis', 'ad': 'ada', 'afaik': 'as far as i know', 'ahaha': 'haha', 'aj': 'saja', 'ajep-ajep': 'dunia gemerlap', 'ak': 'saya', 'akika': 'aku', 'akkoh': 'aku', 'akuwh': 'aku', 'alay': 'norak', 'alow': 'halo', 'ambilin': 'ambilkan', 'ancur': 'hancur', 'anjrit': 'anjing', 'anter': 'antar', 'ap2': 'apa-apa', 'apasih': 'apa sih', 'apes': 'sial', 'aps': 'apa', 'aq': 'saya', 'aquwh': 'aku', 'asbun': 'asal bunyi', 'aseekk': 'asyik', 'asekk': 'asyik', 'asem': 'asam', 'aspal': 'asli tetapi palsu', 'astul': 'asal tulis', 'ato': 'atau', 'au ah': 'tidak mau tahu', 'awak': 'saya', 'ay': 'sayang', 'ayank': 'sayang', 'b4': 'sebelum', 'bakalan': 'akan', 'bandes': 'bantuan desa', 'bangedh': 'banget', 'banpol': 'bantuan polisi', 'banpur': 'bantuan tempur', 'basbang': 'basi', 'bcanda': 'bercanda', 'bdg': 'bandung', 'begajulan': 'nakal', 'beliin': 'belikan', 'bencong': 'banci', 'bentar': 'sebentar', 'ber3': 'bertiga', 'beresin': 'membereskan', 'bete': 'bosan', 'beud': 'banget', 'bg': 'abang', 'bgt': 'banget', 'bijimane': 'bagaimana', 'bintal': 'bimbingan mental', 'bkl': 'akan', 'bknnya': 'bukannya', 'blegug': 'bodoh', 'blh': 'boleh', 'blum': 'belum', 'bnci': 'benci', 'bnran': 'yang benar', 'bodor': 'lucu', 'bokap': 'ayah', 'boker': 'buang air besar', 'bokis': 'bohong', 'boljug': 'boleh juga', 'bonek': 'bocah nekat', 'boyeh': 'boleh', 'br': 'baru', 'brg': 'bareng', 'bro': 'saudara laki-laki', 'bru': 'baru', 'bs': 'bisa', 'bsen': 'bosan', 'bt': 'buat', 'btw': 'ngomong-ngomong', 'buaya': 'tidak setia', 'bubbu': 'tidur', 'bubu': 'tidur', 'bw': 'bawa', 'bwt': 'buat', 'byrin': 'bayarkan', 'cabal': 'sabar', 'cadas': 'keren', 'calo': 'makelar', 'can': 'belum', 'capcus': 'pergi', 'caper': 'cari perhatian', 'ce': 'cewek', 'cekal': 'cegah tangkal', 'cemen': 'penakut', 'cengengesan': 'tertawa', 'cepet': 'cepat', 'cew': 'cewek', 'chuyunk': 'sayang', 'cimeng': 'ganja', 'cipika cipiki': 'cium pipi kanan cium pipi kiri', 'ciyh': 'sih', 'ckepp': 'cakep', 'ckp': 'cakep', 'cmiiw': \"correct me if i'm wrong\", 'cong': 'banci', 'conlok': 'cinta lokasi', 'cowwyy': 'maaf', 'cp': 'siapa', 'cpe': 'capek', 'cppe': 'capek', 'cucok': 'cocok', 'cuex': 'cuek', 'cumi': 'Cuma miscall', 'cups': 'culun', 'curanmor': 'pencurian kendaraan bermotor', 'curcol': 'curahan hati colongan', 'cwek': 'cewek', 'cyin': 'cinta', 'd': 'di', 'dah': 'deh', 'dapet': 'dapat', 'de': 'adik', 'dek': 'adik', 'demen': 'suka', 'deyh': 'deh', 'dgn': 'dengan', 'diancurin': 'dihancurkan', 'dimaafin': 'dimaafkan', 'dimintak': 'diminta', 'disono': 'di sana', 'dket': 'dekat', 'dkk': 'dan kawan-kawan', 'dll': 'dan lain-lain', 'dlu': 'dulu', 'dodol': 'bodoh', 'doku': 'uang', 'dongs': 'dong', 'dpt': 'dapat', 'dri': 'dari', 'drmn': 'darimana', 'drtd': 'dari tadi', 'dst': 'dan seterusnya', 'duh': 'aduh', 'duren': 'durian', 'ed': 'edisi', 'egp': 'emang gue pikirin', 'eke': 'aku', 'elu': 'kamu', 'emangnya': 'memangnya', 'endak': 'tidak', 'enggak': 'tidak', 'envy': 'iri', 'ex': 'mantan', 'fax': 'facsimile', 'fifo': 'first in first out', 'folbek': 'follow back', 'fyi': 'sebagai informasi', 'gaada': 'tidak ada uang', 'gag': 'tidak', 'gaje': 'tidak jelas', 'gak papa': 'tidak apa-apa', 'gan': 'juragan', 'gaptek': 'gagap teknologi', 'gatek': 'gagap teknologi', 'gawe': 'kerja', 'gbs': 'tidak bisa', 'gebetan': 'orang yang disuka', 'geje': 'tidak jelas', 'gepeng': 'gelandangan dan pengemis', 'ghiy': 'lagi', 'gile': 'gila', 'gimana': 'bagaimana', 'gino': 'gigi nongol', 'githu': 'gitu', 'gj': 'tidak jelas', 'gn': 'begini', 'goblok': 'bodoh', 'golput': 'golongan putih', 'gowes': 'mengayuh sepeda', 'gpny': 'tidak punya', 'gr': 'gede rasa', 'gretongan': 'gratisan', 'gtau': 'tidak tahu', 'gua': 'saya', 'guoblok': 'goblok', 'gw': 'saya', 'ha': 'tertawa', 'haha': 'tertawa', 'hallow': 'halo', 'hankam': 'pertahanan dan keamanan', 'hehe': 'he', 'helo': 'halo', 'hey': 'hai', 'hlm': 'halaman', 'hny': 'hanya', 'hoax': 'isu bohong', 'hr': 'hari', 'hubdar': 'perhubungan darat', 'huff': 'mengeluh', 'hum': 'rumah', 'humz': 'rumah', 'ilang': 'hilang', 'ilfil': 'tidak suka', 'imho': 'in my humble opinion', 'imoetz': 'imut', 'item': 'hitam', 'itungan': 'hitungan', 'iye': 'iya', 'ja': 'saja', 'jadiin': 'jadi', 'jaim': 'jaga image', 'jayus': 'tidak lucu', 'jem': 'jam', 'jga': 'juga', 'jgnkan': 'jangankan', 'jir': 'anjing', 'jln': 'jalan', 'jomblo': 'tidak punya pacar', 'jubir': 'juru bicara', 'jutek': 'galak', 'k': 'ke', 'kab': 'kabupaten', 'kabor': 'kabur', 'kacrut': 'kacau', 'kadiv': 'kepala divisi', 'kagak': 'tidak', 'kalo': 'kalau', 'kampret': 'sialan', 'kamtibmas': 'keamanan dan ketertiban masyarakat', 'kamuwh': 'kamu', 'kanwil': 'kantor wilayah', 'karna': 'karena', 'kasubbag': 'kepala subbagian', 'katrok': 'kampungan', 'kayanya': 'kayaknya', 'kbr': 'kabar', 'kdu': 'harus', 'kec': 'kecamatan', 'kejurnas': 'kejuaraan nasional', 'kekeuh': 'keras kepala', 'kel': 'kelurahan', 'kemaren': 'kemarin', 'kepengen': 'mau', 'kepingin': 'mau', 'kepsek': 'kepala sekolah', 'kesbang': 'kesatuan bangsa', 'kesra': 'kesejahteraan rakyat', 'ketrima': 'diterima', 'kibul': 'bohong', 'kimpoi': 'kawin', 'kl': 'kalau', 'klianz': 'kalian', 'kloter': 'kelompok terbang', 'km': 'kamu', 'kmps': 'kampus', 'kodya': 'kota madya', 'komdis': 'komisi disiplin', 'komsov': 'komunis sovyet', 'kongkow': 'kumpul bareng teman-teman', 'kopdar': 'kopi darat', 'korup': 'korupsi', 'kpn': 'kapan', 'krenz': 'keren', 'krm': 'kirim', 'kt': 'kita', 'ktmu': 'ketemu', 'ktr': 'kantor', 'kuper': 'kurang pergaulan', 'kw': 'imitasi', 'la': 'lah', 'lam': 'salam', 'lamp': 'lampiran', 'lanud': 'landasan udara', 'latgab': 'latihan gabungan', 'lebay': 'berlebihan', 'leh': 'boleh', 'lelet': 'lambat', 'lemot': 'lambat', 'lgi': 'lagi', 'liat': 'lihat', 'litbang': 'penelitian dan pengembangan', 'lo': 'kamu', 'loe': 'kamu', 'lola': 'lambat berfikir', 'louph': 'cinta', 'low': 'kalau', 'lp': 'lupa', 'luber': 'langsung, umum, bebas, dan rahasia', 'luchuw': 'lucu', 'lum': 'belum', 'luthu': 'lucu', 'lwn': 'lawan', 'maacih': 'terima kasih', 'mabal': 'bolos', 'macem': 'macam', 'macih': 'masih', 'magabut': 'makan gaji buta', 'maho': 'homo', 'mak jang': 'kaget', 'maksain': 'memaksa', 'malem': 'malam', 'mam': 'makan', 'maneh': 'kamu', 'maniez': 'manis', 'mao': 'mau', 'masukin': 'masukkan', 'melu': 'ikut', 'mepet': 'dekat sekali', 'mgu': 'minggu', 'migas': 'minyak dan gas bumi', 'mikol': 'minuman beralkohol', 'miras': 'minuman keras', 'mo': 'mau', 'mokad': 'mati', 'moso': 'masa', 'mpe': 'sampai', 'msk': 'masuk', 'mt': 'makan teman', 'mubes': 'musyawarah besar', 'mulu': 'melulu', 'mumpung': 'selagi', 'munas': 'musyawarah nasional', 'muntaber': 'muntah dan berak', 'musti': 'mesti', 'muupz': 'maaf', 'n': 'dan', 'nanam': 'menanam', 'nanya': 'bertanya', 'napa': 'kenapa', 'napi': 'narapidana', 'napza': 'narkotika, alkohol, psikotropika, dan zat adiktif ', 'narkoba': 'narkotika, psikotropika, dan obat terlarang', 'nasgor': 'nasi goreng', 'nda': 'tidak', 'ndiri': 'sendiri', 'ne': 'ini', 'nekolin': 'neokolonialisme', 'nembak': 'menyatakan cinta', 'ngabuburit': 'menunggu berbuka puasa', 'ngaku': 'mengaku', 'nganggur': 'tidak punya pekerjaan', 'ngapah': 'kenapa', 'ngaret': 'terlambat', 'ngasih': 'memberikan', 'ngebandel': 'berbuat bandel', 'ngegosip': 'bergosip', 'ngeklaim': 'mengklaim', 'ngeksis': 'menjadi eksis', 'ngeles': 'berkilah', 'ngelidur': 'menggigau', 'ngerampok': 'merampok', 'ngga': 'tidak', 'ngibul': 'berbohong', 'ngiler': 'mau', 'ngiri': 'iri', 'ngisiin': 'mengisikan', 'ngomong': 'bicara', 'ngubek2': 'mencari-cari', 'ngurus': 'mengurus', 'nie': 'ini', 'nih': 'ini', 'niyh': 'nih', 'nmr': 'nomor', 'nntn': 'nonton', 'nobar': 'nonton bareng', 'np': 'now playing', 'ntn': 'nonton', 'numpuk': 'bertumpuk', 'nutupin': 'menutupi', 'nyari': 'mencari', 'nyekar': 'menyekar', 'nyicil': 'mencicil', 'nyoblos': 'mencoblos', 'nyokap': 'ibu', 'ogah': 'tidak mau', 'ol': 'online', 'ongkir': 'ongkos kirim', 'oot': 'out of topic', 'org2': 'orang-orang', 'ortu': 'orang tua', 'otda': 'otonomi daerah', 'otw': 'on the way, sedang di jalan', 'pacal': 'pacar', 'pake': 'pakai', 'pala': 'kepala', 'pansus': 'panitia khusus', 'parpol': 'partai politik', 'pasutri': 'pasangan suami istri', 'pd': 'pada', 'pede': 'percaya diri', 'pelatnas': 'pemusatan latihan nasional', 'pemda': 'pemerintah daerah', 'pemkot': 'pemerintah kota', 'pemred': 'pemimpin redaksi', 'penjas': 'pendidikan jasmani', 'perda': 'peraturan daerah', 'perhatiin': 'perhatikan', 'pesenan': 'pesanan', 'pgang': 'pegang', 'pi': 'tapi', 'pilkada': 'pemilihan kepala daerah', 'pisan': 'sangat', 'pk': 'penjahat kelamin', 'plg': 'paling', 'pmrnth': 'pemerintah', 'polantas': 'polisi lalu lintas', 'ponpes': 'pondok pesantren', 'pp': 'pulang pergi', 'prg': 'pergi', 'psen': 'pesan', 'pst': 'pasti', 'pswt': 'pesawat', 'pw': 'posisi nyaman', 'qmu': 'kamu', 'rakor': 'rapat koordinasi', 'ranmor': 'kendaraan bermotor', 're': 'reply', 'ref': 'referensi', 'rehab': 'rehabilitasi', 'rempong': 'sulit', 'repp': 'balas', 'restik': 'reserse narkotika', 'rhs': 'rahasia', 'rmh': 'rumah', 'ru': 'baru', 'ruko': 'rumah toko', 'rusunawa': 'rumah susun sewa', 'ruz': 'terus', 'saia': 'saya', 'salting': 'salah tingkah', 'sampe': 'sampai', 'samsek': 'sama sekali', 'sapose': 'siapa', 'satpam': 'satuan pengamanan', 'sbb': 'sebagai berikut', 'sbh': 'sebuah', 'scr': 'secara', 'se7': 'setuju', 'sebelas dua belas': 'mirip', 'sembako': 'sembilan bahan pokok', 'sendratari': 'seni drama tari', 'sgt': 'sangat', 'shg': 'sehingga', 'siech': 'sih', 'sikon': 'situasi dan kondisi', 'sinetron': 'sinema elektronik', 'siramin': 'siramkan', 'sj': 'saja', 'sklh': 'sekolah', 'skt': 'sakit', 'sll': 'selalu', 'smpt': 'sempat', 'soljum': 'sholat jumat', 'songong': 'sombong', 'sory': 'maaf', 'sosek': 'sosial-ekonomi', 'sotoy': 'sok tahu', 'spa': 'siapa', 'sppa': 'siapa', 'spt': 'seperti', 'srtfkt': 'sertifikat', 'stiap': 'setiap', 'suk': 'masuk', 'sumpek': 'sempit', 'syg': 'sayang', 't4': 'tempat', 'tajir': 'kaya', 'tau': 'tahu', 'taw': 'tahu', 'td': 'tadi', 'teh': 'kakak perempuan', 'telat': 'terlambat', 'telmi': 'telat berpikir', 'temen': 'teman', 'tengil': 'menyebalkan', 'tepar': 'terkapar', 'tgu': 'tunggu', 'tilang': 'bukti pelanggaran', 'tipiwan': 'TvOne', 'tks': 'terima kasih', 'tlp': 'telepon', 'tls': 'tulis', 'tmen2': 'teman-teman', 'tmpah': 'tumpah', 'tngu': 'tunggu', 'tnyta': 'ternyata', 'tokai': 'tai', 'toserba': 'toko serba ada', 'tpi': 'tapi', 'trdhulu': 'terdahulu', 'trima': 'terima kasih', 'trm': 'terima', 'trs': 'terus', 'ts': 'penulis', 'tst': 'tahu sama tahu', 'ttg': 'tentang', 'tuch': 'tuh', 'tuir': 'tua', 'tw': 'tahu', 'u': 'kamu', 'ud': 'sudah', 'udah': 'sudah', 'ujg': 'ujung', 'ul': 'ulangan', 'unyu': 'lucu', 'uplot': 'unggah', 'urang': 'saya', 'usah': 'perlu', 'utk': 'untuk', 'valas': 'valuta asing', 'w/': 'dengan', 'wadir': 'wakil direktur', 'wamil': 'wajib militer', 'warkop': 'warung kopi', 'warteg': 'warung tegal', 'wat': 'buat', 'wkt': 'waktu', 'wtf': 'what the fuck', 'xixixi': 'tertawa', 'ya': 'iya', 'yap': 'iya', 'yaudah': 'ya sudah', 'yawdah': 'ya sudah', 'yl': 'yang lain', 'yo': 'iya', 'yowes': 'ya sudah', 'yup': 'iya', '7an': 'tujuan', 'ababil': 'abg labil', 'acc': 'accord', 'adlah': 'adalah', 'adoh': 'aduh', 'aha': 'tertawa', 'aing': 'saya', 'aja': 'saja', 'ajj': 'saja', 'aka': 'dikenal juga sebagai', 'akko': 'aku', 'akku': 'aku', 'akyu': 'aku', 'aljasa': 'asal jadi saja', 'ama': 'sama', 'ambl': 'ambil', 'anjir': 'anjing', 'ank': 'anak', 'ap': 'apa', 'apaan': 'apa', 'ape': 'apa', 'aplot': 'unggah', 'apva': 'apa', 'asap': 'sesegera mungkin', 'aseek': 'asyik', 'asek': 'asyik', 'aseknya': 'asyiknya', 'asoy': 'asyik', 'astrojim': 'astagfirullahaladzim', 'ath': 'kalau begitu', 'atuh': 'kalau begitu', 'ava': 'avatar', 'aws': 'awas', 'ayang': 'sayang', 'ayok': 'ayo', 'bacot': 'banyak bicara', 'bales': 'balas', 'bangdes': 'pembangunan desa', 'bangkotan': 'tua', 'banpres': 'bantuan presiden', 'bansarkas': 'bantuan sarana kesehatan', 'bazis': 'badan amal, zakat, infak, dan sedekah', 'bcoz': 'karena', 'beb': 'sayang', 'bejibun': 'banyak', 'belom': 'belum', 'bener': 'benar', 'ber2': 'berdua', 'berdikari': 'berdiri di atas kaki sendiri', 'bet': 'banget', 'beti': 'beda tipis', 'beut': 'banget', 'bgd': 'banget', 'bgs': 'bagus', 'bhubu': 'tidur', 'bimbuluh': 'bimbingan dan penyuluhan', 'bisi': 'kalau-kalau', 'bkn': 'bukan', 'bl': 'beli', 'blg': 'bilang', 'blm': 'belum', 'bls': 'balas', 'bnchi': 'benci', 'bohay': 'badan aduhai', 'bokep': 'porno', 'bokin': 'pacar', 'bole': 'boleh', 'bolot': 'bodoh', 'bonyok': 'ayah ibu', 'bpk': 'bapak', 'brb': 'segera kembali', 'brngkt': 'berangkat', 'brp': 'berapa', 'brur': 'saudara laki-laki', 'bsa': 'bisa', 'bsk': 'besok', 'bu_bu': 'tidur', 'bubarin': 'bubarkan', 'buber': 'buka bersama', 'bujubune': 'luar biasa', 'buser': 'buru sergap', 'bwhn': 'bawahan', 'byar': 'bayar', 'byr': 'bayar', 'c8': 'chat', 'cabut': 'pergi', 'caem': 'cakep', 'cama-cama': 'sama-sama', 'cangcut': 'celana dalam', 'cape': 'capek', 'caur': 'jelek', 'cekak': 'tidak ada uang', 'cekidot': 'coba lihat', 'cemplungin': 'cemplungkan', 'ceper': 'pendek', 'ceu': 'kakak perempuan', 'cewe': 'cewek', 'cibuk': 'sibuk', 'cin': 'cinta', 'ciye': 'cie', 'ckck': 'ck', 'clbk': 'cinta lama bersemi kembali', 'cmpr': 'campur', 'cnenk': 'senang', 'congor': 'mulut', 'cow': 'cowok', 'coz': 'karena', 'cpa': 'siapa', 'gokil': 'gila', 'gombal': 'suka merayu', 'gpl': 'tidak pakai lama', 'gpp': 'tidak apa-apa', 'gretong': 'gratis', 'gt': 'begitu', 'gue': 'saya', 'guys': 'teman-teman', 'gws': 'cepat sembuh', 'haghaghag': 'tertawa', 'hakhak': 'tertawa', 'handak': 'bahan peledak', 'hansip': 'pertahanan sipil', 'hellow': 'halo', 'helow': 'halo', 'hi': 'hai', 'hnya': 'hanya', 'houm': 'rumah', 'hrs': 'harus', 'hubad': 'hubungan angkatan darat', 'hubla': 'perhubungan laut', 'huft': 'mengeluh', 'humas': 'hubungan masyarakat', 'idk': 'saya tidak tahu', 'ilfeel': 'tidak suka', 'imba': 'jago sekali', 'imoet': 'imut', 'info': 'informasi', 'isengin': 'bercanda', 'iyala': 'iya lah', 'iyo': 'iya', 'jablay': 'jarang dibelai', 'jadul': 'jaman dulu', 'jancuk': 'anjing', 'jd': 'jadi', 'jdikan': 'jadikan', 'jg': 'juga', 'jgn': 'jangan', 'jijay': 'jijik', 'jkt': 'jakarta', 'jnj': 'janji', 'jurdil': 'jujur adil', 'ka': 'kakak', 'kabag': 'kepala bagian', 'kacian': 'kasihan', 'kadit': 'kepala direktorat', 'kaga': 'tidak', 'kaka': 'kakak', 'kamtib': 'keamanan dan ketertiban', 'kamuh': 'kamu', 'kamyu': 'kamu', 'kapt': 'kapten', 'kasat': 'kepala satuan', 'kasubbid': 'kepala subbidang', 'kau': 'kamu', 'kbar': 'kabar', 'kcian': 'kasihan', 'keburu': 'terlanjur', 'kedubes': 'kedutaan besar', 'kek': 'seperti', 'keknya': 'kayaknya', 'keliatan': 'kelihatan', 'keneh': 'masih', 'kepikiran': 'terpikirkan', 'kepo': 'mau tahu urusan orang', 'kere': 'tidak punya uang', 'kesian': 'kasihan', 'keukeuh': 'keras kepala', 'khan': 'kan', 'kibus': 'kaki busuk', 'kk': 'kakak', 'klian': 'kalian', 'klo': 'kalau', 'klwrga': 'keluarga', 'kmari': 'kemari', 'kmpus': 'kampus', 'kn': 'kan', 'knl': 'kenal', 'kompi': 'komputer', 'komtiong': 'komunis Tiongkok', 'konjen': 'konsulat jenderal', 'koq': 'kok', 'kpd': 'kepada', 'kptsan': 'keputusan', 'krik': 'garing', 'krn': 'karena', 'kudu': 'harus', 'kuq': 'kok', 'ky': 'seperti', 'kykny': 'kayanya', 'laka': 'kecelakaan', 'lambreta': 'lambat', 'lansia': 'lanjut usia', 'lapas': 'lembaga pemasyarakatan', 'lbur': 'libur', 'lekong': 'laki-laki', 'lg': 'lagi', 'lgkp': 'lengkap', 'lht': 'lihat', 'linmas': 'perlindungan masyarakat', 'lngkp': 'lengkap', 'loch': 'loh', 'lol': 'tertawa', 'lom': 'belum', 'loupz': 'cinta', 'lowh': 'kamu', 'lu': 'kamu', 'luchu': 'lucu', 'luff': 'cinta', 'luph': 'cinta', 'lw': 'kamu', 'lwt': 'lewat', 'maaciw': 'terima kasih', 'mabes': 'markas besar', 'macem-macem': 'macam-macam', 'madesu': 'masa depan suram', 'maen': 'main', 'mahatma': 'maju sehat bersama', 'mak': 'ibu', 'makasih': 'terima kasih', 'malah': 'bahkan', 'malu2in': 'memalukan', 'mamz': 'makan', 'manies': 'manis', 'mantep': 'mantap', 'markus': 'makelar kasus', 'mba': 'mbak', 'mending': 'lebih baik', 'miker': 'minuman keras', 'milis': 'mailing list', 'mls': 'malas', 'mnt': 'minta', 'moge': 'motor gede', 'mokat': 'mati', 'mosok': 'masa', 'msh': 'masih', 'mskpn': 'meskipun', 'msng2': 'masing-masing', 'muahal': 'mahal', 'muker': 'musyawarah kerja', 'mumet': 'pusing', 'muna': 'munafik', 'munaslub': 'musyawarah nasional luar biasa', 'musda': 'musyawarah daerah', 'muup': 'maaf', 'muuv': 'maaf', 'nal': 'kenal', 'nangis': 'menangis', 'naon': 'apa', 'napol': 'narapidana politik', 'naq': 'anak', 'narsis': 'bangga pada diri sendiri', 'nax': 'anak', 'ndak': 'tidak', 'ndut': 'gendut', 'nekolim': 'neokolonialisme', 'nelfon': 'menelepon', 'ngabis2in': 'menghabiskan', 'ngakak': 'tertawa', 'ngambek': 'marah', 'ngampus': 'pergi ke kampus', 'ngantri': 'mengantri', 'ngapain': 'sedang apa', 'ngaruh': 'berpengaruh', 'ngawur': 'berbicara sembarangan', 'ngeceng': 'kumpul bareng-bareng', 'ngeh': 'sadar', 'ngekos': 'tinggal di kos', 'ngelamar': 'melamar', 'ngeliat': 'melihat', 'ngemeng': 'bicara terus-terusan', 'ngerti': 'mengerti', 'nggak': 'tidak', 'ngikut': 'ikut', 'nginep': 'menginap', 'ngisi': 'mengisi', 'ngmg': 'bicara', 'ngocol': 'lucu', 'ngomongin': 'membicarakan', 'ngumpul': 'berkumpul', 'ni': 'ini', 'nyasar': 'tersesat', 'nyariin': 'mencari', 'nyiapin': 'mempersiapkan', 'nyiram': 'menyiram', 'nyok': 'ayo', 'o/': 'oleh', 'ok': 'ok', 'pro': 'profesional', 'psn': 'pesan', 'puanas': 'panas', 'qmo': 'kamu', 'qt': 'kita', 'rame': 'ramai', 'raskin': 'rakyat miskin', 'red': 'redaksi', 'reg': 'register', 'rejeki': 'rezeki', 'renstra': 'rencana strategis', 'reskrim': 'reserse kriminal', 'sni': 'sini', 'somse': 'sombong sekali', 'sorry': 'maaf', 'sosbud': 'sosial-budaya', 'sospol': 'sosial-politik', 'sowry': 'maaf', 'spd': 'sepeda', 'spy': 'supaya', 'stelah': 'setelah', 'subbag': 'subbagian', 'sumbangin': 'sumbangkan', 'syp': 'siapa', 'tabanas': 'tabungan pembangunan nasional', 'tar': 'nanti', 'taun': 'tahun', 'tawh': 'tahu', 'tdi': 'tadi', 'te2p': 'tetap', 'tekor': 'rugi', 'telkom': 'telekomunikasi', 'telp': 'telepon', 'temen2': 'teman-teman', 'tengok': 'menjenguk', 'terbitin': 'terbitkan', 'tgl': 'tanggal', 'thanks': 'terima kasih', 'thd': 'terhadap', 'thx': 'terima kasih', 'tipi': 'TV', 'tkg': 'tukang', 'tll': 'terlalu', 'tlpn': 'telepon', 'tmn2': 'teman-teman', 'tmph': 'tumpah', 'tnh': 'tanah', 'togel': 'toto gelap', 'tq': 'terima kasih', 'trgntg': 'tergantung', 'cb': 'coba', 'y': 'ya', 'munfik': 'munafik', 'reklamuk': 'reklamasi', 'sma': 'sama', 'tren': 'trend', 'ngehe': 'kesal', 'mz': 'mas', 'analisise': 'analisis', 'sadaar': 'sadar', 'sept': 'september', 'nmenarik': 'menarik', 'zonk': 'bodoh', 'rights': 'benar', 'simiskin': 'miskin', 'ngumpet': 'sembunyi', 'hardcore': 'keras', 'solve': 'solusi', 'watuk': 'batuk', 'ngebully': 'intimidasi', 'masy': 'masyarakat', 'still': 'masih', 'tauk': 'tahu', 'mbual': 'bual', 'tioghoa': 'tionghoa', 'ngentotin': 'senggama', 'kentot': 'senggama', 'faktakta': 'fakta', 'sohib': 'teman', 'rubahnn': 'rubah', 'nyela': 'cela', 'heters': 'pembenci', 'nyembah': 'sembah', 'most': 'paling', 'ikon': 'lambang', 'light': 'terang', 'pndukung': 'pendukung', 'setting': 'atur', 'seting': 'akting', 'next': 'lanjut', 'waspadalah': 'waspada', 'gantengsaya': 'ganteng', 'parte': 'partai', 'nyerang': 'serang', 'nipu': 'tipu', 'ktipu': 'tipu', 'jentelmen': 'berani', 'buangbuang': 'buang', 'tsangka': 'tersangka', 'ista': 'nista', 'less': 'kurang', 'koar': 'teriak', 'paranoid': 'takut', 'problem': 'masalah', 'tahi': 'kotoran', 'tirani': 'tiran', 'tilep': 'tilap', 'happy': 'bahagia', 'tak': 'tidak', 'penertiban': 'tertib', 'uasai': 'kuasa', 'mnolak': 'tolak', 'trending': 'trend', 'taik': 'tahi', 'wkwkkw': 'tertawa', 'ahokncc': 'ahok', 'istaa': 'nista', 'benarjujur': 'jujur', 'alig': 'gila'}\n",
            "['adalah', 'adanya', 'adapun', 'agak', 'agaknya', 'agar', 'akan', 'akankah', 'akhir', 'akhiri', 'akhirnya', 'aku', 'akulah', 'amat', 'amatlah', 'anda', 'andalah', 'antar', 'antara', 'antaranya', 'apaan', 'apabila', 'apakah', 'apalagi', 'apatah', 'artinya', 'asal', 'asalkan', 'atas', 'atau', 'ataukah', 'ataupun', 'awal', 'awalnya', 'bagai', 'bagaikan', 'bagaimana', 'bagaimanakah', 'bagaimanapun', 'bagi', 'bagian', 'bahkan', 'bahwa', 'bahwasanya', 'baik', 'bakal', 'bakalan', 'balik', 'banyak', 'bapak', 'baru', 'bawah', 'beberapa', 'begini', 'beginian', 'beginikah', 'beginilah', 'begitu', 'begitukah', 'begitulah', 'begitupun', 'bekerja', 'belakang', 'belakangan', 'belum', 'belumlah', 'benar', 'benarkah', 'berada', 'berakhir', 'berakhirlah', 'berakhirnya', 'berapa', 'berapakah', 'berapalah', 'berapapun', 'berarti', 'berawal', 'berbagai', 'berdatangan', 'beri', 'berikan', 'berikut', 'berikutnya', 'berjumlah', 'berkali-kali', 'berkata', 'berkehendak', 'berkeinginan', 'berkenaan', 'berlainan', 'berlalu', 'berlangsung', 'berlebihan', 'bermacam', 'bermacam-macam', 'bermaksud', 'bermula', 'bersama', 'bersama-sama', 'bersiap', 'bersiap-siap', 'bertanya', 'bertanya-tanya', 'berturut', 'berturut-turut', 'bertutur', 'berujar', 'berupa', 'besar', 'betul', 'betulkah', 'biasa', 'biasanya', 'bila', 'bilakah', 'bisa', 'bisakah', 'boleh', 'bolehkah', 'bolehlah', 'buat', 'bukan', 'bukankah', 'bukanlah', 'bukannya', 'bulan', 'bung', 'cara', 'caranya', 'cukup', 'cukupkah', 'cukuplah', 'cuma', 'dahulu', 'dalam', 'dan', 'dapat', 'daripada', 'datang', 'demi', 'demikian', 'demikianlah', 'dengan', 'depan', 'dia', 'diakhiri', 'diakhirinya', 'dialah', 'diberikannya', 'dibuat', 'dibuatnya', 'didapat', 'didatangkan', 'digunakan', 'diibaratkan', 'diibaratkannya', 'diingat', 'diingatkan', 'diinginkan', 'dijawab', 'dijelaskan', 'dijelaskannya', 'dikatakan', 'dikatakannya', 'dikerjakan', 'diketahui', 'diketahuinya', 'dikira', 'dilakukan', 'dimaksud', 'dimaksudkan', 'dimaksudkannya', 'dimaksudnya', 'diminta', 'dimintai', 'dimisalkan', 'dimulai', 'dimulailah', 'dimulainya', 'dimungkinkan', 'dini', 'dipastikan', 'diperbuat', 'diperbuatnya', 'dipergunakan', 'diperkirakan', 'diperlihatkan', 'diperlukan', 'diperlukannya', 'dipersoalkan', 'dipertanyakan', 'dipunyai', 'diri', 'dirinya', 'disampaikan', 'disebut', 'disebutkan', 'disebutkannya', 'disinilah', 'ditambahkan', 'ditandaskan', 'ditanya', 'ditanyai', 'ditanyakan', 'ditegaskan', 'ditujukan', 'ditunjuk', 'ditunjuki', 'ditunjukkan', 'ditunjukkannya', 'ditunjuknya', 'dituturkan', 'dituturkannya', 'diucapkan', 'diucapkannya', 'diungkapkan', 'dong', 'dua', 'dulu', 'empat', 'enggak', 'enggaknya', 'entah', 'entahlah', 'guna', 'gunakan', 'hal', 'hampir', 'hanya', 'hanyalah', 'hari', 'harus', 'haruslah', 'hendak', 'hendaklah', 'hendaknya', 'hingga', 'ia', 'ialah', 'ibarat', 'ibaratkan', 'ibaratnya', 'ibu', 'ikut', 'ingat', 'ingat-ingat', 'ingin', 'inginkah', 'inginkan', 'ini', 'inikah', 'inilah', 'itu', 'itukah', 'itulah', 'jadi', 'jadilah', 'jadinya', 'jangan', 'jangankan', 'janganlah', 'jauh', 'jawab', 'jawaban', 'jawabnya', 'jelas', 'jelaskan', 'jelaslah', 'jelasnya', 'jika', 'jikalau', 'juga', 'jumlah', 'jumlahnya', 'justru', 'kala', 'kalau', 'kalaulah', 'kalaupun', 'kalian', 'kami', 'kamilah', 'kamu', 'kamulah', 'kan', 'kapan', 'kapankah', 'kapanpun', 'karena', 'karenanya', 'kata', 'katakan', 'katakanlah', 'katanya', 'ke', 'kebetulan', 'kecil', 'kedua', 'keduanya', 'keinginan', 'kelamaan', 'kelihatan', 'kelihatannya', 'kelima', 'keluar', 'kembali', 'kemudian', 'kemungkinan', 'kemungkinannya', 'kenapa', 'kepada', 'kepadanya', 'kesampaian', 'keseluruhan', 'keseluruhannya', 'keterlaluan', 'ketika', 'khususnya', 'kini', 'kinilah', 'kira', 'kira-kira', 'kiranya', 'kita', 'kitalah', 'kok', 'kurang', 'lagi', 'lagian', 'lah', 'lainnya', 'lalu', 'lama', 'lamanya', 'lanjut', 'lanjutnya', 'lebih', 'lewat', 'lima', 'luar', 'macam', 'maka', 'makanya', 'makin', 'malah', 'malahan', 'mampu', 'mampukah', 'mana', 'manakala', 'manalagi', 'masa', 'masih', 'masihkah', 'masing', 'masing-masing', 'mau', 'maupun', 'melainkan', 'melakukan', 'melalui', 'melihat', 'melihatnya', 'memang', 'memastikan', 'memberi', 'memberikan', 'membuat', 'memerlukan', 'memihak', 'meminta', 'memintakan', 'memisalkan', 'memperbuat', 'mempergunakan', 'memperkirakan', 'memperlihatkan', 'mempersiapkan', 'mempersoalkan', 'mempertanyakan', 'mempunyai', 'memulai', 'memungkinkan', 'menaiki', 'menambahkan', 'menandaskan', 'menanti', 'menanti-nanti', 'menantikan', 'menanya', 'menanyai', 'menanyakan', 'mendapat', 'mendapatkan', 'mendatang', 'mendatangi', 'mendatangkan', 'menegaskan', 'mengakhiri', 'mengapa', 'mengatakan', 'mengatakannya', 'mengenai', 'mengerjakan', 'mengetahui', 'menggunakan', 'menghendaki', 'mengibaratkan', 'mengibaratkannya', 'mengingat', 'mengingatkan', 'menginginkan', 'mengira', 'mengucapkan', 'mengucapkannya', 'mengungkapkan', 'menjadi', 'menjawab', 'menjelaskan', 'menuju', 'menunjuk', 'menunjuki', 'menunjukkan', 'menunjuknya', 'menurut', 'menuturkan', 'menyampaikan', 'menyangkut', 'menyatakan', 'menyebutkan', 'menyeluruh', 'menyiapkan', 'merasa', 'mereka', 'merekalah', 'merupakan', 'meski', 'meskipun', 'meyakini', 'meyakinkan', 'minta', 'mirip', 'misal', 'misalkan', 'misalnya', 'mula', 'mulailah', 'mulanya', 'mungkin', 'mungkinkah', 'nah', 'naik', 'namun', 'nyaris', 'nyatanya', 'oleh', 'olehnya', 'pada', 'padahal', 'padanya', 'pak', 'paling', 'panjang', 'pantas', 'para', 'pasti', 'pastilah', 'penting', 'pentingnya', 'per', 'percuma', 'perlu', 'perlukah', 'perlunya', 'pernah', 'persoalan', 'pertama', 'pertama-tama', 'pertanyaan', 'pertanyakan', 'pihak', 'pihaknya', 'pukul', 'pula', 'pun', 'punya', 'rasa', 'rasanya', 'rata', 'rupanya', 'saat', 'saatnya', 'saja', 'sajalah', 'saling', 'sama', 'sama-sama', 'sambil', 'sampai', 'sampai-sampai', 'sampaikan', 'sana', 'sangat', 'sangatlah', 'satu', 'saya', 'sayalah', 'se', 'sebab', 'sebabnya', 'sebagai', 'sebagaimana', 'sebagainya', 'sebagian', 'sebaik', 'sebaik-baiknya', 'sebaiknya', 'sebaliknya', 'sebanyak', 'sebegini', 'sebegitu', 'sebelum', 'sebelumnya', 'sebenarnya', 'seberapa', 'sebesar', 'sebetulnya', 'sebisanya', 'sebuah', 'sebut', 'sebutlah', 'sebutnya', 'secara', 'secukupnya', 'sedang', 'sedangkan', 'sedemikian', 'sedikit', 'sedikitnya', 'seenaknya', 'segala', 'segalanya', 'segera', 'seharusnya', 'sehingga', 'seingat', 'sejak', 'sejauh', 'sejenak', 'sejumlah', 'sekadar', 'sekadarnya', 'sekali', 'sekali-kali', 'sekalian', 'sekaligus', 'sekalipun', 'sekarang', 'sekarang', 'sekecil', 'seketika', 'sekiranya', 'sekitar', 'sekitarnya', 'sekurang-kurangnya', 'sekurangnya', 'sela', 'selain', 'selaku', 'selalu', 'selama', 'selama-lamanya', 'selamanya', 'selanjutnya', 'seluruh', 'seluruhnya', 'semacam', 'semakin', 'semampu', 'semampunya', 'semasa', 'semasih', 'semata', 'semata-mata', 'semaunya', 'sementara', 'semisal', 'semisalnya', 'sempat', 'semua', 'semuanya', 'semula', 'seorang', 'sepanjang', 'sepantasnya', 'sepantasnyalah', 'seperlunya', 'seperti', 'sepertinya', 'sepihak', 'sering', 'seringnya', 'serta', 'serupa', 'sesaat', 'sesama', 'sesampai', 'sesegera', 'sesekali', 'seseorang', 'sesuatu', 'sesuatunya', 'sesudah', 'sesudahnya', 'setelah', 'setempat', 'setengah', 'seterusnya', 'setiap', 'setiba', 'setibanya', 'setidak-tidaknya', 'setidaknya', 'setinggi', 'seusai', 'sewaktu', 'siap', 'siapa', 'siapakah', 'siapapun', 'sini', 'sinilah', 'soal', 'soalnya', 'suatu', 'sudah', 'sudahkah', 'sudahlah', 'supaya', 'tadi', 'tadinya', 'tahu', 'tahun', 'tak', 'tambah', 'tambahnya', 'tampak', 'tampaknya', 'tandas', 'tandasnya', 'tanpa', 'tanya', 'tanyakan', 'tanyanya', 'tapi', 'tegas', 'tegasnya', 'telah', 'tempat', 'tengah', 'tentang', 'tentu', 'tentulah', 'tentunya', 'tepat', 'terakhir', 'terasa', 'terbanyak', 'terdahulu', 'terdapat', 'terdiri', 'terhadap', 'terhadapnya', 'teringat', 'teringat-ingat', 'terjadi', 'terjadilah', 'terjadinya', 'terkira', 'terlalu', 'terlebih', 'terlihat', 'termasuk', 'ternyata', 'tersampaikan', 'tersebut', 'tersebutlah', 'tertentu', 'tertuju', 'terus', 'terutama', 'tetap', 'tetapi', 'tiap', 'tiba', 'tiba-tiba', 'tidak', 'tidakkah', 'tidaklah', 'tiga', 'tinggi', 'toh', 'tunjuk', 'turut', 'tutur', 'tuturnya', 'ucap', 'ucapnya', 'ujar', 'ujarnya', 'umum', 'umumnya', 'ungkap', 'ungkapnya', 'untuk', 'usah', 'usai', 'waduh', 'wah', 'wahai', 'waktu', 'waktunya', 'walau', 'walaupun', 'wong', 'yaitu', 'yakin', 'yakni']\n"
          ],
          "name": "stdout"
        }
      ]
    },
    {
      "cell_type": "code",
      "metadata": {
        "id": "E5FNmhTNMPTH"
      },
      "source": [
        "def text_cleansing(text):\n",
        "  pat1 = r'@[A-Za-z0-9]+'\n",
        "  pat2 = r'https?://[A-Za-z0-9./]+'\n",
        "  pat3 = r'RT '\n",
        "  combined_pat = r'|'.join((pat1, pat2, pat3))\n",
        "  clean_text = re.sub(combined_pat, '', text)\n",
        "  clean_text = re.sub(\"[^a-zA-Z]\", \" \", clean_text)\n",
        "  clean_text = \" \".join(clean_text.split())\n",
        "  result = clean_text.lower()\n",
        "  return result\n",
        "\n",
        "def preprocessing_slang_singkatan(text, dict_clean=dict_clean):\n",
        "  regex = r\"\\b(?:\"+\"|\".join(re.escape(word) for word in dict_clean) + r\")\\b\"\n",
        "  reobj = re.compile(regex, re.I)\n",
        "  \n",
        "  return reobj.sub(lambda x:dict_clean[x.group(0)], text)\n",
        "\n",
        "def remove_stopwords(x, list_stopwords=list_stopwords):\n",
        "  return \" \".join([w for w in x.split() if not w in list_stopwords])\n",
        "\n",
        "def clean_all(x, dict_clean=dict_clean, list_stopwords=list_stopwords):\n",
        "  x = text_cleansing(x)\n",
        "  x = preprocessing_slang_singkatan(x, dict_clean=dict_clean)\n",
        "  x = remove_stopwords(x, list_stopwords=list_stopwords)\n",
        "  return x\n"
      ],
      "execution_count": 13,
      "outputs": []
    },
    {
      "cell_type": "code",
      "metadata": {
        "colab": {
          "base_uri": "https://localhost:8080/"
        },
        "id": "DxyEtJ8eNdnU",
        "outputId": "2088504a-de24-4c93-e7f2-d73aa5fdb202"
      },
      "source": [
        "tqdm.pandas()\n",
        "df.Tweet = df.Tweet.progress_apply(lambda x: clean_all(x, dict_clean=dict_clean,\n",
        "                                                      list_stopwords=list_stopwords))"
      ],
      "execution_count": 26,
      "outputs": [
        {
          "output_type": "stream",
          "text": [
            "100%|██████████| 713/713 [00:03<00:00, 210.59it/s]\n"
          ],
          "name": "stderr"
        }
      ]
    },
    {
      "cell_type": "code",
      "metadata": {
        "colab": {
          "base_uri": "https://localhost:8080/",
          "height": 487
        },
        "id": "_imWHf-V5ROI",
        "outputId": "55294612-0eac-4c40-bf0b-f922414428ad"
      },
      "source": [
        "pd.set_option('display.max_colwidth', -1)\n",
        "df"
      ],
      "execution_count": 37,
      "outputs": [
        {
          "output_type": "stream",
          "text": [
            "/usr/local/lib/python3.6/dist-packages/ipykernel_launcher.py:1: FutureWarning:\n",
            "\n",
            "Passing a negative integer is deprecated in version 1.0 and will not be supported in future version. Instead, use None to not limit the column width.\n",
            "\n"
          ],
          "name": "stderr"
        },
        {
          "output_type": "execute_result",
          "data": {
            "text/html": [
              "<div>\n",
              "<style scoped>\n",
              "    .dataframe tbody tr th:only-of-type {\n",
              "        vertical-align: middle;\n",
              "    }\n",
              "\n",
              "    .dataframe tbody tr th {\n",
              "        vertical-align: top;\n",
              "    }\n",
              "\n",
              "    .dataframe thead th {\n",
              "        text-align: right;\n",
              "    }\n",
              "</style>\n",
              "<table border=\"1\" class=\"dataframe\">\n",
              "  <thead>\n",
              "    <tr style=\"text-align: right;\">\n",
              "      <th></th>\n",
              "      <th>Label</th>\n",
              "      <th>Tweet</th>\n",
              "    </tr>\n",
              "  </thead>\n",
              "  <tbody>\n",
              "    <tr>\n",
              "      <th>0</th>\n",
              "      <td>0</td>\n",
              "      <td>fadli zon mendagri menonaktifkan ahok gubernur dki https t co kh virwpdo</td>\n",
              "    </tr>\n",
              "    <tr>\n",
              "      <th>1</th>\n",
              "      <td>0</td>\n",
              "      <td>melukai aksi rangka memenjarakan ahok ahok gagal pemilihan kepala daerah</td>\n",
              "    </tr>\n",
              "    <tr>\n",
              "      <th>2</th>\n",
              "      <td>0</td>\n",
              "      <td>sylvi gurbernur kekerasan perempuan buktinya foto bareng debatfinalpilkadajkt</td>\n",
              "    </tr>\n",
              "    <tr>\n",
              "      <th>3</th>\n",
              "      <td>0</td>\n",
              "      <td>ahmad dhani puas debat pemilihan kepala daerah masalah jalan di bekasi terungkap https t co m hoppluid</td>\n",
              "    </tr>\n",
              "    <tr>\n",
              "      <th>4</th>\n",
              "      <td>0</td>\n",
              "      <td>waspada ktp palsu kawal pemilihan kepala daerah https t co oooerqv sm</td>\n",
              "    </tr>\n",
              "    <tr>\n",
              "      <th>...</th>\n",
              "      <td>...</td>\n",
              "      <td>...</td>\n",
              "    </tr>\n",
              "    <tr>\n",
              "      <th>708</th>\n",
              "      <td>1</td>\n",
              "      <td>muka si babi ahok tuh yang serbet lantai btp</td>\n",
              "    </tr>\n",
              "    <tr>\n",
              "      <th>709</th>\n",
              "      <td>1</td>\n",
              "      <td>bang hancurkan merka bang musnahkan china babi dibumi pertiwi indonesia berkedok reklamasi ahok</td>\n",
              "    </tr>\n",
              "    <tr>\n",
              "      <th>710</th>\n",
              "      <td>1</td>\n",
              "      <td>sapa yang bilang ahok anti korupsi grombolannya bicara gtu wajar ahok mafia koruptor sang penista agama yang dilindungi istana pki</td>\n",
              "    </tr>\n",
              "    <tr>\n",
              "      <th>711</th>\n",
              "      <td>1</td>\n",
              "      <td>ngimpi sentilin biji babi ahok pcetar pcetar langsung kejang die ngadu jkw jkw makanye sunat bicara almaidah</td>\n",
              "    </tr>\n",
              "    <tr>\n",
              "      <th>712</th>\n",
              "      <td>1</td>\n",
              "      <td>mudah an ketemu si babi iwan bopeng di tps nya anjing ahok</td>\n",
              "    </tr>\n",
              "  </tbody>\n",
              "</table>\n",
              "<p>713 rows × 2 columns</p>\n",
              "</div>"
            ],
            "text/plain": [
              "     Label                                                                                                                               Tweet\n",
              "0    0      fadli zon mendagri menonaktifkan ahok gubernur dki https t co kh virwpdo                                                          \n",
              "1    0      melukai aksi rangka memenjarakan ahok ahok gagal pemilihan kepala daerah                                                          \n",
              "2    0      sylvi gurbernur kekerasan perempuan buktinya foto bareng debatfinalpilkadajkt                                                     \n",
              "3    0      ahmad dhani puas debat pemilihan kepala daerah masalah jalan di bekasi terungkap https t co m hoppluid                            \n",
              "4    0      waspada ktp palsu kawal pemilihan kepala daerah https t co oooerqv sm                                                             \n",
              "..  ..                                                                        ...                                                             \n",
              "708  1      muka si babi ahok tuh yang serbet lantai btp                                                                                      \n",
              "709  1      bang hancurkan merka bang musnahkan china babi dibumi pertiwi indonesia berkedok reklamasi ahok                                   \n",
              "710  1      sapa yang bilang ahok anti korupsi grombolannya bicara gtu wajar ahok mafia koruptor sang penista agama yang dilindungi istana pki\n",
              "711  1      ngimpi sentilin biji babi ahok pcetar pcetar langsung kejang die ngadu jkw jkw makanye sunat bicara almaidah                      \n",
              "712  1      mudah an ketemu si babi iwan bopeng di tps nya anjing ahok                                                                        \n",
              "\n",
              "[713 rows x 2 columns]"
            ]
          },
          "metadata": {
            "tags": []
          },
          "execution_count": 37
        }
      ]
    },
    {
      "cell_type": "code",
      "metadata": {
        "colab": {
          "base_uri": "https://localhost:8080/"
        },
        "id": "8hfetSLNRCxA",
        "outputId": "4f235a6d-fdef-461a-a72c-012b75095ce9"
      },
      "source": [
        "df.info()"
      ],
      "execution_count": 27,
      "outputs": [
        {
          "output_type": "stream",
          "text": [
            "<class 'pandas.core.frame.DataFrame'>\n",
            "RangeIndex: 713 entries, 0 to 712\n",
            "Data columns (total 2 columns):\n",
            " #   Column  Non-Null Count  Dtype \n",
            "---  ------  --------------  ----- \n",
            " 0   Label   713 non-null    int64 \n",
            " 1   Tweet   713 non-null    object\n",
            "dtypes: int64(1), object(1)\n",
            "memory usage: 11.3+ KB\n"
          ],
          "name": "stdout"
        }
      ]
    },
    {
      "cell_type": "markdown",
      "metadata": {
        "id": "KPWKnREotnMn"
      },
      "source": [
        "#Split Data"
      ]
    },
    {
      "cell_type": "code",
      "metadata": {
        "id": "keVfOdU-lfQp"
      },
      "source": [
        "df_train, df_test = train_test_split(df, test_size=0.2)"
      ],
      "execution_count": 28,
      "outputs": []
    },
    {
      "cell_type": "markdown",
      "metadata": {
        "id": "KXwM1kKZtqAc"
      },
      "source": [
        "#Feature Extraction"
      ]
    },
    {
      "cell_type": "code",
      "metadata": {
        "id": "LEwBF8cAY6kE"
      },
      "source": [
        "Tfidf_vect = TfidfVectorizer()\n",
        "Tfidf_vect.fit(df['Tweet'])\n",
        "Train_X_Tfidf = Tfidf_vect.transform(df_train['Tweet'])\n",
        "Test_X_Tfidf = Tfidf_vect.transform(df_test['Tweet'])\n",
        "y_train = df_train['Label'].to_numpy()\n",
        "y_test = df_test['Label'].to_numpy()"
      ],
      "execution_count": 30,
      "outputs": []
    },
    {
      "cell_type": "markdown",
      "metadata": {
        "id": "DmTJ7bH4tvno"
      },
      "source": [
        "#Classification"
      ]
    },
    {
      "cell_type": "code",
      "metadata": {
        "id": "PM9eIVikhDfs"
      },
      "source": [
        "def klasifikasi(df):\n",
        "  classifier = SVC(kernel=df, random_state=1)\n",
        "  classifier.fit(Train_X_Tfidf, y_train)\n",
        "\n",
        "  y_pred = classifier.predict(Test_X_Tfidf)\n",
        "  print('confussion matrix = ')\n",
        "  cm = confusion_matrix(y_test, y_pred)\n",
        "  print(classification_report(y_test, y_pred))\n",
        "  print(cm)\n",
        "  print('result = ')\n",
        "  print('akurasi  =',accuracy_score(y_test, y_pred)*100,'%')\n",
        "\n",
        "  print('presisi  =',precision_score(y_test, y_pred, average='macro')*100,'%')\n",
        "\n",
        "  print('recall   =',recall_score(y_test, y_pred, average='macro')*100,'%')\n",
        "\n",
        "  print('f1 score =',f1_score(y_test, y_pred, average='macro')*100,'%')"
      ],
      "execution_count": 31,
      "outputs": []
    },
    {
      "cell_type": "code",
      "metadata": {
        "colab": {
          "base_uri": "https://localhost:8080/"
        },
        "id": "-BzgT3hiiTMr",
        "outputId": "07077b02-8bdd-428f-bde3-ada056541110"
      },
      "source": [
        "klasifikasi('poly')"
      ],
      "execution_count": 32,
      "outputs": [
        {
          "output_type": "stream",
          "text": [
            "confussion matrix = \n",
            "              precision    recall  f1-score   support\n",
            "\n",
            "           0       0.61      1.00      0.75        86\n",
            "           1       1.00      0.02      0.03        57\n",
            "\n",
            "    accuracy                           0.61       143\n",
            "   macro avg       0.80      0.51      0.39       143\n",
            "weighted avg       0.76      0.61      0.47       143\n",
            "\n",
            "[[86  0]\n",
            " [56  1]]\n",
            "result = \n",
            "akurasi  = 60.83916083916085 %\n",
            "presisi  = 80.28169014084507 %\n",
            "recall   = 50.877192982456144 %\n",
            "f1 score = 39.44343617664851 %\n"
          ],
          "name": "stdout"
        }
      ]
    },
    {
      "cell_type": "code",
      "metadata": {
        "colab": {
          "base_uri": "https://localhost:8080/"
        },
        "id": "hszUZEPgiTs2",
        "outputId": "51e7edd3-5c64-44a0-ea32-f0fdb4977c3f"
      },
      "source": [
        "klasifikasi('sigmoid')"
      ],
      "execution_count": 33,
      "outputs": [
        {
          "output_type": "stream",
          "text": [
            "confussion matrix = \n",
            "              precision    recall  f1-score   support\n",
            "\n",
            "           0       0.80      0.97      0.87        86\n",
            "           1       0.92      0.63      0.75        57\n",
            "\n",
            "    accuracy                           0.83       143\n",
            "   macro avg       0.86      0.80      0.81       143\n",
            "weighted avg       0.85      0.83      0.82       143\n",
            "\n",
            "[[83  3]\n",
            " [21 36]]\n",
            "result = \n",
            "akurasi  = 83.21678321678321 %\n",
            "presisi  = 86.0576923076923 %\n",
            "recall   = 79.83476132190943 %\n",
            "f1 score = 81.18421052631578 %\n"
          ],
          "name": "stdout"
        }
      ]
    },
    {
      "cell_type": "code",
      "metadata": {
        "colab": {
          "base_uri": "https://localhost:8080/"
        },
        "id": "QFGkKH-UiSoL",
        "outputId": "953308f7-7926-4d67-85b2-d58ac0f58ed6"
      },
      "source": [
        "klasifikasi('rbf')"
      ],
      "execution_count": 34,
      "outputs": [
        {
          "output_type": "stream",
          "text": [
            "confussion matrix = \n",
            "              precision    recall  f1-score   support\n",
            "\n",
            "           0       0.77      0.99      0.87        86\n",
            "           1       0.97      0.56      0.71        57\n",
            "\n",
            "    accuracy                           0.82       143\n",
            "   macro avg       0.87      0.77      0.79       143\n",
            "weighted avg       0.85      0.82      0.81       143\n",
            "\n",
            "[[85  1]\n",
            " [25 32]]\n",
            "result = \n",
            "akurasi  = 81.81818181818183 %\n",
            "presisi  = 87.12121212121212 %\n",
            "recall   = 77.48878008975927 %\n",
            "f1 score = 78.92290249433105 %\n"
          ],
          "name": "stdout"
        }
      ]
    },
    {
      "cell_type": "markdown",
      "metadata": {
        "id": "cUXK0OHo6Q9E"
      },
      "source": [
        "Best Result"
      ]
    },
    {
      "cell_type": "code",
      "metadata": {
        "colab": {
          "base_uri": "https://localhost:8080/"
        },
        "id": "z5NzxTZShcko",
        "outputId": "13aefc2d-c52a-4e1a-f4f2-c4f1f36529f7"
      },
      "source": [
        "klasifikasi('linear')"
      ],
      "execution_count": 35,
      "outputs": [
        {
          "output_type": "stream",
          "text": [
            "confussion matrix = \n",
            "              precision    recall  f1-score   support\n",
            "\n",
            "           0       0.80      0.97      0.87        86\n",
            "           1       0.92      0.63      0.75        57\n",
            "\n",
            "    accuracy                           0.83       143\n",
            "   macro avg       0.86      0.80      0.81       143\n",
            "weighted avg       0.85      0.83      0.82       143\n",
            "\n",
            "[[83  3]\n",
            " [21 36]]\n",
            "result = \n",
            "akurasi  = 83.21678321678321 %\n",
            "presisi  = 86.0576923076923 %\n",
            "recall   = 79.83476132190943 %\n",
            "f1 score = 81.18421052631578 %\n"
          ],
          "name": "stdout"
        }
      ]
    },
    {
      "cell_type": "markdown",
      "metadata": {
        "id": "ybUCCBJdt1fl"
      },
      "source": [
        "#Evaluation"
      ]
    },
    {
      "cell_type": "code",
      "metadata": {
        "id": "qKROxmNgrOLo"
      },
      "source": [
        "classifier = SVC(kernel=\"linear\", random_state=1)\n",
        "classifier.fit(Train_X_Tfidf, y_train)\n",
        "y_pred = classifier.predict(Test_X_Tfidf)"
      ],
      "execution_count": 38,
      "outputs": []
    },
    {
      "cell_type": "code",
      "metadata": {
        "id": "YuMuZRsnk2Be"
      },
      "source": [
        "df_pred = df_test.copy()\n",
        "df_pred['prediksi'] = y_pred\n",
        "df_pred['true_prediction'] = np.where(df_pred['prediksi'] == df_test['Label'], True, False)\n",
        "df_pred.to_excel(\"prediksi_hatespeech.xlsx\")  "
      ],
      "execution_count": 39,
      "outputs": []
    },
    {
      "cell_type": "code",
      "metadata": {
        "colab": {
          "base_uri": "https://localhost:8080/",
          "height": 487
        },
        "id": "tFTFJBfqqSfs",
        "outputId": "d93e352f-f4ea-4e89-83c9-542596ac9c95"
      },
      "source": [
        "pd.set_option('display.max_colwidth', -1)\n",
        "df_diff = df_pred.loc[df_pred['true_prediction'] == True]\n",
        "display(df_diff)"
      ],
      "execution_count": 40,
      "outputs": [
        {
          "output_type": "stream",
          "text": [
            "/usr/local/lib/python3.6/dist-packages/ipykernel_launcher.py:1: FutureWarning:\n",
            "\n",
            "Passing a negative integer is deprecated in version 1.0 and will not be supported in future version. Instead, use None to not limit the column width.\n",
            "\n"
          ],
          "name": "stderr"
        },
        {
          "output_type": "display_data",
          "data": {
            "text/html": [
              "<div>\n",
              "<style scoped>\n",
              "    .dataframe tbody tr th:only-of-type {\n",
              "        vertical-align: middle;\n",
              "    }\n",
              "\n",
              "    .dataframe tbody tr th {\n",
              "        vertical-align: top;\n",
              "    }\n",
              "\n",
              "    .dataframe thead th {\n",
              "        text-align: right;\n",
              "    }\n",
              "</style>\n",
              "<table border=\"1\" class=\"dataframe\">\n",
              "  <thead>\n",
              "    <tr style=\"text-align: right;\">\n",
              "      <th></th>\n",
              "      <th>Label</th>\n",
              "      <th>Tweet</th>\n",
              "      <th>prediksi</th>\n",
              "      <th>true_prediction</th>\n",
              "    </tr>\n",
              "  </thead>\n",
              "  <tbody>\n",
              "    <tr>\n",
              "      <th>412</th>\n",
              "      <td>0</td>\n",
              "      <td>ahok mendoakan ahok pagi jam kecewa hasil pemilihan kepala daerah</td>\n",
              "      <td>0</td>\n",
              "      <td>True</td>\n",
              "    </tr>\n",
              "    <tr>\n",
              "      <th>336</th>\n",
              "      <td>0</td>\n",
              "      <td>yang terbaik di ajang debat terbuka</td>\n",
              "      <td>0</td>\n",
              "      <td>True</td>\n",
              "    </tr>\n",
              "    <tr>\n",
              "      <th>162</th>\n",
              "      <td>0</td>\n",
              "      <td>kahfi komplit banget yaaaa heran nya yang percaya idolain</td>\n",
              "      <td>0</td>\n",
              "      <td>True</td>\n",
              "    </tr>\n",
              "    <tr>\n",
              "      <th>572</th>\n",
              "      <td>1</td>\n",
              "      <td>gusur iya trump penista agama anti islam emang hubungannya anis apa</td>\n",
              "      <td>1</td>\n",
              "      <td>True</td>\n",
              "    </tr>\n",
              "    <tr>\n",
              "      <th>111</th>\n",
              "      <td>0</td>\n",
              "      <td>presiden kapolri ok oce tuh apa debatfinalpilkadajkt</td>\n",
              "      <td>0</td>\n",
              "      <td>True</td>\n",
              "    </tr>\n",
              "    <tr>\n",
              "      <th>...</th>\n",
              "      <td>...</td>\n",
              "      <td>...</td>\n",
              "      <td>...</td>\n",
              "      <td>...</td>\n",
              "    </tr>\n",
              "    <tr>\n",
              "      <th>25</th>\n",
              "      <td>0</td>\n",
              "      <td>iya deh dripada isu bohong</td>\n",
              "      <td>0</td>\n",
              "      <td>True</td>\n",
              "    </tr>\n",
              "    <tr>\n",
              "      <th>675</th>\n",
              "      <td>1</td>\n",
              "      <td>deh btp hina islam manusia hina dibandingkan agama yang mulia apa iklanahokjahat</td>\n",
              "      <td>1</td>\n",
              "      <td>True</td>\n",
              "    </tr>\n",
              "    <tr>\n",
              "      <th>352</th>\n",
              "      <td>0</td>\n",
              "      <td>i love you ahok berdoa semoga tuhan memberkati salam jari pa ahok i love you</td>\n",
              "      <td>0</td>\n",
              "      <td>True</td>\n",
              "    </tr>\n",
              "    <tr>\n",
              "      <th>215</th>\n",
              "      <td>0</td>\n",
              "      <td>penganut agama hak yang ahok matanajwadebatjakarta</td>\n",
              "      <td>0</td>\n",
              "      <td>True</td>\n",
              "    </tr>\n",
              "    <tr>\n",
              "      <th>72</th>\n",
              "      <td>0</td>\n",
              "      <td>suporternya mulai kampungan paslon bicara debatfinalpilkadajkt</td>\n",
              "      <td>0</td>\n",
              "      <td>True</td>\n",
              "    </tr>\n",
              "  </tbody>\n",
              "</table>\n",
              "<p>119 rows × 4 columns</p>\n",
              "</div>"
            ],
            "text/plain": [
              "     Label  ... true_prediction\n",
              "412  0      ...  True          \n",
              "336  0      ...  True          \n",
              "162  0      ...  True          \n",
              "572  1      ...  True          \n",
              "111  0      ...  True          \n",
              "..  ..      ...   ...          \n",
              "25   0      ...  True          \n",
              "675  1      ...  True          \n",
              "352  0      ...  True          \n",
              "215  0      ...  True          \n",
              "72   0      ...  True          \n",
              "\n",
              "[119 rows x 4 columns]"
            ]
          },
          "metadata": {
            "tags": []
          }
        }
      ]
    },
    {
      "cell_type": "code",
      "metadata": {
        "colab": {
          "base_uri": "https://localhost:8080/",
          "height": 793
        },
        "id": "2xLVbocMq3oO",
        "outputId": "531ba1eb-14c7-489e-9927-86bccd90440a"
      },
      "source": [
        "df_diff2 = df_pred.loc[df_pred['true_prediction'] == False]\n",
        "display(df_diff2)"
      ],
      "execution_count": 41,
      "outputs": [
        {
          "output_type": "display_data",
          "data": {
            "text/html": [
              "<div>\n",
              "<style scoped>\n",
              "    .dataframe tbody tr th:only-of-type {\n",
              "        vertical-align: middle;\n",
              "    }\n",
              "\n",
              "    .dataframe tbody tr th {\n",
              "        vertical-align: top;\n",
              "    }\n",
              "\n",
              "    .dataframe thead th {\n",
              "        text-align: right;\n",
              "    }\n",
              "</style>\n",
              "<table border=\"1\" class=\"dataframe\">\n",
              "  <thead>\n",
              "    <tr style=\"text-align: right;\">\n",
              "      <th></th>\n",
              "      <th>Label</th>\n",
              "      <th>Tweet</th>\n",
              "      <th>prediksi</th>\n",
              "      <th>true_prediction</th>\n",
              "    </tr>\n",
              "  </thead>\n",
              "  <tbody>\n",
              "    <tr>\n",
              "      <th>536</th>\n",
              "      <td>1</td>\n",
              "      <td>uang taipan tuh nanti dibayar ratusan penggusuran biadab ahok</td>\n",
              "      <td>0</td>\n",
              "      <td>False</td>\n",
              "    </tr>\n",
              "    <tr>\n",
              "      <th>468</th>\n",
              "      <td>1</td>\n",
              "      <td>ahok menang pemilihan kepala daerah bikin video sex bareng anaknya tan https t co msmthwwlk</td>\n",
              "      <td>0</td>\n",
              "      <td>False</td>\n",
              "    </tr>\n",
              "    <tr>\n",
              "      <th>512</th>\n",
              "      <td>1</td>\n",
              "      <td>norak banget iklan mantan mendikbud gak respech tenun kebangsaan yang maksud https t co ux heykblg</td>\n",
              "      <td>0</td>\n",
              "      <td>False</td>\n",
              "    </tr>\n",
              "    <tr>\n",
              "      <th>48</th>\n",
              "      <td>0</td>\n",
              "      <td>debatfinalpilkadajkt telak banget anjing tertawa</td>\n",
              "      <td>1</td>\n",
              "      <td>False</td>\n",
              "    </tr>\n",
              "    <tr>\n",
              "      <th>531</th>\n",
              "      <td>1</td>\n",
              "      <td>tionghoa kaya putus sekolah kebanyakan dugem</td>\n",
              "      <td>0</td>\n",
              "      <td>False</td>\n",
              "    </tr>\n",
              "    <tr>\n",
              "      <th>514</th>\n",
              "      <td>1</td>\n",
              "      <td>dari bu sylvi gak mutu debatfinalpilkadajkt</td>\n",
              "      <td>0</td>\n",
              "      <td>False</td>\n",
              "    </tr>\n",
              "    <tr>\n",
              "      <th>10</th>\n",
              "      <td>0</td>\n",
              "      <td>gak jokowi ahok kalem melengkapi</td>\n",
              "      <td>1</td>\n",
              "      <td>False</td>\n",
              "    </tr>\n",
              "    <tr>\n",
              "      <th>628</th>\n",
              "      <td>1</td>\n",
              "      <td>matanajwadebatjakarta anies sadis topengmu terbuka lebar malam biar warga dki yang menilai apa yang pengecut</td>\n",
              "      <td>0</td>\n",
              "      <td>False</td>\n",
              "    </tr>\n",
              "    <tr>\n",
              "      <th>627</th>\n",
              "      <td>1</td>\n",
              "      <td>janganmaudibohongiahok ahok sumber kekacauan politik ramaikan aski fight</td>\n",
              "      <td>0</td>\n",
              "      <td>False</td>\n",
              "    </tr>\n",
              "    <tr>\n",
              "      <th>533</th>\n",
              "      <td>1</td>\n",
              "      <td>ahoker yang takut matinya gg disholatin tenang ada abu janda ust gadungan yang sholatin ahoker jokower</td>\n",
              "      <td>0</td>\n",
              "      <td>False</td>\n",
              "    </tr>\n",
              "    <tr>\n",
              "      <th>684</th>\n",
              "      <td>1</td>\n",
              "      <td>putaran nanti ahok kafir curang umat islam komitmen jakarta dijadikan lautan api mikir hukum</td>\n",
              "      <td>0</td>\n",
              "      <td>False</td>\n",
              "    </tr>\n",
              "    <tr>\n",
              "      <th>465</th>\n",
              "      <td>1</td>\n",
              "      <td>debatfinalpilkadajkt mampuuuusssssss mpok silvy</td>\n",
              "      <td>0</td>\n",
              "      <td>False</td>\n",
              "    </tr>\n",
              "    <tr>\n",
              "      <th>671</th>\n",
              "      <td>1</td>\n",
              "      <td>tahukah apa persamaan malin kundang ahok berdua sam durhaka asbak iklanahokjahat kampanyeahokjahat</td>\n",
              "      <td>0</td>\n",
              "      <td>False</td>\n",
              "    </tr>\n",
              "    <tr>\n",
              "      <th>464</th>\n",
              "      <td>1</td>\n",
              "      <td>ayo umat islam yang pinter percaya aksi ada hubungannya pemilihan kepala daerah ahy yang bayar anies yang untung di ude</td>\n",
              "      <td>0</td>\n",
              "      <td>False</td>\n",
              "    </tr>\n",
              "    <tr>\n",
              "      <th>594</th>\n",
              "      <td>1</td>\n",
              "      <td>masalah dunia masalah nafsu iya kang bersayap kayak burung hantu</td>\n",
              "      <td>0</td>\n",
              "      <td>False</td>\n",
              "    </tr>\n",
              "    <tr>\n",
              "      <th>167</th>\n",
              "      <td>0</td>\n",
              "      <td>yang penista agama sesungguhnya agama yang suci alat mengejar jabatan kekuasaan</td>\n",
              "      <td>1</td>\n",
              "      <td>False</td>\n",
              "    </tr>\n",
              "    <tr>\n",
              "      <th>587</th>\n",
              "      <td>1</td>\n",
              "      <td>muntah lihat lagak nya orang sok iya banget hoek</td>\n",
              "      <td>0</td>\n",
              "      <td>False</td>\n",
              "    </tr>\n",
              "    <tr>\n",
              "      <th>689</th>\n",
              "      <td>1</td>\n",
              "      <td>gubraaaaak malu liatnya untung semalam debat ga kaya mata najwa coba formatnya ringsek deh pasangan asu</td>\n",
              "      <td>0</td>\n",
              "      <td>False</td>\n",
              "    </tr>\n",
              "    <tr>\n",
              "      <th>652</th>\n",
              "      <td>1</td>\n",
              "      <td>sidangahok smg sipenista agama ateknya matinya wajar jasadnya dtrma tanah mrs sorga aamiin semoga tuhan setuju</td>\n",
              "      <td>0</td>\n",
              "      <td>False</td>\n",
              "    </tr>\n",
              "    <tr>\n",
              "      <th>651</th>\n",
              "      <td>1</td>\n",
              "      <td>indonesia yang dibully org yang yang salah binatang nomor dibiarin berkeliaran matanajwadebatjakarta an</td>\n",
              "      <td>0</td>\n",
              "      <td>False</td>\n",
              "    </tr>\n",
              "    <tr>\n",
              "      <th>636</th>\n",
              "      <td>1</td>\n",
              "      <td>matanajwadebatjakarta anies suka nyinyir suka memutar fakta ga program yang bisanya jelekkan kinerja basuki</td>\n",
              "      <td>0</td>\n",
              "      <td>False</td>\n",
              "    </tr>\n",
              "    <tr>\n",
              "      <th>690</th>\n",
              "      <td>1</td>\n",
              "      <td>yang otak ahok djarot tumpul loyo stress jebol dicopot diganti</td>\n",
              "      <td>0</td>\n",
              "      <td>False</td>\n",
              "    </tr>\n",
              "    <tr>\n",
              "      <th>668</th>\n",
              "      <td>1</td>\n",
              "      <td>iklanahokjahat ada direzim jokopret setan iblis dajjal dibangkitkan dari kuburnya gembira berpesta pora dibelenggu</td>\n",
              "      <td>0</td>\n",
              "      <td>False</td>\n",
              "    </tr>\n",
              "    <tr>\n",
              "      <th>535</th>\n",
              "      <td>1</td>\n",
              "      <td>anjing kali lihat orang bego debat pemilihan kepala daerah kerjanya serang karakter shame on you mpok silvy and agus debatfinalpilkadajkt</td>\n",
              "      <td>0</td>\n",
              "      <td>False</td>\n",
              "    </tr>\n",
              "  </tbody>\n",
              "</table>\n",
              "</div>"
            ],
            "text/plain": [
              "     Label  ... true_prediction\n",
              "536  1      ...  False         \n",
              "468  1      ...  False         \n",
              "512  1      ...  False         \n",
              "48   0      ...  False         \n",
              "531  1      ...  False         \n",
              "514  1      ...  False         \n",
              "10   0      ...  False         \n",
              "628  1      ...  False         \n",
              "627  1      ...  False         \n",
              "533  1      ...  False         \n",
              "684  1      ...  False         \n",
              "465  1      ...  False         \n",
              "671  1      ...  False         \n",
              "464  1      ...  False         \n",
              "594  1      ...  False         \n",
              "167  0      ...  False         \n",
              "587  1      ...  False         \n",
              "689  1      ...  False         \n",
              "652  1      ...  False         \n",
              "651  1      ...  False         \n",
              "636  1      ...  False         \n",
              "690  1      ...  False         \n",
              "668  1      ...  False         \n",
              "535  1      ...  False         \n",
              "\n",
              "[24 rows x 4 columns]"
            ]
          },
          "metadata": {
            "tags": []
          }
        }
      ]
    },
    {
      "cell_type": "markdown",
      "metadata": {
        "id": "o8pPaTCn6u77"
      },
      "source": [
        "#Analyze"
      ]
    },
    {
      "cell_type": "markdown",
      "metadata": {
        "id": "EZypJjdE6fYk"
      },
      "source": [
        "#### Common Word"
      ]
    },
    {
      "cell_type": "code",
      "metadata": {
        "id": "MGvIovMz6z40"
      },
      "source": [
        "df_result = df_pred.copy()"
      ],
      "execution_count": 42,
      "outputs": []
    },
    {
      "cell_type": "code",
      "metadata": {
        "id": "OByAl0dJ1Tfm"
      },
      "source": [
        "df_result['temp_list'] = df_result['Tweet'].apply(lambda x:str(x).split())"
      ],
      "execution_count": 43,
      "outputs": []
    },
    {
      "cell_type": "code",
      "metadata": {
        "id": "KuzVsFE77BAs"
      },
      "source": [
        "HS_sent = df_result[df_result['Label']== 1]\n",
        "NON_HS_sent = df_result[df_result['Label']== 0]"
      ],
      "execution_count": 44,
      "outputs": []
    },
    {
      "cell_type": "code",
      "metadata": {
        "colab": {
          "base_uri": "https://localhost:8080/",
          "height": 460
        },
        "id": "HLDTPdA5zIb3",
        "outputId": "14514c69-2eff-4740-b454-f1120a19d054"
      },
      "source": [
        "from collections import Counter\n",
        "\n",
        "#MosT common hatespeech words\n",
        "top = Counter([item for sublist in HS_sent['temp_list'] for item in sublist])\n",
        "temp_positive = pd.DataFrame(top.most_common(20))\n",
        "temp_positive.columns = ['Common_words','count']\n",
        "temp_positive.style.background_gradient(cmap='Greens')"
      ],
      "execution_count": 46,
      "outputs": [
        {
          "output_type": "execute_result",
          "data": {
            "text/html": [
              "<style  type=\"text/css\" >\n",
              "#T_68526ea2_2fa4_11eb_bd86_0242ac1c0002row0_col1{\n",
              "            background-color:  #00441b;\n",
              "            color:  #f1f1f1;\n",
              "        }#T_68526ea2_2fa4_11eb_bd86_0242ac1c0002row1_col1{\n",
              "            background-color:  #0b7734;\n",
              "            color:  #f1f1f1;\n",
              "        }#T_68526ea2_2fa4_11eb_bd86_0242ac1c0002row2_col1{\n",
              "            background-color:  #52b365;\n",
              "            color:  #000000;\n",
              "        }#T_68526ea2_2fa4_11eb_bd86_0242ac1c0002row3_col1{\n",
              "            background-color:  #83cb82;\n",
              "            color:  #000000;\n",
              "        }#T_68526ea2_2fa4_11eb_bd86_0242ac1c0002row4_col1{\n",
              "            background-color:  #bbe4b4;\n",
              "            color:  #000000;\n",
              "        }#T_68526ea2_2fa4_11eb_bd86_0242ac1c0002row5_col1{\n",
              "            background-color:  #c7e9c0;\n",
              "            color:  #000000;\n",
              "        }#T_68526ea2_2fa4_11eb_bd86_0242ac1c0002row6_col1{\n",
              "            background-color:  #d1edcb;\n",
              "            color:  #000000;\n",
              "        }#T_68526ea2_2fa4_11eb_bd86_0242ac1c0002row7_col1,#T_68526ea2_2fa4_11eb_bd86_0242ac1c0002row8_col1,#T_68526ea2_2fa4_11eb_bd86_0242ac1c0002row9_col1,#T_68526ea2_2fa4_11eb_bd86_0242ac1c0002row10_col1,#T_68526ea2_2fa4_11eb_bd86_0242ac1c0002row11_col1{\n",
              "            background-color:  #f1faee;\n",
              "            color:  #000000;\n",
              "        }#T_68526ea2_2fa4_11eb_bd86_0242ac1c0002row12_col1,#T_68526ea2_2fa4_11eb_bd86_0242ac1c0002row13_col1,#T_68526ea2_2fa4_11eb_bd86_0242ac1c0002row14_col1,#T_68526ea2_2fa4_11eb_bd86_0242ac1c0002row15_col1,#T_68526ea2_2fa4_11eb_bd86_0242ac1c0002row16_col1,#T_68526ea2_2fa4_11eb_bd86_0242ac1c0002row17_col1,#T_68526ea2_2fa4_11eb_bd86_0242ac1c0002row18_col1,#T_68526ea2_2fa4_11eb_bd86_0242ac1c0002row19_col1{\n",
              "            background-color:  #f7fcf5;\n",
              "            color:  #000000;\n",
              "        }</style><table id=\"T_68526ea2_2fa4_11eb_bd86_0242ac1c0002\" ><thead>    <tr>        <th class=\"blank level0\" ></th>        <th class=\"col_heading level0 col0\" >Common_words</th>        <th class=\"col_heading level0 col1\" >count</th>    </tr></thead><tbody>\n",
              "                <tr>\n",
              "                        <th id=\"T_68526ea2_2fa4_11eb_bd86_0242ac1c0002level0_row0\" class=\"row_heading level0 row0\" >0</th>\n",
              "                        <td id=\"T_68526ea2_2fa4_11eb_bd86_0242ac1c0002row0_col0\" class=\"data row0 col0\" >ahok</td>\n",
              "                        <td id=\"T_68526ea2_2fa4_11eb_bd86_0242ac1c0002row0_col1\" class=\"data row0 col1\" >29</td>\n",
              "            </tr>\n",
              "            <tr>\n",
              "                        <th id=\"T_68526ea2_2fa4_11eb_bd86_0242ac1c0002level0_row1\" class=\"row_heading level0 row1\" >1</th>\n",
              "                        <td id=\"T_68526ea2_2fa4_11eb_bd86_0242ac1c0002row1_col0\" class=\"data row1 col0\" >yang</td>\n",
              "                        <td id=\"T_68526ea2_2fa4_11eb_bd86_0242ac1c0002row1_col1\" class=\"data row1 col1\" >25</td>\n",
              "            </tr>\n",
              "            <tr>\n",
              "                        <th id=\"T_68526ea2_2fa4_11eb_bd86_0242ac1c0002level0_row2\" class=\"row_heading level0 row2\" >2</th>\n",
              "                        <td id=\"T_68526ea2_2fa4_11eb_bd86_0242ac1c0002row2_col0\" class=\"data row2 col0\" >agama</td>\n",
              "                        <td id=\"T_68526ea2_2fa4_11eb_bd86_0242ac1c0002row2_col1\" class=\"data row2 col1\" >19</td>\n",
              "            </tr>\n",
              "            <tr>\n",
              "                        <th id=\"T_68526ea2_2fa4_11eb_bd86_0242ac1c0002level0_row3\" class=\"row_heading level0 row3\" >3</th>\n",
              "                        <td id=\"T_68526ea2_2fa4_11eb_bd86_0242ac1c0002row3_col0\" class=\"data row3 col0\" >penista</td>\n",
              "                        <td id=\"T_68526ea2_2fa4_11eb_bd86_0242ac1c0002row3_col1\" class=\"data row3 col1\" >16</td>\n",
              "            </tr>\n",
              "            <tr>\n",
              "                        <th id=\"T_68526ea2_2fa4_11eb_bd86_0242ac1c0002level0_row4\" class=\"row_heading level0 row4\" >4</th>\n",
              "                        <td id=\"T_68526ea2_2fa4_11eb_bd86_0242ac1c0002row4_col0\" class=\"data row4 col0\" >si</td>\n",
              "                        <td id=\"T_68526ea2_2fa4_11eb_bd86_0242ac1c0002row4_col1\" class=\"data row4 col1\" >12</td>\n",
              "            </tr>\n",
              "            <tr>\n",
              "                        <th id=\"T_68526ea2_2fa4_11eb_bd86_0242ac1c0002level0_row5\" class=\"row_heading level0 row5\" >5</th>\n",
              "                        <td id=\"T_68526ea2_2fa4_11eb_bd86_0242ac1c0002row5_col0\" class=\"data row5 col0\" >babi</td>\n",
              "                        <td id=\"T_68526ea2_2fa4_11eb_bd86_0242ac1c0002row5_col1\" class=\"data row5 col1\" >11</td>\n",
              "            </tr>\n",
              "            <tr>\n",
              "                        <th id=\"T_68526ea2_2fa4_11eb_bd86_0242ac1c0002level0_row6\" class=\"row_heading level0 row6\" >6</th>\n",
              "                        <td id=\"T_68526ea2_2fa4_11eb_bd86_0242ac1c0002row6_col0\" class=\"data row6 col0\" >islam</td>\n",
              "                        <td id=\"T_68526ea2_2fa4_11eb_bd86_0242ac1c0002row6_col1\" class=\"data row6 col1\" >10</td>\n",
              "            </tr>\n",
              "            <tr>\n",
              "                        <th id=\"T_68526ea2_2fa4_11eb_bd86_0242ac1c0002level0_row7\" class=\"row_heading level0 row7\" >7</th>\n",
              "                        <td id=\"T_68526ea2_2fa4_11eb_bd86_0242ac1c0002row7_col0\" class=\"data row7 col0\" >tuh</td>\n",
              "                        <td id=\"T_68526ea2_2fa4_11eb_bd86_0242ac1c0002row7_col1\" class=\"data row7 col1\" >6</td>\n",
              "            </tr>\n",
              "            <tr>\n",
              "                        <th id=\"T_68526ea2_2fa4_11eb_bd86_0242ac1c0002level0_row8\" class=\"row_heading level0 row8\" >8</th>\n",
              "                        <td id=\"T_68526ea2_2fa4_11eb_bd86_0242ac1c0002row8_col0\" class=\"data row8 col0\" >apa</td>\n",
              "                        <td id=\"T_68526ea2_2fa4_11eb_bd86_0242ac1c0002row8_col1\" class=\"data row8 col1\" >6</td>\n",
              "            </tr>\n",
              "            <tr>\n",
              "                        <th id=\"T_68526ea2_2fa4_11eb_bd86_0242ac1c0002level0_row9\" class=\"row_heading level0 row9\" >9</th>\n",
              "                        <td id=\"T_68526ea2_2fa4_11eb_bd86_0242ac1c0002row9_col0\" class=\"data row9 col0\" >cina</td>\n",
              "                        <td id=\"T_68526ea2_2fa4_11eb_bd86_0242ac1c0002row9_col1\" class=\"data row9 col1\" >6</td>\n",
              "            </tr>\n",
              "            <tr>\n",
              "                        <th id=\"T_68526ea2_2fa4_11eb_bd86_0242ac1c0002level0_row10\" class=\"row_heading level0 row10\" >10</th>\n",
              "                        <td id=\"T_68526ea2_2fa4_11eb_bd86_0242ac1c0002row10_col0\" class=\"data row10 col0\" >kafir</td>\n",
              "                        <td id=\"T_68526ea2_2fa4_11eb_bd86_0242ac1c0002row10_col1\" class=\"data row10 col1\" >6</td>\n",
              "            </tr>\n",
              "            <tr>\n",
              "                        <th id=\"T_68526ea2_2fa4_11eb_bd86_0242ac1c0002level0_row11\" class=\"row_heading level0 row11\" >11</th>\n",
              "                        <td id=\"T_68526ea2_2fa4_11eb_bd86_0242ac1c0002row11_col0\" class=\"data row11 col0\" >ada</td>\n",
              "                        <td id=\"T_68526ea2_2fa4_11eb_bd86_0242ac1c0002row11_col1\" class=\"data row11 col1\" >6</td>\n",
              "            </tr>\n",
              "            <tr>\n",
              "                        <th id=\"T_68526ea2_2fa4_11eb_bd86_0242ac1c0002level0_row12\" class=\"row_heading level0 row12\" >12</th>\n",
              "                        <td id=\"T_68526ea2_2fa4_11eb_bd86_0242ac1c0002row12_col0\" class=\"data row12 col0\" >iya</td>\n",
              "                        <td id=\"T_68526ea2_2fa4_11eb_bd86_0242ac1c0002row12_col1\" class=\"data row12 col1\" >5</td>\n",
              "            </tr>\n",
              "            <tr>\n",
              "                        <th id=\"T_68526ea2_2fa4_11eb_bd86_0242ac1c0002level0_row13\" class=\"row_heading level0 row13\" >13</th>\n",
              "                        <td id=\"T_68526ea2_2fa4_11eb_bd86_0242ac1c0002row13_col0\" class=\"data row13 col0\" >https</td>\n",
              "                        <td id=\"T_68526ea2_2fa4_11eb_bd86_0242ac1c0002row13_col1\" class=\"data row13 col1\" >5</td>\n",
              "            </tr>\n",
              "            <tr>\n",
              "                        <th id=\"T_68526ea2_2fa4_11eb_bd86_0242ac1c0002level0_row14\" class=\"row_heading level0 row14\" >14</th>\n",
              "                        <td id=\"T_68526ea2_2fa4_11eb_bd86_0242ac1c0002row14_col0\" class=\"data row14 col0\" >t</td>\n",
              "                        <td id=\"T_68526ea2_2fa4_11eb_bd86_0242ac1c0002row14_col1\" class=\"data row14 col1\" >5</td>\n",
              "            </tr>\n",
              "            <tr>\n",
              "                        <th id=\"T_68526ea2_2fa4_11eb_bd86_0242ac1c0002level0_row15\" class=\"row_heading level0 row15\" >15</th>\n",
              "                        <td id=\"T_68526ea2_2fa4_11eb_bd86_0242ac1c0002row15_col0\" class=\"data row15 col0\" >co</td>\n",
              "                        <td id=\"T_68526ea2_2fa4_11eb_bd86_0242ac1c0002row15_col1\" class=\"data row15 col1\" >5</td>\n",
              "            </tr>\n",
              "            <tr>\n",
              "                        <th id=\"T_68526ea2_2fa4_11eb_bd86_0242ac1c0002level0_row16\" class=\"row_heading level0 row16\" >16</th>\n",
              "                        <td id=\"T_68526ea2_2fa4_11eb_bd86_0242ac1c0002row16_col0\" class=\"data row16 col0\" >umat</td>\n",
              "                        <td id=\"T_68526ea2_2fa4_11eb_bd86_0242ac1c0002row16_col1\" class=\"data row16 col1\" >5</td>\n",
              "            </tr>\n",
              "            <tr>\n",
              "                        <th id=\"T_68526ea2_2fa4_11eb_bd86_0242ac1c0002level0_row17\" class=\"row_heading level0 row17\" >17</th>\n",
              "                        <td id=\"T_68526ea2_2fa4_11eb_bd86_0242ac1c0002row17_col0\" class=\"data row17 col0\" >iklanahokjahat</td>\n",
              "                        <td id=\"T_68526ea2_2fa4_11eb_bd86_0242ac1c0002row17_col1\" class=\"data row17 col1\" >5</td>\n",
              "            </tr>\n",
              "            <tr>\n",
              "                        <th id=\"T_68526ea2_2fa4_11eb_bd86_0242ac1c0002level0_row18\" class=\"row_heading level0 row18\" >18</th>\n",
              "                        <td id=\"T_68526ea2_2fa4_11eb_bd86_0242ac1c0002row18_col0\" class=\"data row18 col0\" >debatfinalpilkadajkt</td>\n",
              "                        <td id=\"T_68526ea2_2fa4_11eb_bd86_0242ac1c0002row18_col1\" class=\"data row18 col1\" >5</td>\n",
              "            </tr>\n",
              "            <tr>\n",
              "                        <th id=\"T_68526ea2_2fa4_11eb_bd86_0242ac1c0002level0_row19\" class=\"row_heading level0 row19\" >19</th>\n",
              "                        <td id=\"T_68526ea2_2fa4_11eb_bd86_0242ac1c0002row19_col0\" class=\"data row19 col0\" >orang</td>\n",
              "                        <td id=\"T_68526ea2_2fa4_11eb_bd86_0242ac1c0002row19_col1\" class=\"data row19 col1\" >5</td>\n",
              "            </tr>\n",
              "    </tbody></table>"
            ],
            "text/plain": [
              "<pandas.io.formats.style.Styler at 0x7f52f37dd828>"
            ]
          },
          "metadata": {
            "tags": []
          },
          "execution_count": 46
        }
      ]
    },
    {
      "cell_type": "code",
      "metadata": {
        "colab": {
          "base_uri": "https://localhost:8080/",
          "height": 439
        },
        "id": "dMNR4qtO1633",
        "outputId": "398fdb37-846d-48f5-aff8-1b89b13def8c"
      },
      "source": [
        "#MosT common non HS words\n",
        "top = Counter([item for sublist in NON_HS_sent['temp_list'] for item in sublist])\n",
        "temp_negative = pd.DataFrame(top.most_common(20))\n",
        "temp_negative = temp_negative.iloc[1:,:]\n",
        "temp_negative.columns = ['Common_words','count']\n",
        "temp_negative.style.background_gradient(cmap='Reds')"
      ],
      "execution_count": 47,
      "outputs": [
        {
          "output_type": "execute_result",
          "data": {
            "text/html": [
              "<style  type=\"text/css\" >\n",
              "#T_807d3c78_2fa4_11eb_bd86_0242ac1c0002row0_col1{\n",
              "            background-color:  #67000d;\n",
              "            color:  #f1f1f1;\n",
              "        }#T_807d3c78_2fa4_11eb_bd86_0242ac1c0002row1_col1,#T_807d3c78_2fa4_11eb_bd86_0242ac1c0002row2_col1{\n",
              "            background-color:  #fb694a;\n",
              "            color:  #000000;\n",
              "        }#T_807d3c78_2fa4_11eb_bd86_0242ac1c0002row3_col1,#T_807d3c78_2fa4_11eb_bd86_0242ac1c0002row4_col1,#T_807d3c78_2fa4_11eb_bd86_0242ac1c0002row5_col1,#T_807d3c78_2fa4_11eb_bd86_0242ac1c0002row6_col1,#T_807d3c78_2fa4_11eb_bd86_0242ac1c0002row7_col1{\n",
              "            background-color:  #fcbba1;\n",
              "            color:  #000000;\n",
              "        }#T_807d3c78_2fa4_11eb_bd86_0242ac1c0002row8_col1{\n",
              "            background-color:  #fdcab5;\n",
              "            color:  #000000;\n",
              "        }#T_807d3c78_2fa4_11eb_bd86_0242ac1c0002row9_col1,#T_807d3c78_2fa4_11eb_bd86_0242ac1c0002row10_col1{\n",
              "            background-color:  #fed9c9;\n",
              "            color:  #000000;\n",
              "        }#T_807d3c78_2fa4_11eb_bd86_0242ac1c0002row11_col1{\n",
              "            background-color:  #fee5d8;\n",
              "            color:  #000000;\n",
              "        }#T_807d3c78_2fa4_11eb_bd86_0242ac1c0002row12_col1,#T_807d3c78_2fa4_11eb_bd86_0242ac1c0002row13_col1,#T_807d3c78_2fa4_11eb_bd86_0242ac1c0002row14_col1{\n",
              "            background-color:  #ffede5;\n",
              "            color:  #000000;\n",
              "        }#T_807d3c78_2fa4_11eb_bd86_0242ac1c0002row15_col1,#T_807d3c78_2fa4_11eb_bd86_0242ac1c0002row16_col1,#T_807d3c78_2fa4_11eb_bd86_0242ac1c0002row17_col1,#T_807d3c78_2fa4_11eb_bd86_0242ac1c0002row18_col1{\n",
              "            background-color:  #fff5f0;\n",
              "            color:  #000000;\n",
              "        }</style><table id=\"T_807d3c78_2fa4_11eb_bd86_0242ac1c0002\" ><thead>    <tr>        <th class=\"blank level0\" ></th>        <th class=\"col_heading level0 col0\" >Common_words</th>        <th class=\"col_heading level0 col1\" >count</th>    </tr></thead><tbody>\n",
              "                <tr>\n",
              "                        <th id=\"T_807d3c78_2fa4_11eb_bd86_0242ac1c0002level0_row0\" class=\"row_heading level0 row0\" >1</th>\n",
              "                        <td id=\"T_807d3c78_2fa4_11eb_bd86_0242ac1c0002row0_col0\" class=\"data row0 col0\" >ahok</td>\n",
              "                        <td id=\"T_807d3c78_2fa4_11eb_bd86_0242ac1c0002row0_col1\" class=\"data row0 col1\" >26</td>\n",
              "            </tr>\n",
              "            <tr>\n",
              "                        <th id=\"T_807d3c78_2fa4_11eb_bd86_0242ac1c0002level0_row1\" class=\"row_heading level0 row1\" >2</th>\n",
              "                        <td id=\"T_807d3c78_2fa4_11eb_bd86_0242ac1c0002row1_col0\" class=\"data row1 col0\" >di</td>\n",
              "                        <td id=\"T_807d3c78_2fa4_11eb_bd86_0242ac1c0002row1_col1\" class=\"data row1 col1\" >16</td>\n",
              "            </tr>\n",
              "            <tr>\n",
              "                        <th id=\"T_807d3c78_2fa4_11eb_bd86_0242ac1c0002level0_row2\" class=\"row_heading level0 row2\" >3</th>\n",
              "                        <td id=\"T_807d3c78_2fa4_11eb_bd86_0242ac1c0002row2_col0\" class=\"data row2 col0\" >debatfinalpilkadajkt</td>\n",
              "                        <td id=\"T_807d3c78_2fa4_11eb_bd86_0242ac1c0002row2_col1\" class=\"data row2 col1\" >16</td>\n",
              "            </tr>\n",
              "            <tr>\n",
              "                        <th id=\"T_807d3c78_2fa4_11eb_bd86_0242ac1c0002level0_row3\" class=\"row_heading level0 row3\" >4</th>\n",
              "                        <td id=\"T_807d3c78_2fa4_11eb_bd86_0242ac1c0002row3_col0\" class=\"data row3 col0\" >pemilihan</td>\n",
              "                        <td id=\"T_807d3c78_2fa4_11eb_bd86_0242ac1c0002row3_col1\" class=\"data row3 col1\" >11</td>\n",
              "            </tr>\n",
              "            <tr>\n",
              "                        <th id=\"T_807d3c78_2fa4_11eb_bd86_0242ac1c0002level0_row4\" class=\"row_heading level0 row4\" >5</th>\n",
              "                        <td id=\"T_807d3c78_2fa4_11eb_bd86_0242ac1c0002row4_col0\" class=\"data row4 col0\" >kepala</td>\n",
              "                        <td id=\"T_807d3c78_2fa4_11eb_bd86_0242ac1c0002row4_col1\" class=\"data row4 col1\" >11</td>\n",
              "            </tr>\n",
              "            <tr>\n",
              "                        <th id=\"T_807d3c78_2fa4_11eb_bd86_0242ac1c0002level0_row5\" class=\"row_heading level0 row5\" >6</th>\n",
              "                        <td id=\"T_807d3c78_2fa4_11eb_bd86_0242ac1c0002row5_col0\" class=\"data row5 col0\" >daerah</td>\n",
              "                        <td id=\"T_807d3c78_2fa4_11eb_bd86_0242ac1c0002row5_col1\" class=\"data row5 col1\" >11</td>\n",
              "            </tr>\n",
              "            <tr>\n",
              "                        <th id=\"T_807d3c78_2fa4_11eb_bd86_0242ac1c0002level0_row6\" class=\"row_heading level0 row6\" >7</th>\n",
              "                        <td id=\"T_807d3c78_2fa4_11eb_bd86_0242ac1c0002row6_col0\" class=\"data row6 col0\" >debat</td>\n",
              "                        <td id=\"T_807d3c78_2fa4_11eb_bd86_0242ac1c0002row6_col1\" class=\"data row6 col1\" >11</td>\n",
              "            </tr>\n",
              "            <tr>\n",
              "                        <th id=\"T_807d3c78_2fa4_11eb_bd86_0242ac1c0002level0_row7\" class=\"row_heading level0 row7\" >8</th>\n",
              "                        <td id=\"T_807d3c78_2fa4_11eb_bd86_0242ac1c0002row7_col0\" class=\"data row7 col0\" >jakarta</td>\n",
              "                        <td id=\"T_807d3c78_2fa4_11eb_bd86_0242ac1c0002row7_col1\" class=\"data row7 col1\" >11</td>\n",
              "            </tr>\n",
              "            <tr>\n",
              "                        <th id=\"T_807d3c78_2fa4_11eb_bd86_0242ac1c0002level0_row8\" class=\"row_heading level0 row8\" >9</th>\n",
              "                        <td id=\"T_807d3c78_2fa4_11eb_bd86_0242ac1c0002row8_col0\" class=\"data row8 col0\" >matanajwadebatjakarta</td>\n",
              "                        <td id=\"T_807d3c78_2fa4_11eb_bd86_0242ac1c0002row8_col1\" class=\"data row8 col1\" >10</td>\n",
              "            </tr>\n",
              "            <tr>\n",
              "                        <th id=\"T_807d3c78_2fa4_11eb_bd86_0242ac1c0002level0_row9\" class=\"row_heading level0 row9\" >10</th>\n",
              "                        <td id=\"T_807d3c78_2fa4_11eb_bd86_0242ac1c0002row9_col0\" class=\"data row9 col0\" >iya</td>\n",
              "                        <td id=\"T_807d3c78_2fa4_11eb_bd86_0242ac1c0002row9_col1\" class=\"data row9 col1\" >9</td>\n",
              "            </tr>\n",
              "            <tr>\n",
              "                        <th id=\"T_807d3c78_2fa4_11eb_bd86_0242ac1c0002level0_row10\" class=\"row_heading level0 row10\" >11</th>\n",
              "                        <td id=\"T_807d3c78_2fa4_11eb_bd86_0242ac1c0002row10_col0\" class=\"data row10 col0\" >anies</td>\n",
              "                        <td id=\"T_807d3c78_2fa4_11eb_bd86_0242ac1c0002row10_col1\" class=\"data row10 col1\" >9</td>\n",
              "            </tr>\n",
              "            <tr>\n",
              "                        <th id=\"T_807d3c78_2fa4_11eb_bd86_0242ac1c0002level0_row11\" class=\"row_heading level0 row11\" >12</th>\n",
              "                        <td id=\"T_807d3c78_2fa4_11eb_bd86_0242ac1c0002row11_col0\" class=\"data row11 col0\" >paslon</td>\n",
              "                        <td id=\"T_807d3c78_2fa4_11eb_bd86_0242ac1c0002row11_col1\" class=\"data row11 col1\" >8</td>\n",
              "            </tr>\n",
              "            <tr>\n",
              "                        <th id=\"T_807d3c78_2fa4_11eb_bd86_0242ac1c0002level0_row12\" class=\"row_heading level0 row12\" >13</th>\n",
              "                        <td id=\"T_807d3c78_2fa4_11eb_bd86_0242ac1c0002row12_col0\" class=\"data row12 col0\" >https</td>\n",
              "                        <td id=\"T_807d3c78_2fa4_11eb_bd86_0242ac1c0002row12_col1\" class=\"data row12 col1\" >7</td>\n",
              "            </tr>\n",
              "            <tr>\n",
              "                        <th id=\"T_807d3c78_2fa4_11eb_bd86_0242ac1c0002level0_row13\" class=\"row_heading level0 row13\" >14</th>\n",
              "                        <td id=\"T_807d3c78_2fa4_11eb_bd86_0242ac1c0002row13_col0\" class=\"data row13 col0\" >t</td>\n",
              "                        <td id=\"T_807d3c78_2fa4_11eb_bd86_0242ac1c0002row13_col1\" class=\"data row13 col1\" >7</td>\n",
              "            </tr>\n",
              "            <tr>\n",
              "                        <th id=\"T_807d3c78_2fa4_11eb_bd86_0242ac1c0002level0_row14\" class=\"row_heading level0 row14\" >15</th>\n",
              "                        <td id=\"T_807d3c78_2fa4_11eb_bd86_0242ac1c0002row14_col0\" class=\"data row14 col0\" >co</td>\n",
              "                        <td id=\"T_807d3c78_2fa4_11eb_bd86_0242ac1c0002row14_col1\" class=\"data row14 col1\" >7</td>\n",
              "            </tr>\n",
              "            <tr>\n",
              "                        <th id=\"T_807d3c78_2fa4_11eb_bd86_0242ac1c0002level0_row15\" class=\"row_heading level0 row15\" >16</th>\n",
              "                        <td id=\"T_807d3c78_2fa4_11eb_bd86_0242ac1c0002row15_col0\" class=\"data row15 col0\" >apa</td>\n",
              "                        <td id=\"T_807d3c78_2fa4_11eb_bd86_0242ac1c0002row15_col1\" class=\"data row15 col1\" >6</td>\n",
              "            </tr>\n",
              "            <tr>\n",
              "                        <th id=\"T_807d3c78_2fa4_11eb_bd86_0242ac1c0002level0_row16\" class=\"row_heading level0 row16\" >17</th>\n",
              "                        <td id=\"T_807d3c78_2fa4_11eb_bd86_0242ac1c0002row16_col0\" class=\"data row16 col0\" >malam</td>\n",
              "                        <td id=\"T_807d3c78_2fa4_11eb_bd86_0242ac1c0002row16_col1\" class=\"data row16 col1\" >6</td>\n",
              "            </tr>\n",
              "            <tr>\n",
              "                        <th id=\"T_807d3c78_2fa4_11eb_bd86_0242ac1c0002level0_row17\" class=\"row_heading level0 row17\" >18</th>\n",
              "                        <td id=\"T_807d3c78_2fa4_11eb_bd86_0242ac1c0002row17_col0\" class=\"data row17 col0\" >menang</td>\n",
              "                        <td id=\"T_807d3c78_2fa4_11eb_bd86_0242ac1c0002row17_col1\" class=\"data row17 col1\" >6</td>\n",
              "            </tr>\n",
              "            <tr>\n",
              "                        <th id=\"T_807d3c78_2fa4_11eb_bd86_0242ac1c0002level0_row18\" class=\"row_heading level0 row18\" >19</th>\n",
              "                        <td id=\"T_807d3c78_2fa4_11eb_bd86_0242ac1c0002row18_col0\" class=\"data row18 col0\" >ada</td>\n",
              "                        <td id=\"T_807d3c78_2fa4_11eb_bd86_0242ac1c0002row18_col1\" class=\"data row18 col1\" >6</td>\n",
              "            </tr>\n",
              "    </tbody></table>"
            ],
            "text/plain": [
              "<pandas.io.formats.style.Styler at 0x7f52f378b358>"
            ]
          },
          "metadata": {
            "tags": []
          },
          "execution_count": 47
        }
      ]
    },
    {
      "cell_type": "code",
      "metadata": {
        "id": "6j-UgHFQ7hsq"
      },
      "source": [
        ""
      ],
      "execution_count": null,
      "outputs": []
    },
    {
      "cell_type": "markdown",
      "metadata": {
        "id": "wPzydrmn6cbH"
      },
      "source": [
        "#### Unique Word"
      ]
    },
    {
      "cell_type": "code",
      "metadata": {
        "id": "KMPid5Sk2Mq-"
      },
      "source": [
        "raw_text = [word for word_list in df_result['temp_list'] for word in word_list]"
      ],
      "execution_count": 48,
      "outputs": []
    },
    {
      "cell_type": "code",
      "metadata": {
        "id": "XBSMsf17zLyK"
      },
      "source": [
        "def words_unique(Label,numwords,raw_words):\n",
        "\n",
        "    allother = []\n",
        "    for item in df_result[df_result.Label != Label]['temp_list']:\n",
        "        for word in item:\n",
        "            allother .append(word)\n",
        "    allother  = list(set(allother ))\n",
        "    \n",
        "    specificnonly = [x for x in raw_text if x not in allother]\n",
        "    \n",
        "    mycounter = Counter()\n",
        "    \n",
        "    for item in df_result[df_result.Label == Label]['temp_list']:\n",
        "        for word in item:\n",
        "            mycounter[word] += 1\n",
        "    keep = list(specificnonly)\n",
        "    \n",
        "    for word in list(mycounter):\n",
        "        if word not in keep:\n",
        "            del mycounter[word]\n",
        "    \n",
        "    Unique_words = pd.DataFrame(mycounter.most_common(numwords), columns = ['words','count'])\n",
        "    \n",
        "    return Unique_words"
      ],
      "execution_count": 50,
      "outputs": []
    },
    {
      "cell_type": "code",
      "metadata": {
        "colab": {
          "base_uri": "https://localhost:8080/",
          "height": 477
        },
        "id": "S-87YVNM2Xbs",
        "outputId": "346e8979-5ca2-4496-c7db-f286adee3b85"
      },
      "source": [
        "Unique_Positive= words_unique(1, 20, raw_text)\n",
        "print(\"The top 20 unique words in Hatespeech Tweets are:\")\n",
        "Unique_Positive.style.background_gradient(cmap='Greens')"
      ],
      "execution_count": 51,
      "outputs": [
        {
          "output_type": "stream",
          "text": [
            "The top 20 unique words in Hatespeech Tweets are:\n"
          ],
          "name": "stdout"
        },
        {
          "output_type": "execute_result",
          "data": {
            "text/html": [
              "<style  type=\"text/css\" >\n",
              "#T_b9348030_2fa4_11eb_bd86_0242ac1c0002row0_col1{\n",
              "            background-color:  #00441b;\n",
              "            color:  #f1f1f1;\n",
              "        }#T_b9348030_2fa4_11eb_bd86_0242ac1c0002row1_col1{\n",
              "            background-color:  #006428;\n",
              "            color:  #f1f1f1;\n",
              "        }#T_b9348030_2fa4_11eb_bd86_0242ac1c0002row2_col1{\n",
              "            background-color:  #157f3b;\n",
              "            color:  #f1f1f1;\n",
              "        }#T_b9348030_2fa4_11eb_bd86_0242ac1c0002row3_col1,#T_b9348030_2fa4_11eb_bd86_0242ac1c0002row4_col1{\n",
              "            background-color:  #98d594;\n",
              "            color:  #000000;\n",
              "        }#T_b9348030_2fa4_11eb_bd86_0242ac1c0002row5_col1,#T_b9348030_2fa4_11eb_bd86_0242ac1c0002row6_col1{\n",
              "            background-color:  #d3eecd;\n",
              "            color:  #000000;\n",
              "        }#T_b9348030_2fa4_11eb_bd86_0242ac1c0002row7_col1,#T_b9348030_2fa4_11eb_bd86_0242ac1c0002row8_col1,#T_b9348030_2fa4_11eb_bd86_0242ac1c0002row9_col1{\n",
              "            background-color:  #e9f7e5;\n",
              "            color:  #000000;\n",
              "        }#T_b9348030_2fa4_11eb_bd86_0242ac1c0002row10_col1,#T_b9348030_2fa4_11eb_bd86_0242ac1c0002row11_col1,#T_b9348030_2fa4_11eb_bd86_0242ac1c0002row12_col1,#T_b9348030_2fa4_11eb_bd86_0242ac1c0002row13_col1,#T_b9348030_2fa4_11eb_bd86_0242ac1c0002row14_col1,#T_b9348030_2fa4_11eb_bd86_0242ac1c0002row15_col1,#T_b9348030_2fa4_11eb_bd86_0242ac1c0002row16_col1,#T_b9348030_2fa4_11eb_bd86_0242ac1c0002row17_col1,#T_b9348030_2fa4_11eb_bd86_0242ac1c0002row18_col1,#T_b9348030_2fa4_11eb_bd86_0242ac1c0002row19_col1{\n",
              "            background-color:  #f7fcf5;\n",
              "            color:  #000000;\n",
              "        }</style><table id=\"T_b9348030_2fa4_11eb_bd86_0242ac1c0002\" ><thead>    <tr>        <th class=\"blank level0\" ></th>        <th class=\"col_heading level0 col0\" >words</th>        <th class=\"col_heading level0 col1\" >count</th>    </tr></thead><tbody>\n",
              "                <tr>\n",
              "                        <th id=\"T_b9348030_2fa4_11eb_bd86_0242ac1c0002level0_row0\" class=\"row_heading level0 row0\" >0</th>\n",
              "                        <td id=\"T_b9348030_2fa4_11eb_bd86_0242ac1c0002row0_col0\" class=\"data row0 col0\" >si</td>\n",
              "                        <td id=\"T_b9348030_2fa4_11eb_bd86_0242ac1c0002row0_col1\" class=\"data row0 col1\" >12</td>\n",
              "            </tr>\n",
              "            <tr>\n",
              "                        <th id=\"T_b9348030_2fa4_11eb_bd86_0242ac1c0002level0_row1\" class=\"row_heading level0 row1\" >1</th>\n",
              "                        <td id=\"T_b9348030_2fa4_11eb_bd86_0242ac1c0002row1_col0\" class=\"data row1 col0\" >babi</td>\n",
              "                        <td id=\"T_b9348030_2fa4_11eb_bd86_0242ac1c0002row1_col1\" class=\"data row1 col1\" >11</td>\n",
              "            </tr>\n",
              "            <tr>\n",
              "                        <th id=\"T_b9348030_2fa4_11eb_bd86_0242ac1c0002level0_row2\" class=\"row_heading level0 row2\" >2</th>\n",
              "                        <td id=\"T_b9348030_2fa4_11eb_bd86_0242ac1c0002row2_col0\" class=\"data row2 col0\" >islam</td>\n",
              "                        <td id=\"T_b9348030_2fa4_11eb_bd86_0242ac1c0002row2_col1\" class=\"data row2 col1\" >10</td>\n",
              "            </tr>\n",
              "            <tr>\n",
              "                        <th id=\"T_b9348030_2fa4_11eb_bd86_0242ac1c0002level0_row3\" class=\"row_heading level0 row3\" >3</th>\n",
              "                        <td id=\"T_b9348030_2fa4_11eb_bd86_0242ac1c0002row3_col0\" class=\"data row3 col0\" >cina</td>\n",
              "                        <td id=\"T_b9348030_2fa4_11eb_bd86_0242ac1c0002row3_col1\" class=\"data row3 col1\" >6</td>\n",
              "            </tr>\n",
              "            <tr>\n",
              "                        <th id=\"T_b9348030_2fa4_11eb_bd86_0242ac1c0002level0_row4\" class=\"row_heading level0 row4\" >4</th>\n",
              "                        <td id=\"T_b9348030_2fa4_11eb_bd86_0242ac1c0002row4_col0\" class=\"data row4 col0\" >kafir</td>\n",
              "                        <td id=\"T_b9348030_2fa4_11eb_bd86_0242ac1c0002row4_col1\" class=\"data row4 col1\" >6</td>\n",
              "            </tr>\n",
              "            <tr>\n",
              "                        <th id=\"T_b9348030_2fa4_11eb_bd86_0242ac1c0002level0_row5\" class=\"row_heading level0 row5\" >5</th>\n",
              "                        <td id=\"T_b9348030_2fa4_11eb_bd86_0242ac1c0002row5_col0\" class=\"data row5 col0\" >bodoh</td>\n",
              "                        <td id=\"T_b9348030_2fa4_11eb_bd86_0242ac1c0002row5_col1\" class=\"data row5 col1\" >4</td>\n",
              "            </tr>\n",
              "            <tr>\n",
              "                        <th id=\"T_b9348030_2fa4_11eb_bd86_0242ac1c0002level0_row6\" class=\"row_heading level0 row6\" >6</th>\n",
              "                        <td id=\"T_b9348030_2fa4_11eb_bd86_0242ac1c0002row6_col0\" class=\"data row6 col0\" >terdakwa</td>\n",
              "                        <td id=\"T_b9348030_2fa4_11eb_bd86_0242ac1c0002row6_col1\" class=\"data row6 col1\" >4</td>\n",
              "            </tr>\n",
              "            <tr>\n",
              "                        <th id=\"T_b9348030_2fa4_11eb_bd86_0242ac1c0002level0_row7\" class=\"row_heading level0 row7\" >7</th>\n",
              "                        <td id=\"T_b9348030_2fa4_11eb_bd86_0242ac1c0002row7_col0\" class=\"data row7 col0\" >kristen</td>\n",
              "                        <td id=\"T_b9348030_2fa4_11eb_bd86_0242ac1c0002row7_col1\" class=\"data row7 col1\" >3</td>\n",
              "            </tr>\n",
              "            <tr>\n",
              "                        <th id=\"T_b9348030_2fa4_11eb_bd86_0242ac1c0002level0_row8\" class=\"row_heading level0 row8\" >8</th>\n",
              "                        <td id=\"T_b9348030_2fa4_11eb_bd86_0242ac1c0002row8_col0\" class=\"data row8 col0\" >banjir</td>\n",
              "                        <td id=\"T_b9348030_2fa4_11eb_bd86_0242ac1c0002row8_col1\" class=\"data row8 col1\" >3</td>\n",
              "            </tr>\n",
              "            <tr>\n",
              "                        <th id=\"T_b9348030_2fa4_11eb_bd86_0242ac1c0002level0_row9\" class=\"row_heading level0 row9\" >9</th>\n",
              "                        <td id=\"T_b9348030_2fa4_11eb_bd86_0242ac1c0002row9_col0\" class=\"data row9 col0\" >ga</td>\n",
              "                        <td id=\"T_b9348030_2fa4_11eb_bd86_0242ac1c0002row9_col1\" class=\"data row9 col1\" >3</td>\n",
              "            </tr>\n",
              "            <tr>\n",
              "                        <th id=\"T_b9348030_2fa4_11eb_bd86_0242ac1c0002level0_row10\" class=\"row_heading level0 row10\" >10</th>\n",
              "                        <td id=\"T_b9348030_2fa4_11eb_bd86_0242ac1c0002row10_col0\" class=\"data row10 col0\" >uang</td>\n",
              "                        <td id=\"T_b9348030_2fa4_11eb_bd86_0242ac1c0002row10_col1\" class=\"data row10 col1\" >2</td>\n",
              "            </tr>\n",
              "            <tr>\n",
              "                        <th id=\"T_b9348030_2fa4_11eb_bd86_0242ac1c0002level0_row11\" class=\"row_heading level0 row11\" >11</th>\n",
              "                        <td id=\"T_b9348030_2fa4_11eb_bd86_0242ac1c0002row11_col0\" class=\"data row11 col0\" >gusur</td>\n",
              "                        <td id=\"T_b9348030_2fa4_11eb_bd86_0242ac1c0002row11_col1\" class=\"data row11 col1\" >2</td>\n",
              "            </tr>\n",
              "            <tr>\n",
              "                        <th id=\"T_b9348030_2fa4_11eb_bd86_0242ac1c0002level0_row12\" class=\"row_heading level0 row12\" >12</th>\n",
              "                        <td id=\"T_b9348030_2fa4_11eb_bd86_0242ac1c0002row12_col0\" class=\"data row12 col0\" >anti</td>\n",
              "                        <td id=\"T_b9348030_2fa4_11eb_bd86_0242ac1c0002row12_col1\" class=\"data row12 col1\" >2</td>\n",
              "            </tr>\n",
              "            <tr>\n",
              "                        <th id=\"T_b9348030_2fa4_11eb_bd86_0242ac1c0002level0_row13\" class=\"row_heading level0 row13\" >13</th>\n",
              "                        <td id=\"T_b9348030_2fa4_11eb_bd86_0242ac1c0002row13_col0\" class=\"data row13 col0\" >hubungannya</td>\n",
              "                        <td id=\"T_b9348030_2fa4_11eb_bd86_0242ac1c0002row13_col1\" class=\"data row13 col1\" >2</td>\n",
              "            </tr>\n",
              "            <tr>\n",
              "                        <th id=\"T_b9348030_2fa4_11eb_bd86_0242ac1c0002level0_row14\" class=\"row_heading level0 row14\" >14</th>\n",
              "                        <td id=\"T_b9348030_2fa4_11eb_bd86_0242ac1c0002row14_col0\" class=\"data row14 col0\" >ateis</td>\n",
              "                        <td id=\"T_b9348030_2fa4_11eb_bd86_0242ac1c0002row14_col1\" class=\"data row14 col1\" >2</td>\n",
              "            </tr>\n",
              "            <tr>\n",
              "                        <th id=\"T_b9348030_2fa4_11eb_bd86_0242ac1c0002level0_row15\" class=\"row_heading level0 row15\" >15</th>\n",
              "                        <td id=\"T_b9348030_2fa4_11eb_bd86_0242ac1c0002row15_col0\" class=\"data row15 col0\" >pribumi</td>\n",
              "                        <td id=\"T_b9348030_2fa4_11eb_bd86_0242ac1c0002row15_col1\" class=\"data row15 col1\" >2</td>\n",
              "            </tr>\n",
              "            <tr>\n",
              "                        <th id=\"T_b9348030_2fa4_11eb_bd86_0242ac1c0002level0_row16\" class=\"row_heading level0 row16\" >16</th>\n",
              "                        <td id=\"T_b9348030_2fa4_11eb_bd86_0242ac1c0002row16_col0\" class=\"data row16 col0\" >tionghoa</td>\n",
              "                        <td id=\"T_b9348030_2fa4_11eb_bd86_0242ac1c0002row16_col1\" class=\"data row16 col1\" >2</td>\n",
              "            </tr>\n",
              "            <tr>\n",
              "                        <th id=\"T_b9348030_2fa4_11eb_bd86_0242ac1c0002level0_row17\" class=\"row_heading level0 row17\" >17</th>\n",
              "                        <td id=\"T_b9348030_2fa4_11eb_bd86_0242ac1c0002row17_col0\" class=\"data row17 col0\" >kaya</td>\n",
              "                        <td id=\"T_b9348030_2fa4_11eb_bd86_0242ac1c0002row17_col1\" class=\"data row17 col1\" >2</td>\n",
              "            </tr>\n",
              "            <tr>\n",
              "                        <th id=\"T_b9348030_2fa4_11eb_bd86_0242ac1c0002level0_row18\" class=\"row_heading level0 row18\" >18</th>\n",
              "                        <td id=\"T_b9348030_2fa4_11eb_bd86_0242ac1c0002row18_col0\" class=\"data row18 col0\" >curang</td>\n",
              "                        <td id=\"T_b9348030_2fa4_11eb_bd86_0242ac1c0002row18_col1\" class=\"data row18 col1\" >2</td>\n",
              "            </tr>\n",
              "            <tr>\n",
              "                        <th id=\"T_b9348030_2fa4_11eb_bd86_0242ac1c0002level0_row19\" class=\"row_heading level0 row19\" >19</th>\n",
              "                        <td id=\"T_b9348030_2fa4_11eb_bd86_0242ac1c0002row19_col0\" class=\"data row19 col0\" >setan</td>\n",
              "                        <td id=\"T_b9348030_2fa4_11eb_bd86_0242ac1c0002row19_col1\" class=\"data row19 col1\" >2</td>\n",
              "            </tr>\n",
              "    </tbody></table>"
            ],
            "text/plain": [
              "<pandas.io.formats.style.Styler at 0x7f52f37a61d0>"
            ]
          },
          "metadata": {
            "tags": []
          },
          "execution_count": 51
        }
      ]
    },
    {
      "cell_type": "code",
      "metadata": {
        "colab": {
          "base_uri": "https://localhost:8080/",
          "height": 267
        },
        "id": "A4mpIOUy2plx",
        "outputId": "82e13e74-b180-44a1-dee3-7930ae2a48d8"
      },
      "source": [
        "Unique_Negative= words_unique(0, 10, raw_text)\n",
        "print(\"The top 10 unique words in Non Hatespeech Tweets are:\")\n",
        "Unique_Negative.style.background_gradient(cmap='Reds')"
      ],
      "execution_count": 54,
      "outputs": [
        {
          "output_type": "stream",
          "text": [
            "The top 10 unique words in Non Hatespeech Tweets are:\n"
          ],
          "name": "stdout"
        },
        {
          "output_type": "execute_result",
          "data": {
            "text/html": [
              "<style  type=\"text/css\" >\n",
              "#T_ff76952e_2fa4_11eb_bd86_0242ac1c0002row0_col1{\n",
              "            background-color:  #67000d;\n",
              "            color:  #f1f1f1;\n",
              "        }#T_ff76952e_2fa4_11eb_bd86_0242ac1c0002row1_col1,#T_ff76952e_2fa4_11eb_bd86_0242ac1c0002row2_col1,#T_ff76952e_2fa4_11eb_bd86_0242ac1c0002row3_col1{\n",
              "            background-color:  #fdcab5;\n",
              "            color:  #000000;\n",
              "        }#T_ff76952e_2fa4_11eb_bd86_0242ac1c0002row4_col1,#T_ff76952e_2fa4_11eb_bd86_0242ac1c0002row5_col1,#T_ff76952e_2fa4_11eb_bd86_0242ac1c0002row6_col1,#T_ff76952e_2fa4_11eb_bd86_0242ac1c0002row7_col1,#T_ff76952e_2fa4_11eb_bd86_0242ac1c0002row8_col1,#T_ff76952e_2fa4_11eb_bd86_0242ac1c0002row9_col1{\n",
              "            background-color:  #fff5f0;\n",
              "            color:  #000000;\n",
              "        }</style><table id=\"T_ff76952e_2fa4_11eb_bd86_0242ac1c0002\" ><thead>    <tr>        <th class=\"blank level0\" ></th>        <th class=\"col_heading level0 col0\" >words</th>        <th class=\"col_heading level0 col1\" >count</th>    </tr></thead><tbody>\n",
              "                <tr>\n",
              "                        <th id=\"T_ff76952e_2fa4_11eb_bd86_0242ac1c0002level0_row0\" class=\"row_heading level0 row0\" >0</th>\n",
              "                        <td id=\"T_ff76952e_2fa4_11eb_bd86_0242ac1c0002row0_col0\" class=\"data row0 col0\" >paslon</td>\n",
              "                        <td id=\"T_ff76952e_2fa4_11eb_bd86_0242ac1c0002row0_col1\" class=\"data row0 col1\" >8</td>\n",
              "            </tr>\n",
              "            <tr>\n",
              "                        <th id=\"T_ff76952e_2fa4_11eb_bd86_0242ac1c0002level0_row1\" class=\"row_heading level0 row1\" >1</th>\n",
              "                        <td id=\"T_ff76952e_2fa4_11eb_bd86_0242ac1c0002row1_col0\" class=\"data row1 col0\" >terbaik</td>\n",
              "                        <td id=\"T_ff76952e_2fa4_11eb_bd86_0242ac1c0002row1_col1\" class=\"data row1 col1\" >4</td>\n",
              "            </tr>\n",
              "            <tr>\n",
              "                        <th id=\"T_ff76952e_2fa4_11eb_bd86_0242ac1c0002level0_row2\" class=\"row_heading level0 row2\" >2</th>\n",
              "                        <td id=\"T_ff76952e_2fa4_11eb_bd86_0242ac1c0002row2_col0\" class=\"data row2 col0\" >rakyat</td>\n",
              "                        <td id=\"T_ff76952e_2fa4_11eb_bd86_0242ac1c0002row2_col1\" class=\"data row2 col1\" >4</td>\n",
              "            </tr>\n",
              "            <tr>\n",
              "                        <th id=\"T_ff76952e_2fa4_11eb_bd86_0242ac1c0002level0_row3\" class=\"row_heading level0 row3\" >3</th>\n",
              "                        <td id=\"T_ff76952e_2fa4_11eb_bd86_0242ac1c0002row3_col0\" class=\"data row3 col0\" >kerja</td>\n",
              "                        <td id=\"T_ff76952e_2fa4_11eb_bd86_0242ac1c0002row3_col1\" class=\"data row3 col1\" >4</td>\n",
              "            </tr>\n",
              "            <tr>\n",
              "                        <th id=\"T_ff76952e_2fa4_11eb_bd86_0242ac1c0002level0_row4\" class=\"row_heading level0 row4\" >4</th>\n",
              "                        <td id=\"T_ff76952e_2fa4_11eb_bd86_0242ac1c0002row4_col0\" class=\"data row4 col0\" >pagi</td>\n",
              "                        <td id=\"T_ff76952e_2fa4_11eb_bd86_0242ac1c0002row4_col1\" class=\"data row4 col1\" >3</td>\n",
              "            </tr>\n",
              "            <tr>\n",
              "                        <th id=\"T_ff76952e_2fa4_11eb_bd86_0242ac1c0002level0_row5\" class=\"row_heading level0 row5\" >5</th>\n",
              "                        <td id=\"T_ff76952e_2fa4_11eb_bd86_0242ac1c0002row5_col0\" class=\"data row5 col0\" >jujur</td>\n",
              "                        <td id=\"T_ff76952e_2fa4_11eb_bd86_0242ac1c0002row5_col1\" class=\"data row5 col1\" >3</td>\n",
              "            </tr>\n",
              "            <tr>\n",
              "                        <th id=\"T_ff76952e_2fa4_11eb_bd86_0242ac1c0002level0_row6\" class=\"row_heading level0 row6\" >6</th>\n",
              "                        <td id=\"T_ff76952e_2fa4_11eb_bd86_0242ac1c0002row6_col0\" class=\"data row6 col0\" >berdoa</td>\n",
              "                        <td id=\"T_ff76952e_2fa4_11eb_bd86_0242ac1c0002row6_col1\" class=\"data row6 col1\" >3</td>\n",
              "            </tr>\n",
              "            <tr>\n",
              "                        <th id=\"T_ff76952e_2fa4_11eb_bd86_0242ac1c0002level0_row7\" class=\"row_heading level0 row7\" >7</th>\n",
              "                        <td id=\"T_ff76952e_2fa4_11eb_bd86_0242ac1c0002row7_col0\" class=\"data row7 col0\" >selamat</td>\n",
              "                        <td id=\"T_ff76952e_2fa4_11eb_bd86_0242ac1c0002row7_col1\" class=\"data row7 col1\" >3</td>\n",
              "            </tr>\n",
              "            <tr>\n",
              "                        <th id=\"T_ff76952e_2fa4_11eb_bd86_0242ac1c0002level0_row8\" class=\"row_heading level0 row8\" >8</th>\n",
              "                        <td id=\"T_ff76952e_2fa4_11eb_bd86_0242ac1c0002row8_col0\" class=\"data row8 col0\" >hidup</td>\n",
              "                        <td id=\"T_ff76952e_2fa4_11eb_bd86_0242ac1c0002row8_col1\" class=\"data row8 col1\" >3</td>\n",
              "            </tr>\n",
              "            <tr>\n",
              "                        <th id=\"T_ff76952e_2fa4_11eb_bd86_0242ac1c0002level0_row9\" class=\"row_heading level0 row9\" >9</th>\n",
              "                        <td id=\"T_ff76952e_2fa4_11eb_bd86_0242ac1c0002row9_col0\" class=\"data row9 col0\" >memiliki</td>\n",
              "                        <td id=\"T_ff76952e_2fa4_11eb_bd86_0242ac1c0002row9_col1\" class=\"data row9 col1\" >3</td>\n",
              "            </tr>\n",
              "    </tbody></table>"
            ],
            "text/plain": [
              "<pandas.io.formats.style.Styler at 0x7f52f3860cc0>"
            ]
          },
          "metadata": {
            "tags": []
          },
          "execution_count": 54
        }
      ]
    }
  ]
}